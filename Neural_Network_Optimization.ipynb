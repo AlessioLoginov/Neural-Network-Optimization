{
  "nbformat": 4,
  "nbformat_minor": 0,
  "metadata": {
    "colab": {
      "provenance": [],
      "gpuType": "T4"
    },
    "kernelspec": {
      "name": "python3",
      "display_name": "Python 3"
    },
    "language_info": {
      "name": "python"
    },
    "widgets": {
      "application/vnd.jupyter.widget-state+json": {
        "ab59f732bc654625a6e04dbeb0ae66fc": {
          "model_module": "@jupyter-widgets/controls",
          "model_name": "HBoxModel",
          "model_module_version": "1.5.0",
          "state": {
            "_dom_classes": [],
            "_model_module": "@jupyter-widgets/controls",
            "_model_module_version": "1.5.0",
            "_model_name": "HBoxModel",
            "_view_count": null,
            "_view_module": "@jupyter-widgets/controls",
            "_view_module_version": "1.5.0",
            "_view_name": "HBoxView",
            "box_style": "",
            "children": [
              "IPY_MODEL_ca023b64a9d84029a1ee13ed38cd1e1c",
              "IPY_MODEL_3c40ee2a6c6f4a2186182bb7a9827b3e",
              "IPY_MODEL_6ae1781d375c4aca9f204e6e7f08de73"
            ],
            "layout": "IPY_MODEL_0e162d06772a4571a49fe3aeaea7723c"
          }
        },
        "ca023b64a9d84029a1ee13ed38cd1e1c": {
          "model_module": "@jupyter-widgets/controls",
          "model_name": "HTMLModel",
          "model_module_version": "1.5.0",
          "state": {
            "_dom_classes": [],
            "_model_module": "@jupyter-widgets/controls",
            "_model_module_version": "1.5.0",
            "_model_name": "HTMLModel",
            "_view_count": null,
            "_view_module": "@jupyter-widgets/controls",
            "_view_module_version": "1.5.0",
            "_view_name": "HTMLView",
            "description": "",
            "description_tooltip": null,
            "layout": "IPY_MODEL_2c315305d35e45bdb42f69db1e6ab9e7",
            "placeholder": "​",
            "style": "IPY_MODEL_48ab46bb295e44128d700dceb41ed911",
            "value": "100%"
          }
        },
        "3c40ee2a6c6f4a2186182bb7a9827b3e": {
          "model_module": "@jupyter-widgets/controls",
          "model_name": "FloatProgressModel",
          "model_module_version": "1.5.0",
          "state": {
            "_dom_classes": [],
            "_model_module": "@jupyter-widgets/controls",
            "_model_module_version": "1.5.0",
            "_model_name": "FloatProgressModel",
            "_view_count": null,
            "_view_module": "@jupyter-widgets/controls",
            "_view_module_version": "1.5.0",
            "_view_name": "ProgressView",
            "bar_style": "success",
            "description": "",
            "description_tooltip": null,
            "layout": "IPY_MODEL_4bfc6cce6aa844919d68ba436419d223",
            "max": 6,
            "min": 0,
            "orientation": "horizontal",
            "style": "IPY_MODEL_3c242a57179e4feb96a4e460884b0ae3",
            "value": 6
          }
        },
        "6ae1781d375c4aca9f204e6e7f08de73": {
          "model_module": "@jupyter-widgets/controls",
          "model_name": "HTMLModel",
          "model_module_version": "1.5.0",
          "state": {
            "_dom_classes": [],
            "_model_module": "@jupyter-widgets/controls",
            "_model_module_version": "1.5.0",
            "_model_name": "HTMLModel",
            "_view_count": null,
            "_view_module": "@jupyter-widgets/controls",
            "_view_module_version": "1.5.0",
            "_view_name": "HTMLView",
            "description": "",
            "description_tooltip": null,
            "layout": "IPY_MODEL_604150098857422a991e765a92cc6380",
            "placeholder": "​",
            "style": "IPY_MODEL_3fa682776b364929b341167337843e00",
            "value": " 6/6 [1:30:38&lt;00:00, 1154.83s/it]"
          }
        },
        "0e162d06772a4571a49fe3aeaea7723c": {
          "model_module": "@jupyter-widgets/base",
          "model_name": "LayoutModel",
          "model_module_version": "1.2.0",
          "state": {
            "_model_module": "@jupyter-widgets/base",
            "_model_module_version": "1.2.0",
            "_model_name": "LayoutModel",
            "_view_count": null,
            "_view_module": "@jupyter-widgets/base",
            "_view_module_version": "1.2.0",
            "_view_name": "LayoutView",
            "align_content": null,
            "align_items": null,
            "align_self": null,
            "border": null,
            "bottom": null,
            "display": null,
            "flex": null,
            "flex_flow": null,
            "grid_area": null,
            "grid_auto_columns": null,
            "grid_auto_flow": null,
            "grid_auto_rows": null,
            "grid_column": null,
            "grid_gap": null,
            "grid_row": null,
            "grid_template_areas": null,
            "grid_template_columns": null,
            "grid_template_rows": null,
            "height": null,
            "justify_content": null,
            "justify_items": null,
            "left": null,
            "margin": null,
            "max_height": null,
            "max_width": null,
            "min_height": null,
            "min_width": null,
            "object_fit": null,
            "object_position": null,
            "order": null,
            "overflow": null,
            "overflow_x": null,
            "overflow_y": null,
            "padding": null,
            "right": null,
            "top": null,
            "visibility": null,
            "width": null
          }
        },
        "2c315305d35e45bdb42f69db1e6ab9e7": {
          "model_module": "@jupyter-widgets/base",
          "model_name": "LayoutModel",
          "model_module_version": "1.2.0",
          "state": {
            "_model_module": "@jupyter-widgets/base",
            "_model_module_version": "1.2.0",
            "_model_name": "LayoutModel",
            "_view_count": null,
            "_view_module": "@jupyter-widgets/base",
            "_view_module_version": "1.2.0",
            "_view_name": "LayoutView",
            "align_content": null,
            "align_items": null,
            "align_self": null,
            "border": null,
            "bottom": null,
            "display": null,
            "flex": null,
            "flex_flow": null,
            "grid_area": null,
            "grid_auto_columns": null,
            "grid_auto_flow": null,
            "grid_auto_rows": null,
            "grid_column": null,
            "grid_gap": null,
            "grid_row": null,
            "grid_template_areas": null,
            "grid_template_columns": null,
            "grid_template_rows": null,
            "height": null,
            "justify_content": null,
            "justify_items": null,
            "left": null,
            "margin": null,
            "max_height": null,
            "max_width": null,
            "min_height": null,
            "min_width": null,
            "object_fit": null,
            "object_position": null,
            "order": null,
            "overflow": null,
            "overflow_x": null,
            "overflow_y": null,
            "padding": null,
            "right": null,
            "top": null,
            "visibility": null,
            "width": null
          }
        },
        "48ab46bb295e44128d700dceb41ed911": {
          "model_module": "@jupyter-widgets/controls",
          "model_name": "DescriptionStyleModel",
          "model_module_version": "1.5.0",
          "state": {
            "_model_module": "@jupyter-widgets/controls",
            "_model_module_version": "1.5.0",
            "_model_name": "DescriptionStyleModel",
            "_view_count": null,
            "_view_module": "@jupyter-widgets/base",
            "_view_module_version": "1.2.0",
            "_view_name": "StyleView",
            "description_width": ""
          }
        },
        "4bfc6cce6aa844919d68ba436419d223": {
          "model_module": "@jupyter-widgets/base",
          "model_name": "LayoutModel",
          "model_module_version": "1.2.0",
          "state": {
            "_model_module": "@jupyter-widgets/base",
            "_model_module_version": "1.2.0",
            "_model_name": "LayoutModel",
            "_view_count": null,
            "_view_module": "@jupyter-widgets/base",
            "_view_module_version": "1.2.0",
            "_view_name": "LayoutView",
            "align_content": null,
            "align_items": null,
            "align_self": null,
            "border": null,
            "bottom": null,
            "display": null,
            "flex": null,
            "flex_flow": null,
            "grid_area": null,
            "grid_auto_columns": null,
            "grid_auto_flow": null,
            "grid_auto_rows": null,
            "grid_column": null,
            "grid_gap": null,
            "grid_row": null,
            "grid_template_areas": null,
            "grid_template_columns": null,
            "grid_template_rows": null,
            "height": null,
            "justify_content": null,
            "justify_items": null,
            "left": null,
            "margin": null,
            "max_height": null,
            "max_width": null,
            "min_height": null,
            "min_width": null,
            "object_fit": null,
            "object_position": null,
            "order": null,
            "overflow": null,
            "overflow_x": null,
            "overflow_y": null,
            "padding": null,
            "right": null,
            "top": null,
            "visibility": null,
            "width": null
          }
        },
        "3c242a57179e4feb96a4e460884b0ae3": {
          "model_module": "@jupyter-widgets/controls",
          "model_name": "ProgressStyleModel",
          "model_module_version": "1.5.0",
          "state": {
            "_model_module": "@jupyter-widgets/controls",
            "_model_module_version": "1.5.0",
            "_model_name": "ProgressStyleModel",
            "_view_count": null,
            "_view_module": "@jupyter-widgets/base",
            "_view_module_version": "1.2.0",
            "_view_name": "StyleView",
            "bar_color": null,
            "description_width": ""
          }
        },
        "604150098857422a991e765a92cc6380": {
          "model_module": "@jupyter-widgets/base",
          "model_name": "LayoutModel",
          "model_module_version": "1.2.0",
          "state": {
            "_model_module": "@jupyter-widgets/base",
            "_model_module_version": "1.2.0",
            "_model_name": "LayoutModel",
            "_view_count": null,
            "_view_module": "@jupyter-widgets/base",
            "_view_module_version": "1.2.0",
            "_view_name": "LayoutView",
            "align_content": null,
            "align_items": null,
            "align_self": null,
            "border": null,
            "bottom": null,
            "display": null,
            "flex": null,
            "flex_flow": null,
            "grid_area": null,
            "grid_auto_columns": null,
            "grid_auto_flow": null,
            "grid_auto_rows": null,
            "grid_column": null,
            "grid_gap": null,
            "grid_row": null,
            "grid_template_areas": null,
            "grid_template_columns": null,
            "grid_template_rows": null,
            "height": null,
            "justify_content": null,
            "justify_items": null,
            "left": null,
            "margin": null,
            "max_height": null,
            "max_width": null,
            "min_height": null,
            "min_width": null,
            "object_fit": null,
            "object_position": null,
            "order": null,
            "overflow": null,
            "overflow_x": null,
            "overflow_y": null,
            "padding": null,
            "right": null,
            "top": null,
            "visibility": null,
            "width": null
          }
        },
        "3fa682776b364929b341167337843e00": {
          "model_module": "@jupyter-widgets/controls",
          "model_name": "DescriptionStyleModel",
          "model_module_version": "1.5.0",
          "state": {
            "_model_module": "@jupyter-widgets/controls",
            "_model_module_version": "1.5.0",
            "_model_name": "DescriptionStyleModel",
            "_view_count": null,
            "_view_module": "@jupyter-widgets/base",
            "_view_module_version": "1.2.0",
            "_view_name": "StyleView",
            "description_width": ""
          }
        },
        "b66b3380ad034b28b3dafc88d3ce7f27": {
          "model_module": "@jupyter-widgets/controls",
          "model_name": "HBoxModel",
          "model_module_version": "1.5.0",
          "state": {
            "_dom_classes": [],
            "_model_module": "@jupyter-widgets/controls",
            "_model_module_version": "1.5.0",
            "_model_name": "HBoxModel",
            "_view_count": null,
            "_view_module": "@jupyter-widgets/controls",
            "_view_module_version": "1.5.0",
            "_view_name": "HBoxView",
            "box_style": "",
            "children": [
              "IPY_MODEL_e1a7b2e39fbd474baacbc741811b4b3f",
              "IPY_MODEL_29b041ea0ad5454784959dbe750ad055",
              "IPY_MODEL_79cea16735a84d38aa714ac3820e3ef9"
            ],
            "layout": "IPY_MODEL_daebdd4189a64212ae58fabaa258a3b2"
          }
        },
        "e1a7b2e39fbd474baacbc741811b4b3f": {
          "model_module": "@jupyter-widgets/controls",
          "model_name": "HTMLModel",
          "model_module_version": "1.5.0",
          "state": {
            "_dom_classes": [],
            "_model_module": "@jupyter-widgets/controls",
            "_model_module_version": "1.5.0",
            "_model_name": "HTMLModel",
            "_view_count": null,
            "_view_module": "@jupyter-widgets/controls",
            "_view_module_version": "1.5.0",
            "_view_name": "HTMLView",
            "description": "",
            "description_tooltip": null,
            "layout": "IPY_MODEL_e5532304627b480381754e89c05825bb",
            "placeholder": "​",
            "style": "IPY_MODEL_1975c1b73c874a5abc90725b70df7856",
            "value": "Running Experiments: 100%"
          }
        },
        "29b041ea0ad5454784959dbe750ad055": {
          "model_module": "@jupyter-widgets/controls",
          "model_name": "FloatProgressModel",
          "model_module_version": "1.5.0",
          "state": {
            "_dom_classes": [],
            "_model_module": "@jupyter-widgets/controls",
            "_model_module_version": "1.5.0",
            "_model_name": "FloatProgressModel",
            "_view_count": null,
            "_view_module": "@jupyter-widgets/controls",
            "_view_module_version": "1.5.0",
            "_view_name": "ProgressView",
            "bar_style": "success",
            "description": "",
            "description_tooltip": null,
            "layout": "IPY_MODEL_34cb1b6c61e149129b053dd4ae65c820",
            "max": 9,
            "min": 0,
            "orientation": "horizontal",
            "style": "IPY_MODEL_421c3561229f46f3bbdad99a575c0f99",
            "value": 9
          }
        },
        "79cea16735a84d38aa714ac3820e3ef9": {
          "model_module": "@jupyter-widgets/controls",
          "model_name": "HTMLModel",
          "model_module_version": "1.5.0",
          "state": {
            "_dom_classes": [],
            "_model_module": "@jupyter-widgets/controls",
            "_model_module_version": "1.5.0",
            "_model_name": "HTMLModel",
            "_view_count": null,
            "_view_module": "@jupyter-widgets/controls",
            "_view_module_version": "1.5.0",
            "_view_name": "HTMLView",
            "description": "",
            "description_tooltip": null,
            "layout": "IPY_MODEL_da823dda68674bf5995e4f96308ea92f",
            "placeholder": "​",
            "style": "IPY_MODEL_5fa8b08dce874524968e0bcdf801cf20",
            "value": " 9/9 [08:48&lt;00:00, 62.82s/it]"
          }
        },
        "daebdd4189a64212ae58fabaa258a3b2": {
          "model_module": "@jupyter-widgets/base",
          "model_name": "LayoutModel",
          "model_module_version": "1.2.0",
          "state": {
            "_model_module": "@jupyter-widgets/base",
            "_model_module_version": "1.2.0",
            "_model_name": "LayoutModel",
            "_view_count": null,
            "_view_module": "@jupyter-widgets/base",
            "_view_module_version": "1.2.0",
            "_view_name": "LayoutView",
            "align_content": null,
            "align_items": null,
            "align_self": null,
            "border": null,
            "bottom": null,
            "display": null,
            "flex": null,
            "flex_flow": null,
            "grid_area": null,
            "grid_auto_columns": null,
            "grid_auto_flow": null,
            "grid_auto_rows": null,
            "grid_column": null,
            "grid_gap": null,
            "grid_row": null,
            "grid_template_areas": null,
            "grid_template_columns": null,
            "grid_template_rows": null,
            "height": null,
            "justify_content": null,
            "justify_items": null,
            "left": null,
            "margin": null,
            "max_height": null,
            "max_width": null,
            "min_height": null,
            "min_width": null,
            "object_fit": null,
            "object_position": null,
            "order": null,
            "overflow": null,
            "overflow_x": null,
            "overflow_y": null,
            "padding": null,
            "right": null,
            "top": null,
            "visibility": null,
            "width": null
          }
        },
        "e5532304627b480381754e89c05825bb": {
          "model_module": "@jupyter-widgets/base",
          "model_name": "LayoutModel",
          "model_module_version": "1.2.0",
          "state": {
            "_model_module": "@jupyter-widgets/base",
            "_model_module_version": "1.2.0",
            "_model_name": "LayoutModel",
            "_view_count": null,
            "_view_module": "@jupyter-widgets/base",
            "_view_module_version": "1.2.0",
            "_view_name": "LayoutView",
            "align_content": null,
            "align_items": null,
            "align_self": null,
            "border": null,
            "bottom": null,
            "display": null,
            "flex": null,
            "flex_flow": null,
            "grid_area": null,
            "grid_auto_columns": null,
            "grid_auto_flow": null,
            "grid_auto_rows": null,
            "grid_column": null,
            "grid_gap": null,
            "grid_row": null,
            "grid_template_areas": null,
            "grid_template_columns": null,
            "grid_template_rows": null,
            "height": null,
            "justify_content": null,
            "justify_items": null,
            "left": null,
            "margin": null,
            "max_height": null,
            "max_width": null,
            "min_height": null,
            "min_width": null,
            "object_fit": null,
            "object_position": null,
            "order": null,
            "overflow": null,
            "overflow_x": null,
            "overflow_y": null,
            "padding": null,
            "right": null,
            "top": null,
            "visibility": null,
            "width": null
          }
        },
        "1975c1b73c874a5abc90725b70df7856": {
          "model_module": "@jupyter-widgets/controls",
          "model_name": "DescriptionStyleModel",
          "model_module_version": "1.5.0",
          "state": {
            "_model_module": "@jupyter-widgets/controls",
            "_model_module_version": "1.5.0",
            "_model_name": "DescriptionStyleModel",
            "_view_count": null,
            "_view_module": "@jupyter-widgets/base",
            "_view_module_version": "1.2.0",
            "_view_name": "StyleView",
            "description_width": ""
          }
        },
        "34cb1b6c61e149129b053dd4ae65c820": {
          "model_module": "@jupyter-widgets/base",
          "model_name": "LayoutModel",
          "model_module_version": "1.2.0",
          "state": {
            "_model_module": "@jupyter-widgets/base",
            "_model_module_version": "1.2.0",
            "_model_name": "LayoutModel",
            "_view_count": null,
            "_view_module": "@jupyter-widgets/base",
            "_view_module_version": "1.2.0",
            "_view_name": "LayoutView",
            "align_content": null,
            "align_items": null,
            "align_self": null,
            "border": null,
            "bottom": null,
            "display": null,
            "flex": null,
            "flex_flow": null,
            "grid_area": null,
            "grid_auto_columns": null,
            "grid_auto_flow": null,
            "grid_auto_rows": null,
            "grid_column": null,
            "grid_gap": null,
            "grid_row": null,
            "grid_template_areas": null,
            "grid_template_columns": null,
            "grid_template_rows": null,
            "height": null,
            "justify_content": null,
            "justify_items": null,
            "left": null,
            "margin": null,
            "max_height": null,
            "max_width": null,
            "min_height": null,
            "min_width": null,
            "object_fit": null,
            "object_position": null,
            "order": null,
            "overflow": null,
            "overflow_x": null,
            "overflow_y": null,
            "padding": null,
            "right": null,
            "top": null,
            "visibility": null,
            "width": null
          }
        },
        "421c3561229f46f3bbdad99a575c0f99": {
          "model_module": "@jupyter-widgets/controls",
          "model_name": "ProgressStyleModel",
          "model_module_version": "1.5.0",
          "state": {
            "_model_module": "@jupyter-widgets/controls",
            "_model_module_version": "1.5.0",
            "_model_name": "ProgressStyleModel",
            "_view_count": null,
            "_view_module": "@jupyter-widgets/base",
            "_view_module_version": "1.2.0",
            "_view_name": "StyleView",
            "bar_color": null,
            "description_width": ""
          }
        },
        "da823dda68674bf5995e4f96308ea92f": {
          "model_module": "@jupyter-widgets/base",
          "model_name": "LayoutModel",
          "model_module_version": "1.2.0",
          "state": {
            "_model_module": "@jupyter-widgets/base",
            "_model_module_version": "1.2.0",
            "_model_name": "LayoutModel",
            "_view_count": null,
            "_view_module": "@jupyter-widgets/base",
            "_view_module_version": "1.2.0",
            "_view_name": "LayoutView",
            "align_content": null,
            "align_items": null,
            "align_self": null,
            "border": null,
            "bottom": null,
            "display": null,
            "flex": null,
            "flex_flow": null,
            "grid_area": null,
            "grid_auto_columns": null,
            "grid_auto_flow": null,
            "grid_auto_rows": null,
            "grid_column": null,
            "grid_gap": null,
            "grid_row": null,
            "grid_template_areas": null,
            "grid_template_columns": null,
            "grid_template_rows": null,
            "height": null,
            "justify_content": null,
            "justify_items": null,
            "left": null,
            "margin": null,
            "max_height": null,
            "max_width": null,
            "min_height": null,
            "min_width": null,
            "object_fit": null,
            "object_position": null,
            "order": null,
            "overflow": null,
            "overflow_x": null,
            "overflow_y": null,
            "padding": null,
            "right": null,
            "top": null,
            "visibility": null,
            "width": null
          }
        },
        "5fa8b08dce874524968e0bcdf801cf20": {
          "model_module": "@jupyter-widgets/controls",
          "model_name": "DescriptionStyleModel",
          "model_module_version": "1.5.0",
          "state": {
            "_model_module": "@jupyter-widgets/controls",
            "_model_module_version": "1.5.0",
            "_model_name": "DescriptionStyleModel",
            "_view_count": null,
            "_view_module": "@jupyter-widgets/base",
            "_view_module_version": "1.2.0",
            "_view_name": "StyleView",
            "description_width": ""
          }
        }
      }
    },
    "accelerator": "GPU"
  },
  "cells": [
    {
      "cell_type": "markdown",
      "metadata": {
        "collapsed": true,
        "id": "h97RdWrNxjed"
      },
      "source": [
        "# Домашнее задание. Свёрточные сети\n",
        "\n",
        "Здесь вам предстоит построить и обучить свою первую свёрточную сеть для классификации изображений на данных CIFAR10."
      ]
    },
    {
      "cell_type": "code",
      "execution_count": 1,
      "metadata": {
        "id": "Bj5T_3dxxjee"
      },
      "outputs": [],
      "source": [
        "import tensorflow as tf\n",
        "\n",
        "from tqdm import tqdm_notebook"
      ]
    },
    {
      "cell_type": "markdown",
      "metadata": {
        "id": "8967u5Bzxjef"
      },
      "source": [
        "## Данные\n",
        "\n",
        "CIFAR10\n",
        "* 60000 RGB изображений размером 32x32x3\n",
        "* 10 классов: самолёты, собаки, рыбы и т.п.\n",
        "\n",
        "<img src=\"https://www.samyzaf.com/ML/cifar10/cifar1.jpg\" style=\"width:60%\">"
      ]
    },
    {
      "cell_type": "markdown",
      "metadata": {
        "id": "xFMGMCFrxjef"
      },
      "source": [
        "Загрузите данные, разделите их на обучающую и тестовую выборки. Размер тестовой выборки должен быть $10^4$."
      ]
    },
    {
      "cell_type": "code",
      "execution_count": 2,
      "metadata": {
        "id": "bf04QwsBxjef",
        "colab": {
          "base_uri": "https://localhost:8080/"
        },
        "outputId": "18eafc1b-dd67-4c5e-cb9b-567ff2f01548"
      },
      "outputs": [
        {
          "output_type": "stream",
          "name": "stdout",
          "text": [
            "Downloading data from https://www.cs.toronto.edu/~kriz/cifar-10-python.tar.gz\n",
            "\u001b[1m170498071/170498071\u001b[0m \u001b[32m━━━━━━━━━━━━━━━━━━━━\u001b[0m\u001b[37m\u001b[0m \u001b[1m3s\u001b[0m 0us/step\n",
            "(40000, 32, 32, 3) (40000, 1)\n"
          ]
        }
      ],
      "source": [
        "import numpy as np\n",
        "from keras.datasets import cifar10\n",
        "from sklearn.model_selection import train_test_split\n",
        "(X_train, y_train), (X_test, y_test) = cifar10.load_data()\n",
        "X_train, X_val, y_train, y_val = train_test_split(X_train, y_train, test_size=10**4, random_state=42)\n",
        "\n",
        "class_names = np.array(['airplane','automobile ','bird ','cat ','deer ','dog ','frog ','horse ','ship ','truck'])\n",
        "\n",
        "print (X_train.shape,y_train.shape)"
      ]
    },
    {
      "cell_type": "markdown",
      "source": [
        "#Мои комментарии\n",
        "\n",
        "Мы загрузили данные CIFAR10 с использованием keras.datasets.cifar10 и успешно разделили обучающий набор на две части:\n",
        "\n",
        "**Основное обучающее множество X_train и y_train (40,000 изображений).**\n",
        "\n",
        "Валидационное множество X_val и y_val (10,000 изображений).\n",
        "\n",
        "Датасет состоит из цветных изображений размером 32x32x3, где:\n",
        "\n",
        "X_train.shape: (40,000, 32, 32, 3) — данные изображений.\n",
        "y_train.shape: (40,000, 1) — метки классов.\n",
        "\n",
        "Также мы определили массив class_names для удобного представления классов (например, 'airplane', 'dog').\n",
        "\n",
        "Итоговое распределение:\n",
        "\n",
        "Обучающее множество (X_train): 40,000 изображений.\n",
        "\n",
        "Валидационное множество (X_val): 10,000 изображений.\n",
        "\n",
        "Тестовое множество (X_test): 10,000 изображений."
      ],
      "metadata": {
        "id": "U9NcBprXzinA"
      }
    },
    {
      "cell_type": "code",
      "source": [
        "import numpy as np\n",
        "print(\"Количество уникальных классов в y_train:\", np.unique(y_train))\n"
      ],
      "metadata": {
        "colab": {
          "base_uri": "https://localhost:8080/"
        },
        "id": "ImVXohua0ija",
        "outputId": "8b36a7de-3fd7-4f1c-8465-29c5d3b1bfce"
      },
      "execution_count": 3,
      "outputs": [
        {
          "output_type": "stream",
          "name": "stdout",
          "text": [
            "Количество уникальных классов в y_train: [0 1 2 3 4 5 6 7 8 9]\n"
          ]
        }
      ]
    },
    {
      "cell_type": "markdown",
      "metadata": {
        "id": "_XS_kZF9xjeh"
      },
      "source": [
        "Прежде чем приступать к основной работе, стоит убедиться что загружено именно то, что требовалось:"
      ]
    },
    {
      "cell_type": "code",
      "execution_count": 4,
      "metadata": {
        "id": "1Sih-A1Dxjeh",
        "colab": {
          "base_uri": "https://localhost:8080/",
          "height": 828
        },
        "outputId": "794ad422-f82f-4a23-d2c4-d3d808770c40"
      },
      "outputs": [
        {
          "output_type": "display_data",
          "data": {
            "text/plain": [
              "<Figure size 1200x1000 with 12 Axes>"
            ],
            "image/png": "[encoded data removed]"
          },
          "metadata": {}
        }
      ],
      "source": [
        "import matplotlib.pyplot as plt\n",
        "%matplotlib inline\n",
        "\n",
        "plt.figure(figsize=[12,10])\n",
        "for i in range(12):\n",
        "    plt.subplot(3, 4, i + 1)\n",
        "    plt.xlabel(class_names[y_train[i, 0]])\n",
        "    plt.imshow(X_train[i])"
      ]
    },
    {
      "cell_type": "markdown",
      "source": [
        "#Мои комментарии\n",
        "\n",
        "Полученные визуализации данных соответствуют описанию.\n",
        "\n",
        "Загруженные изображения выглядят так, как и ожидалось: это 32x32 пикселей изображения, принадлежащие к различным классам (например, frog, bird, dog, и т.д.).\n",
        "\n",
        "Также отображены их соответствующие метки классов, что позволяет убедиться в правильной загрузке и разбиении данных."
      ],
      "metadata": {
        "id": "zxqqa7D2-Y1L"
      }
    },
    {
      "cell_type": "markdown",
      "metadata": {
        "id": "2iXiYWbdxjei"
      },
      "source": [
        "## Подготовка данных\n",
        "\n",
        "Сейчас каждый пиксель изображения закодирован тройкой чисел (RGB) __от 0 до 255__. Однако лучше себя показывает подход, где значения входов нейросети распределены недалеко от 0.\n",
        "\n",
        "Давайте приведём все данные в диапазон __`[0, 1]`__ — просто разделим на соответствующий коэффициент:"
      ]
    },
    {
      "cell_type": "code",
      "execution_count": 5,
      "metadata": {
        "id": "OhIwnVXdxjei"
      },
      "outputs": [],
      "source": [
        "X_train = X_train / 255\n",
        "X_val = X_val / 255\n",
        "X_test = X_test / 255"
      ]
    },
    {
      "cell_type": "markdown",
      "metadata": {
        "id": "WSRXEBo9xjej"
      },
      "source": [
        "Исполните код ниже для проверки, что все выполнено корректно."
      ]
    },
    {
      "cell_type": "code",
      "execution_count": 6,
      "metadata": {
        "id": "iZQD2dTpxjej"
      },
      "outputs": [],
      "source": [
        "assert np.shape(X_train) == (40000, 32, 32, 3), \"data shape should not change\"\n",
        "assert 0.9 <= max(map(np.max, (X_train, X_val, X_test))) <= 1.05\n",
        "assert 0.0 <= min(map(np.min, (X_train, X_val, X_test))) <= 0.1\n",
        "assert len(np.unique(X_test / 255.)) > 10, \"make sure you casted data to float type\""
      ]
    },
    {
      "cell_type": "markdown",
      "source": [
        "#Мой комментарий\n",
        "\n",
        "Так как assert не выдает ошибок, данные готовы для использования в модели."
      ],
      "metadata": {
        "id": "lv6Z71Uf_Xf2"
      }
    },
    {
      "cell_type": "markdown",
      "metadata": {
        "id": "qdztr8BHxjej"
      },
      "source": [
        "## Архитектура сети\n",
        "\n",
        "Для начала реализуйте простую нейросеть:\n",
        "1. принимает на вход картинки размера 32 x 32 x 3;\n",
        "2. вытягивает их в вектор (`keras.layers.Flatten`);\n",
        "3. пропускает через 1 или 2 полносвязных слоя;\n",
        "4. выходной слой отдает вероятности принадлежности к каждому из 10 классов."
      ]
    },
    {
      "cell_type": "code",
      "execution_count": null,
      "metadata": {
        "id": "P0B2-vnExjek"
      },
      "outputs": [],
      "source": [
        "import keras\n",
        "from keras import layers as L\n",
        "from keras import backend as K"
      ]
    },
    {
      "cell_type": "code",
      "execution_count": null,
      "metadata": {
        "id": "Ub9pQE0Nxjek",
        "colab": {
          "base_uri": "https://localhost:8080/"
        },
        "outputId": "2c12359a-af99-4a16-91f0-8f42e6720759"
      },
      "outputs": [
        {
          "output_type": "stream",
          "name": "stderr",
          "text": [
            "/usr/local/lib/python3.11/dist-packages/keras/src/layers/core/dense.py:87: UserWarning: Do not pass an `input_shape`/`input_dim` argument to a layer. When using Sequential models, prefer using an `Input(shape)` object as the first layer in the model instead.\n",
            "  super().__init__(activity_regularizer=activity_regularizer, **kwargs)\n"
          ]
        }
      ],
      "source": [
        "model = tf.keras.models.Sequential([\n",
        "        tf.keras.layers.Dense(32, activation='relu', input_shape=X_train.shape[1:]),\n",
        "        tf.keras.layers.Flatten(),\n",
        "        tf.keras.layers.Dense(32, activation='relu'),\n",
        "        tf.keras.layers.Dense(32, activation='relu'),\n",
        "        tf.keras.layers.Dense(10, activation='softmax')\n",
        "\n",
        "])"
      ]
    },
    {
      "cell_type": "code",
      "execution_count": null,
      "metadata": {
        "id": "Yg6VYd3qxjel",
        "colab": {
          "base_uri": "https://localhost:8080/"
        },
        "outputId": "4d776834-8c67-4284-d986-b79e04d1c3b1"
      },
      "outputs": [
        {
          "output_type": "stream",
          "name": "stdout",
          "text": [
            "\u001b[1m1/1\u001b[0m \u001b[32m━━━━━━━━━━━━━━━━━━━━\u001b[0m\u001b[37m\u001b[0m \u001b[1m0s\u001b[0m 451ms/step\n",
            "Успех!\n"
          ]
        }
      ],
      "source": [
        "dummy_pred = model.predict(X_train[:20])\n",
        "assert dummy_pred.shape == (20, 10)\n",
        "assert np.allclose(dummy_pred.sum(-1), 1)\n",
        "print(\"Успех!\")"
      ]
    },
    {
      "cell_type": "markdown",
      "source": [
        "#Мой комментарий\n",
        "\n",
        "Данный код строит простую полносвязную нейронную сеть и проверяет её работоспособность.\n",
        "\n",
        "**Архитектура сети**\n",
        "\n",
        "tf.keras.layers.Dense(32, activation='relu', input_shape=X_train.shape[1:]):\n",
        "\n",
        "Полносвязный слой с 32 нейронами.\n",
        "\n",
        "input_shape определяет размерность входных данных (32x32x3).\n",
        "\n",
        "Используется функция активации ReLU.\n",
        "\n",
        "tf.keras.layers.Flatten():\n",
        "\n",
        "Преобразует 3D-данные изображения (32x32x3) в одномерный вектор.\n",
        "\n",
        "Дополнительные Dense-слои:\n",
        "\n",
        "Два слоя по 32 нейрона с активацией ReLU.\n",
        "Они добавляют нелинейность и увеличивают вычислительную мощность модели.\n",
        "\n",
        "Выходной слой:\n",
        "\n",
        "tf.keras.layers.Dense(10, activation='softmax') — выходной слой с 10 нейронами для классификации 10 классов CIFAR10.\n",
        "\n",
        "softmax превращает выход в вероятности, сумма которых равна 1.\n",
        "\n",
        "**Проверки**\n",
        "dummy_pred.shape == (20, 10):\n",
        "\n",
        "Проверяет, что модель выдает выходы для 20 изображений, каждое из которых состоит из 10 вероятностей (по числу классов).\n",
        "\n",
        "np.allclose(dummy_pred.sum(-1), 1):\n",
        "\n",
        "Убедиться, что сумма вероятностей для каждого изображения равна 1.\n",
        "\n",
        "print(\"Успех!\"):\n",
        "\n",
        "Указывает, что все проверки пройдены успешно.\n",
        "\n",
        "**Замечания**\n",
        "\n",
        "Предупреждение (UserWarning) связано с использованием input_shape внутри слоя Dense. Рекомендуется использовать tf.keras.Input(shape=(32, 32, 3)) в качестве первого слоя, но это не критично.\n"
      ],
      "metadata": {
        "id": "j89SmfzQAbgI"
      }
    },
    {
      "cell_type": "markdown",
      "metadata": {
        "id": "WGcAp1lexjel"
      },
      "source": [
        "## Обучение сети\n",
        "\n",
        "**Задание 1.1 (обязательно)** Будем минимизировать многоклассовую кроссэкнропию с помощью __sgd__. Вам нужно получить сеть, которая достигнет __не менее 45%__ __accuracy__ на тестовых данных.\n",
        "\n",
        "__Важно:__ поскольку в y_train лежат номера классов, Керасу нужно либо указать sparse функции потерь и метрики оценки качества классификации (`sparse_categorical_crossentropy` и `sparse_categorical_accuracy`), либо конвертировать метки в one-hot формат.\n",
        "\n",
        "### Полезные советы\n",
        "* `model.compile` позволяет указать, какие метрики вы хотите вычислять.\n",
        "* В `model.fit` можно передать валидационную выборку (`validation_data=[X_val, y_val]`), для отслеживания прогресса на ней. Также рекомендуем сохранять результаты в [tensorboard](https://keras.io/callbacks/#tensorboard) или [wandb](https://docs.wandb.ai/integrations/jupyter). **Важно: логи tensorboard не получится без боли посмотреть через colab.** Workaround: скачать логи и запустить tensorboard локально или помучаться [с этим](https://stackoverflow.com/questions/47818822/can-i-use-tensorboard-with-google-colab).\n",
        "* По умолчанию сеть учится 1 эпоху. Совсем не факт, что вам этого хватит. Число эпох можно настроить в методе `fit` (`epochs`).\n",
        "* Ещё у Кераса есть много [полезных callback-ов](https://keras.io/callbacks/), которые можно попробовать. Например, автоматическая остановка или подбор скорости обучения."
      ]
    },
    {
      "cell_type": "code",
      "execution_count": null,
      "metadata": {
        "id": "7iVWfkypxjel"
      },
      "outputs": [],
      "source": [
        "y_train, y_val = (keras.utils.to_categorical(y) for y in (y_train, y_val))"
      ]
    },
    {
      "cell_type": "code",
      "source": [
        "y_train, y_val = (np.argmax(y, axis=1) if len(y.shape) > 1 else y for y in (y_train, y_val))\n",
        "\n",
        "callbacks = [\n",
        "    tf.keras.callbacks.ModelCheckpoint(filepath='model.{epoch:02d}-{val_loss:.2f}.keras'),\n",
        "    tf.keras.callbacks.TensorBoard(log_dir='./logs'),\n",
        "    tf.keras.callbacks.EarlyStopping(patience=3)\n",
        "]\n",
        "\n",
        "# Компиляция модели\n",
        "model.compile(\n",
        "    optimizer=tf.keras.optimizers.SGD(learning_rate=0.01),  # Пример оптимизатора\n",
        "    loss='sparse_categorical_crossentropy',  # Для целых чисел меток классов\n",
        "    metrics=['sparse_categorical_accuracy']  # Точность для целочисленных меток\n",
        ")\n",
        "\n",
        "# Обучение модели\n",
        "history = model.fit(\n",
        "    X_train, y_train,\n",
        "    batch_size=16,\n",
        "    epochs=32,\n",
        "    callbacks=callbacks,\n",
        "    validation_data=(X_val, y_val)\n",
        ")\n"
      ],
      "metadata": {
        "colab": {
          "base_uri": "https://localhost:8080/"
        },
        "id": "WgdwGAqlC8LT",
        "outputId": "47a7cb00-1572-4e7c-da07-865558527a44"
      },
      "execution_count": null,
      "outputs": [
        {
          "output_type": "stream",
          "name": "stdout",
          "text": [
            "Epoch 1/32\n",
            "\u001b[1m2500/2500\u001b[0m \u001b[32m━━━━━━━━━━━━━━━━━━━━\u001b[0m\u001b[37m\u001b[0m \u001b[1m38s\u001b[0m 14ms/step - loss: 2.0193 - sparse_categorical_accuracy: 0.2610 - val_loss: 1.7087 - val_sparse_categorical_accuracy: 0.3929\n",
            "Epoch 2/32\n",
            "\u001b[1m2500/2500\u001b[0m \u001b[32m━━━━━━━━━━━━━━━━━━━━\u001b[0m\u001b[37m\u001b[0m \u001b[1m41s\u001b[0m 14ms/step - loss: 1.6646 - sparse_categorical_accuracy: 0.4053 - val_loss: 1.5754 - val_sparse_categorical_accuracy: 0.4433\n",
            "Epoch 3/32\n",
            "\u001b[1m2500/2500\u001b[0m \u001b[32m━━━━━━━━━━━━━━━━━━━━\u001b[0m\u001b[37m\u001b[0m \u001b[1m37s\u001b[0m 15ms/step - loss: 1.5502 - sparse_categorical_accuracy: 0.4501 - val_loss: 1.5183 - val_sparse_categorical_accuracy: 0.4638\n",
            "Epoch 4/32\n",
            "\u001b[1m2500/2500\u001b[0m \u001b[32m━━━━━━━━━━━━━━━━━━━━\u001b[0m\u001b[37m\u001b[0m \u001b[1m40s\u001b[0m 15ms/step - loss: 1.4774 - sparse_categorical_accuracy: 0.4757 - val_loss: 1.5143 - val_sparse_categorical_accuracy: 0.4655\n",
            "Epoch 5/32\n",
            "\u001b[1m2500/2500\u001b[0m \u001b[32m━━━━━━━━━━━━━━━━━━━━\u001b[0m\u001b[37m\u001b[0m \u001b[1m39s\u001b[0m 14ms/step - loss: 1.4234 - sparse_categorical_accuracy: 0.4968 - val_loss: 1.4537 - val_sparse_categorical_accuracy: 0.4925\n",
            "Epoch 6/32\n",
            "\u001b[1m2500/2500\u001b[0m \u001b[32m━━━━━━━━━━━━━━━━━━━━\u001b[0m\u001b[37m\u001b[0m \u001b[1m36s\u001b[0m 15ms/step - loss: 1.3842 - sparse_categorical_accuracy: 0.5090 - val_loss: 1.4431 - val_sparse_categorical_accuracy: 0.4911\n",
            "Epoch 7/32\n",
            "\u001b[1m2500/2500\u001b[0m \u001b[32m━━━━━━━━━━━━━━━━━━━━\u001b[0m\u001b[37m\u001b[0m \u001b[1m35s\u001b[0m 14ms/step - loss: 1.3374 - sparse_categorical_accuracy: 0.5272 - val_loss: 1.4385 - val_sparse_categorical_accuracy: 0.4967\n",
            "Epoch 8/32\n",
            "\u001b[1m2500/2500\u001b[0m \u001b[32m━━━━━━━━━━━━━━━━━━━━\u001b[0m\u001b[37m\u001b[0m \u001b[1m41s\u001b[0m 14ms/step - loss: 1.2986 - sparse_categorical_accuracy: 0.5391 - val_loss: 1.3901 - val_sparse_categorical_accuracy: 0.5159\n",
            "Epoch 9/32\n",
            "\u001b[1m2500/2500\u001b[0m \u001b[32m━━━━━━━━━━━━━━━━━━━━\u001b[0m\u001b[37m\u001b[0m \u001b[1m41s\u001b[0m 14ms/step - loss: 1.2768 - sparse_categorical_accuracy: 0.5465 - val_loss: 1.4153 - val_sparse_categorical_accuracy: 0.5097\n",
            "Epoch 10/32\n",
            "\u001b[1m2500/2500\u001b[0m \u001b[32m━━━━━━━━━━━━━━━━━━━━\u001b[0m\u001b[37m\u001b[0m \u001b[1m44s\u001b[0m 15ms/step - loss: 1.2469 - sparse_categorical_accuracy: 0.5569 - val_loss: 1.3903 - val_sparse_categorical_accuracy: 0.5191\n",
            "Epoch 11/32\n",
            "\u001b[1m2500/2500\u001b[0m \u001b[32m━━━━━━━━━━━━━━━━━━━━\u001b[0m\u001b[37m\u001b[0m \u001b[1m37s\u001b[0m 15ms/step - loss: 1.2228 - sparse_categorical_accuracy: 0.5663 - val_loss: 1.4237 - val_sparse_categorical_accuracy: 0.5128\n"
          ]
        }
      ]
    },
    {
      "cell_type": "markdown",
      "source": [
        "#Мой комментарий\n",
        "\n",
        "Обучение остановилось из-за ранней остановки (EarlyStopping), которая была настроена с параметром patience=3.\n",
        "\n",
        "Этот параметр задаёт количество эпох, в течение которых обучение будет продолжаться, даже если метрика на валидационной выборке (например, val_loss) перестанет улучшаться.\n",
        "\n",
        "\n",
        "**Сработал EarlyStopping: модель завершила обучение, чтобы не тратить ресурсы на обучение, которое не приводит к улучшению на валидационной выборке.**"
      ],
      "metadata": {
        "id": "wQkOkUM5FZal"
      }
    },
    {
      "cell_type": "markdown",
      "metadata": {
        "id": "ZODNxMaQxjem"
      },
      "source": [
        "А теперь можно проверить качество вашей сети, выполнив код ниже:"
      ]
    },
    {
      "cell_type": "code",
      "execution_count": null,
      "metadata": {
        "id": "14l7JHe_xjem",
        "scrolled": true,
        "colab": {
          "base_uri": "https://localhost:8080/"
        },
        "outputId": "7aab4d02-c23f-4c6b-f8a0-e75d43b99398"
      },
      "outputs": [
        {
          "output_type": "stream",
          "name": "stdout",
          "text": [
            "\u001b[1m313/313\u001b[0m \u001b[32m━━━━━━━━━━━━━━━━━━━━\u001b[0m\u001b[37m\u001b[0m \u001b[1m3s\u001b[0m 10ms/step\n",
            "\n",
            " Test_acc = 0.5129\n",
            " Not bad!\n"
          ]
        }
      ],
      "source": [
        "from sklearn.metrics import accuracy_score\n",
        "\n",
        "predict_x=model.predict(X_test)\n",
        "classes_x=np.argmax(predict_x,axis=1)\n",
        "\n",
        "test_acc = accuracy_score(y_test, classes_x)\n",
        "print(\"\\n Test_acc =\", test_acc)\n",
        "assert test_acc > 0.45, \"Not good enough. Back to the drawing board :)\"\n",
        "print(\" Not bad!\")"
      ]
    },
    {
      "cell_type": "markdown",
      "source": [
        "#Мой комментарий\n",
        "\n",
        "**Мы достигли точности на тестовом множестве 51.29%, что превосходит минимальное требование в 45%. Это означает, что модель уже достаточно хороша для базового использования.**\n",
        "\n",
        "\n",
        "Это хороший результат для базовой архитектуры, особенно с учетом простоты модели."
      ],
      "metadata": {
        "id": "q_jeZQY9GKzy"
      }
    },
    {
      "cell_type": "markdown",
      "metadata": {
        "id": "cm_SvVrqxjen"
      },
      "source": [
        "## Карманная сверточная сеть\n",
        "\n",
        "**Задание 1.2 (обязательно)** Реализуйте небольшую свёрточную сеть. Совсем небольшую:\n",
        "1. Входной слой\n",
        "2. Свёртка 3x3 с 10 фильтрами\n",
        "3. Нелинейность на ваш вкус\n",
        "4. Max-pooling 2x2\n",
        "5. Вытягиваем оставшееся в вектор (Flatten)\n",
        "6. Полносвязный слой на 100 нейронов\n",
        "7. Нелинейность на ваш вкус\n",
        "8. Выходной полносвязный слой с softmax\n",
        "\n",
        "Обучите её так же, как и предыдущую сеть. Если всё хорошо, у вас получится accuracy не меньше __50%__."
      ]
    },
    {
      "cell_type": "code",
      "source": [
        "# Импорт необходимых библиотек\n",
        "from tensorflow.keras.models import Sequential\n",
        "from tensorflow.keras.layers import Conv2D, MaxPooling2D, Flatten, Dense, Activation\n",
        "from tensorflow.keras.callbacks import ModelCheckpoint, TensorBoard, EarlyStopping\n",
        "\n",
        "# Определение архитектуры сети\n",
        "new_model = Sequential([\n",
        "    # Входной слой с первым сверточным слоем: свертка 3x3 с 10 фильтрами\n",
        "    Conv2D(filters=10, kernel_size=(3, 3), activation='relu', input_shape=X_train.shape[1:]),\n",
        "\n",
        "    # MaxPooling слой 2x2\n",
        "    MaxPooling2D(pool_size=(2, 2)),\n",
        "\n",
        "    # Вытягивание вектора\n",
        "    Flatten(),\n",
        "\n",
        "    # Полносвязный слой с 100 нейронами\n",
        "    Dense(100, activation='relu'),\n",
        "\n",
        "    # Выходной слой с softmax для вероятностей по каждому из 10 классов\n",
        "    Dense(10, activation='softmax')\n",
        "])\n",
        "\n",
        "# Определение callbacks\n",
        "new_callbacks = [\n",
        "    # Сохранение модели с минимальной ошибкой на валидации\n",
        "    ModelCheckpoint(filepath='new_model.epoch{epoch:02d}-val_loss{val_loss:.2f}.keras', save_best_only=True),\n",
        "\n",
        "    # Логирование для TensorBoard\n",
        "    TensorBoard(log_dir='./logs'),\n",
        "\n",
        "    # Раннее прекращение обучения, если метрики не улучшаются 3 эпохи подряд\n",
        "    EarlyStopping(patience=3)\n",
        "]\n",
        "\n",
        "# Компиляция модели\n",
        "new_model.compile(\n",
        "    optimizer=tf.keras.optimizers.SGD(learning_rate=0.01),  # Стохастический градиентный спуск\n",
        "    loss='sparse_categorical_crossentropy',  # Многоклассовая кроссэнтропия\n",
        "    metrics=['sparse_categorical_accuracy']  # Метрика точности\n",
        ")\n",
        "\n",
        "# Обучение модели\n",
        "history = new_model.fit(\n",
        "    X_train, y_train,\n",
        "    batch_size=16,  # Размер батча\n",
        "    epochs=32,  # Количество эпох\n",
        "    callbacks=new_callbacks,  # Использование определённых callbacks\n",
        "    validation_split=0.2  # Отделяем 20% данных для валидации\n",
        ")\n"
      ],
      "metadata": {
        "colab": {
          "base_uri": "https://localhost:8080/"
        },
        "id": "imuTVdCUG7rq",
        "outputId": "03099539-842c-4b43-a8f5-f28fbeb0ba3d"
      },
      "execution_count": null,
      "outputs": [
        {
          "output_type": "stream",
          "name": "stderr",
          "text": [
            "/usr/local/lib/python3.11/dist-packages/keras/src/layers/convolutional/base_conv.py:107: UserWarning: Do not pass an `input_shape`/`input_dim` argument to a layer. When using Sequential models, prefer using an `Input(shape)` object as the first layer in the model instead.\n",
            "  super().__init__(activity_regularizer=activity_regularizer, **kwargs)\n"
          ]
        },
        {
          "output_type": "stream",
          "name": "stdout",
          "text": [
            "Epoch 1/32\n",
            "\u001b[1m2000/2000\u001b[0m \u001b[32m━━━━━━━━━━━━━━━━━━━━\u001b[0m\u001b[37m\u001b[0m \u001b[1m28s\u001b[0m 13ms/step - loss: 2.0023 - sparse_categorical_accuracy: 0.2724 - val_loss: 1.6695 - val_sparse_categorical_accuracy: 0.3988\n",
            "Epoch 2/32\n",
            "\u001b[1m2000/2000\u001b[0m \u001b[32m━━━━━━━━━━━━━━━━━━━━\u001b[0m\u001b[37m\u001b[0m \u001b[1m38s\u001b[0m 12ms/step - loss: 1.6076 - sparse_categorical_accuracy: 0.4258 - val_loss: 1.5218 - val_sparse_categorical_accuracy: 0.4441\n",
            "Epoch 3/32\n",
            "\u001b[1m2000/2000\u001b[0m \u001b[32m━━━━━━━━━━━━━━━━━━━━\u001b[0m\u001b[37m\u001b[0m \u001b[1m41s\u001b[0m 12ms/step - loss: 1.4661 - sparse_categorical_accuracy: 0.4785 - val_loss: 1.4403 - val_sparse_categorical_accuracy: 0.4829\n",
            "Epoch 4/32\n",
            "\u001b[1m2000/2000\u001b[0m \u001b[32m━━━━━━━━━━━━━━━━━━━━\u001b[0m\u001b[37m\u001b[0m \u001b[1m42s\u001b[0m 12ms/step - loss: 1.3695 - sparse_categorical_accuracy: 0.5102 - val_loss: 1.4125 - val_sparse_categorical_accuracy: 0.4900\n",
            "Epoch 5/32\n",
            "\u001b[1m2000/2000\u001b[0m \u001b[32m━━━━━━━━━━━━━━━━━━━━\u001b[0m\u001b[37m\u001b[0m \u001b[1m42s\u001b[0m 13ms/step - loss: 1.2995 - sparse_categorical_accuracy: 0.5389 - val_loss: 1.3542 - val_sparse_categorical_accuracy: 0.5184\n",
            "Epoch 6/32\n",
            "\u001b[1m2000/2000\u001b[0m \u001b[32m━━━━━━━━━━━━━━━━━━━━\u001b[0m\u001b[37m\u001b[0m \u001b[1m26s\u001b[0m 13ms/step - loss: 1.2208 - sparse_categorical_accuracy: 0.5721 - val_loss: 1.2775 - val_sparse_categorical_accuracy: 0.5434\n",
            "Epoch 7/32\n",
            "\u001b[1m2000/2000\u001b[0m \u001b[32m━━━━━━━━━━━━━━━━━━━━\u001b[0m\u001b[37m\u001b[0m \u001b[1m24s\u001b[0m 12ms/step - loss: 1.1631 - sparse_categorical_accuracy: 0.5918 - val_loss: 1.2412 - val_sparse_categorical_accuracy: 0.5611\n",
            "Epoch 8/32\n",
            "\u001b[1m2000/2000\u001b[0m \u001b[32m━━━━━━━━━━━━━━━━━━━━\u001b[0m\u001b[37m\u001b[0m \u001b[1m44s\u001b[0m 14ms/step - loss: 1.0787 - sparse_categorical_accuracy: 0.6249 - val_loss: 1.2134 - val_sparse_categorical_accuracy: 0.5702\n",
            "Epoch 9/32\n",
            "\u001b[1m2000/2000\u001b[0m \u001b[32m━━━━━━━━━━━━━━━━━━━━\u001b[0m\u001b[37m\u001b[0m \u001b[1m27s\u001b[0m 13ms/step - loss: 1.0331 - sparse_categorical_accuracy: 0.6375 - val_loss: 1.2666 - val_sparse_categorical_accuracy: 0.5566\n",
            "Epoch 10/32\n",
            "\u001b[1m2000/2000\u001b[0m \u001b[32m━━━━━━━━━━━━━━━━━━━━\u001b[0m\u001b[37m\u001b[0m \u001b[1m39s\u001b[0m 12ms/step - loss: 0.9919 - sparse_categorical_accuracy: 0.6523 - val_loss: 1.2317 - val_sparse_categorical_accuracy: 0.5690\n",
            "Epoch 11/32\n",
            "\u001b[1m2000/2000\u001b[0m \u001b[32m━━━━━━━━━━━━━━━━━━━━\u001b[0m\u001b[37m\u001b[0m \u001b[1m41s\u001b[0m 12ms/step - loss: 0.9267 - sparse_categorical_accuracy: 0.6826 - val_loss: 1.2357 - val_sparse_categorical_accuracy: 0.5756\n"
          ]
        }
      ]
    },
    {
      "cell_type": "markdown",
      "source": [
        "#Мой комментарий\n",
        "\n",
        "**Архитектура:**\n",
        "\n",
        "Первый слой Conv2D применяет свёртку с ядром  3×3 и 10 фильтрами.\n",
        "\n",
        "После свёртки используется MaxPooling2D, который уменьшает размерность признаков для улучшения эффективности и предотвращения переобучения.\n",
        "\n",
        "Далее данные преобразуются в одномерный массив с помощью Flatten.\n",
        "\n",
        "Полносвязный слой с 100 нейронами обеспечивает обучение высокоуровневых признаков.\n",
        "\n",
        "Выходной слой с 10 нейронами (по числу классов) и функцией softmax преобразует выходы в вероятности.\n",
        "\n",
        "**Callbacks:**\n",
        "\n",
        "ModelCheckpoint: сохраняет лучшую модель на основе валидационной ошибки.\n",
        "\n",
        "TensorBoard: для визуализации процесса обучения.\n",
        "\n",
        "EarlyStopping: автоматически прекращает обучение, если качество не улучшается.\n",
        "\n",
        "**Компиляция:**\n",
        "\n",
        "Используется оптимизатор SGD с небольшой скоростью обучения (0.01).\n",
        "\n",
        "Функция потерь — sparse_categorical_crossentropy, поскольку метки классов не закодированы в one-hot формате.\n",
        "\n",
        "Метрика — точность классификации.\n",
        "\n",
        "**Обучение:**\n",
        "\n",
        "Размер батча: 16.\n",
        "\n",
        "Количество эпох: 32.\n",
        "\n",
        "20% данных используются для валидации.\n",
        "\n",
        "#Результаты показывают, что небольшая свёрточная сеть демонстрирует стабильный рост точности на обучающем наборе, достигая 68% на 11-й эпохе. Однако точность на валидационном наборе застопорилась на уровне 57%, что может указывать на признаки переобучения.\n",
        "\n",
        "#Возможные улучшения:\n",
        "\n",
        "**Добавление регуляризации:**\n",
        "\n",
        "Использование слоя Dropout перед полносвязными слоями.\n",
        "\n",
        "Добавление L2-регуляризации в свёрточные и полносвязные слои.\n",
        "\n",
        "**Изменение скорости обучения:**\n",
        "\n",
        "Использование методов изменения скорости обучения, таких как ReduceLROnPlateau.\n",
        "\n",
        "**Усложнение архитектуры:**\n",
        "\n",
        "Увеличение количества фильтров или добавление дополнительных свёрточных слоёв.\n",
        "\n",
        "**Досрочная остановка:**\n",
        "\n",
        "Уменьшение значения patience в EarlyStopping для предотвращения продолжения обучения после плато."
      ],
      "metadata": {
        "id": "XSfPZxP-IXvU"
      }
    },
    {
      "cell_type": "markdown",
      "metadata": {
        "id": "f37ZT8T4xjeo"
      },
      "source": [
        "Давайте посмотрим, смогла ли карманная сверточная сеть побить заданный порог по качеству:"
      ]
    },
    {
      "cell_type": "code",
      "execution_count": null,
      "metadata": {
        "id": "IAYvMxhTxjep",
        "colab": {
          "base_uri": "https://localhost:8080/"
        },
        "outputId": "0af9ecaa-4078-4209-e421-fccaf65c7ae8"
      },
      "outputs": [
        {
          "output_type": "stream",
          "name": "stdout",
          "text": [
            "\u001b[1m313/313\u001b[0m \u001b[32m━━━━━━━━━━━━━━━━━━━━\u001b[0m\u001b[37m\u001b[0m \u001b[1m4s\u001b[0m 14ms/step\n",
            "\n",
            " Test_acc = 0.5816\n",
            " Not bad!\n"
          ]
        }
      ],
      "source": [
        "from sklearn.metrics import accuracy_score\n",
        "\n",
        "predict_x = new_model.predict(X_test)\n",
        "classes_x = np.argmax(predict_x,axis=1)\n",
        "\n",
        "test_acc = accuracy_score(y_test, classes_x)\n",
        "print(\"\\n Test_acc =\", test_acc)\n",
        "assert test_acc > 0.50, \"Not good enough. Back to the drawing board :)\"\n",
        "print(\" Not bad!\")"
      ]
    },
    {
      "cell_type": "markdown",
      "source": [
        "#Мой комментарий\n",
        "\n",
        "Точность на тестовом наборе данных составила 58.16%, что значительно превышает минимальный порог 50%.\n",
        "\n",
        "Прогресс по сравнению с первой сетью:\n",
        "\n",
        "Первая сеть достигла точности 51.29%. Улучшение качества демонстрирует эффективность применения свёрточного слоя и MaxPooling.\n",
        "\n",
        "Несмотря на улучшение, результат в 58.16% всё ещё далёк от идеального уровня.\n",
        "\n",
        "Это указывает на то, что текущая архитектура недостаточно сложна для полной обработки данных CIFAR-10.\n",
        "\n",
        "Наблюдается небольшое переобучение, так как точность на валидационном наборе начинает снижаться на последних эпохах.\n"
      ],
      "metadata": {
        "id": "THtHvm9lKndR"
      }
    },
    {
      "cell_type": "markdown",
      "metadata": {
        "id": "How0uQPzxjep"
      },
      "source": [
        "## Учимся учить\n",
        "\n",
        "А теперь научимся сравнивать кривые обучения моделей — зависимости значения accuracy от количества итераций.\n",
        "\n",
        "Вам потребуется реализовать _экспериментальный стенд_ — вспомогательный код, в который вы сможете подать несколько архитектур и методов обучения, чтобы он их обучил и вывел графики кривых обучения. Это можно сделать с помощью `keras.callbacks` — `TensorBoard` или `History`.\n",
        "\n",
        "Будьте морально готовы, что на обучение уйдёт _много времени_. Даже если вы ограничитесь 10 эпохами. Пока идёт обучение, вы можете переключиться на другие задания или заняться чем-нибудь приятным: поспать, например."
      ]
    },
    {
      "cell_type": "markdown",
      "metadata": {
        "id": "VwmdGNIHxjep"
      },
      "source": [
        "**Задание 1.3 (опционально)** Попробуйте использовать различные методы оптимизации (sgd, momentum, adam) с параметрами по умолчанию. Какой из методов работает лучше?"
      ]
    },
    {
      "cell_type": "markdown",
      "metadata": {
        "id": "LsF9iIFGxjeq"
      },
      "source": [
        "Для удобства напишем класс Evaluator, который принимает в себя дикты виды {имя_оптимайзера: инстанс}, {имя модели: инстанс} и обучает всевозможные комбинации моделей с оптимайзерами при помощи метода fit (попутно записывая логи отдельно для каждой модели). Также пригодится метод evaluate для отображения итоговых скоров."
      ]
    },
    {
      "cell_type": "markdown",
      "metadata": {
        "id": "FBtU0x2X5gmG"
      },
      "source": [
        "Пользоваться классом не обязательно. По умолчанию класс использует tensorboard. Если вы выше использовали wandb -- советуем дописать callback."
      ]
    },
    {
      "cell_type": "code",
      "source": [
        "\n",
        "import tensorflow as tf\n",
        "from tensorflow.keras import layers, models\n",
        "from sklearn.metrics import accuracy_score\n",
        "from tqdm.notebook import tqdm_notebook\n",
        "import numpy as np\n",
        "\n",
        "# Определение моделей\n",
        "def create_small_cnn():\n",
        "    \"\"\"Создание маленькой сверточной сети\"\"\"\n",
        "    model = models.Sequential([\n",
        "        layers.Conv2D(32, (3, 3), activation='relu', input_shape=(32, 32, 3)),\n",
        "        layers.MaxPooling2D((2, 2)),\n",
        "        layers.Flatten(),\n",
        "        layers.Dense(100, activation='relu'),\n",
        "        layers.Dense(10, activation='softmax')\n",
        "    ])\n",
        "    return model\n",
        "\n",
        "def create_large_cnn():\n",
        "    \"\"\"Создание большой сверточной сети\"\"\"\n",
        "    model = models.Sequential([\n",
        "        layers.Conv2D(64, (3, 3), activation='relu', input_shape=(32, 32, 3)),\n",
        "        layers.MaxPooling2D((2, 2)),\n",
        "        layers.Conv2D(128, (3, 3), activation='relu'),\n",
        "        layers.MaxPooling2D((2, 2)),\n",
        "        layers.Flatten(),\n",
        "        layers.Dense(256, activation='relu'),\n",
        "        layers.Dense(10, activation='softmax')\n",
        "    ])\n",
        "    return model\n",
        "\n",
        "model_1 = create_small_cnn()\n",
        "model_2 = create_large_cnn()\n",
        "\n",
        "# Класс Evaluator для обучения и сравнения моделей\n",
        "class Evaluator(list):\n",
        "    def __init__(self, models, optimizers_factory, loss=tf.keras.losses.SparseCategoricalCrossentropy(from_logits=False),\n",
        "                 metrics=[tf.keras.metrics.SparseCategoricalAccuracy()]):\n",
        "        \"\"\"\n",
        "        models: dict {name: model}\n",
        "        optimizers_factory: функция, создающая словарь оптимизаторов для каждой модели\n",
        "        \"\"\"\n",
        "        if not isinstance(models, dict):\n",
        "            models = {'single_model': models}\n",
        "\n",
        "        # Генерация оптимизаторов для каждой модели\n",
        "        super().__init__([\n",
        "            (model_name, tf.keras.models.clone_model(model), optimizer_name, optimizer)\n",
        "            for model_name, model in models.items()\n",
        "            for optimizer_name, optimizer in optimizers_factory().items()\n",
        "        ])\n",
        "\n",
        "        for _, model, _, optimizer in self:\n",
        "            model.compile(optimizer=optimizer, loss=loss, metrics=metrics)\n",
        "\n",
        "    def fit(self, X, y, validation_data=(), max_epochs=10, verbose=0, callbacks=[], batch_size=64):\n",
        "        if not isinstance(callbacks, list):\n",
        "            callbacks = [callbacks]\n",
        "        for model_name, model, optimizer_name, optimizer in tqdm_notebook(self):\n",
        "            print(f\"Training {model_name} with {optimizer_name}...\")\n",
        "            model.fit(\n",
        "                X, y,\n",
        "                validation_data=validation_data or None,\n",
        "                epochs=max_epochs,\n",
        "                verbose=verbose,\n",
        "                batch_size=batch_size,\n",
        "                callbacks=callbacks\n",
        "            )\n",
        "\n",
        "    def evaluate(self, X, y, metric):\n",
        "        for model_name, model, optimizer_name, _ in self:\n",
        "            score = metric(y, np.argmax(model.predict(X), axis=1))\n",
        "            print(f\"Final score of {model_name} with {optimizer_name}: {score:.4f}\")\n",
        "\n",
        "# Функция для создания оптимизаторов\n",
        "def create_optimizers():\n",
        "    return {\n",
        "        'adam': tf.keras.optimizers.Adam(),\n",
        "        'sgd': tf.keras.optimizers.SGD(),\n",
        "        'rmsprop': tf.keras.optimizers.RMSprop()\n",
        "    }\n",
        "\n",
        "# Инициализация класса Evaluator\n",
        "evaluator = Evaluator(\n",
        "    models={'Small_CNN': model_1, 'Large_CNN': model_2},\n",
        "    optimizers_factory=create_optimizers\n",
        ")\n",
        "\n",
        "# Обучение моделей\n",
        "evaluator.fit(\n",
        "    X_train, y_train,\n",
        "    validation_data=(X_val, y_val),\n",
        "    max_epochs=10,\n",
        "    verbose=1,\n",
        "    batch_size=64\n",
        ")\n",
        "\n",
        "# Оценка моделей\n",
        "evaluator.evaluate(X_test, y_test, accuracy_score)\n"
      ],
      "metadata": {
        "colab": {
          "base_uri": "https://localhost:8080/",
          "height": 1000,
          "referenced_widgets": [
            "ab59f732bc654625a6e04dbeb0ae66fc",
            "ca023b64a9d84029a1ee13ed38cd1e1c",
            "3c40ee2a6c6f4a2186182bb7a9827b3e",
            "6ae1781d375c4aca9f204e6e7f08de73",
            "0e162d06772a4571a49fe3aeaea7723c",
            "2c315305d35e45bdb42f69db1e6ab9e7",
            "48ab46bb295e44128d700dceb41ed911",
            "4bfc6cce6aa844919d68ba436419d223",
            "3c242a57179e4feb96a4e460884b0ae3",
            "604150098857422a991e765a92cc6380",
            "3fa682776b364929b341167337843e00"
          ]
        },
        "id": "l6P0YeddQOyv",
        "outputId": "1ebc7873-6e2c-4d8d-9f0d-11384f15e656"
      },
      "execution_count": null,
      "outputs": [
        {
          "output_type": "stream",
          "name": "stderr",
          "text": [
            "/usr/local/lib/python3.11/dist-packages/keras/src/layers/convolutional/base_conv.py:107: UserWarning: Do not pass an `input_shape`/`input_dim` argument to a layer. When using Sequential models, prefer using an `Input(shape)` object as the first layer in the model instead.\n",
            "  super().__init__(activity_regularizer=activity_regularizer, **kwargs)\n"
          ]
        },
        {
          "output_type": "display_data",
          "data": {
            "text/plain": [
              "  0%|          | 0/6 [00:00<?, ?it/s]"
            ],
            "application/vnd.jupyter.widget-view+json": {
              "version_major": 2,
              "version_minor": 0,
              "model_id": "ab59f732bc654625a6e04dbeb0ae66fc"
            }
          },
          "metadata": {}
        },
        {
          "output_type": "stream",
          "name": "stdout",
          "text": [
            "Training Small_CNN with adam...\n",
            "Epoch 1/10\n",
            "\u001b[1m625/625\u001b[0m \u001b[32m━━━━━━━━━━━━━━━━━━━━\u001b[0m\u001b[37m\u001b[0m \u001b[1m36s\u001b[0m 55ms/step - loss: 1.7970 - sparse_categorical_accuracy: 0.3521 - val_loss: 1.3551 - val_sparse_categorical_accuracy: 0.5203\n",
            "Epoch 2/10\n",
            "\u001b[1m625/625\u001b[0m \u001b[32m━━━━━━━━━━━━━━━━━━━━\u001b[0m\u001b[37m\u001b[0m \u001b[1m35s\u001b[0m 56ms/step - loss: 1.3123 - sparse_categorical_accuracy: 0.5385 - val_loss: 1.2313 - val_sparse_categorical_accuracy: 0.5706\n",
            "Epoch 3/10\n",
            "\u001b[1m625/625\u001b[0m \u001b[32m━━━━━━━━━━━━━━━━━━━━\u001b[0m\u001b[37m\u001b[0m \u001b[1m40s\u001b[0m 55ms/step - loss: 1.1748 - sparse_categorical_accuracy: 0.5894 - val_loss: 1.1973 - val_sparse_categorical_accuracy: 0.5774\n",
            "Epoch 4/10\n",
            "\u001b[1m625/625\u001b[0m \u001b[32m━━━━━━━━━━━━━━━━━━━━\u001b[0m\u001b[37m\u001b[0m \u001b[1m34s\u001b[0m 54ms/step - loss: 1.1019 - sparse_categorical_accuracy: 0.6151 - val_loss: 1.1354 - val_sparse_categorical_accuracy: 0.6024\n",
            "Epoch 5/10\n",
            "\u001b[1m625/625\u001b[0m \u001b[32m━━━━━━━━━━━━━━━━━━━━\u001b[0m\u001b[37m\u001b[0m \u001b[1m44s\u001b[0m 59ms/step - loss: 1.0349 - sparse_categorical_accuracy: 0.6389 - val_loss: 1.0950 - val_sparse_categorical_accuracy: 0.6214\n",
            "Epoch 6/10\n",
            "\u001b[1m625/625\u001b[0m \u001b[32m━━━━━━━━━━━━━━━━━━━━\u001b[0m\u001b[37m\u001b[0m \u001b[1m39s\u001b[0m 56ms/step - loss: 0.9654 - sparse_categorical_accuracy: 0.6635 - val_loss: 1.0792 - val_sparse_categorical_accuracy: 0.6308\n",
            "Epoch 7/10\n",
            "\u001b[1m625/625\u001b[0m \u001b[32m━━━━━━━━━━━━━━━━━━━━\u001b[0m\u001b[37m\u001b[0m \u001b[1m40s\u001b[0m 55ms/step - loss: 0.9107 - sparse_categorical_accuracy: 0.6814 - val_loss: 1.1093 - val_sparse_categorical_accuracy: 0.6162\n",
            "Epoch 8/10\n",
            "\u001b[1m625/625\u001b[0m \u001b[32m━━━━━━━━━━━━━━━━━━━━\u001b[0m\u001b[37m\u001b[0m \u001b[1m34s\u001b[0m 54ms/step - loss: 0.8693 - sparse_categorical_accuracy: 0.6948 - val_loss: 1.0810 - val_sparse_categorical_accuracy: 0.6336\n",
            "Epoch 9/10\n",
            "\u001b[1m625/625\u001b[0m \u001b[32m━━━━━━━━━━━━━━━━━━━━\u001b[0m\u001b[37m\u001b[0m \u001b[1m41s\u001b[0m 54ms/step - loss: 0.8257 - sparse_categorical_accuracy: 0.7177 - val_loss: 1.0607 - val_sparse_categorical_accuracy: 0.6361\n",
            "Epoch 10/10\n",
            "\u001b[1m625/625\u001b[0m \u001b[32m━━━━━━━━━━━━━━━━━━━━\u001b[0m\u001b[37m\u001b[0m \u001b[1m42s\u001b[0m 56ms/step - loss: 0.8023 - sparse_categorical_accuracy: 0.7233 - val_loss: 1.0561 - val_sparse_categorical_accuracy: 0.6414\n",
            "Training Small_CNN with sgd...\n",
            "Epoch 1/10\n",
            "\u001b[1m625/625\u001b[0m \u001b[32m━━━━━━━━━━━━━━━━━━━━\u001b[0m\u001b[37m\u001b[0m \u001b[1m33s\u001b[0m 52ms/step - loss: 2.1173 - sparse_categorical_accuracy: 0.4015 - val_loss: 1.8547 - val_sparse_categorical_accuracy: 0.3490\n",
            "Epoch 2/10\n",
            "\u001b[1m625/625\u001b[0m \u001b[32m━━━━━━━━━━━━━━━━━━━━\u001b[0m\u001b[37m\u001b[0m \u001b[1m41s\u001b[0m 53ms/step - loss: 1.8294 - sparse_categorical_accuracy: 0.3623 - val_loss: 1.7449 - val_sparse_categorical_accuracy: 0.3752\n",
            "Epoch 3/10\n",
            "\u001b[1m625/625\u001b[0m \u001b[32m━━━━━━━━━━━━━━━━━━━━\u001b[0m\u001b[37m\u001b[0m \u001b[1m32s\u001b[0m 51ms/step - loss: 1.6922 - sparse_categorical_accuracy: 0.4097 - val_loss: 1.6244 - val_sparse_categorical_accuracy: 0.4164\n",
            "Epoch 4/10\n",
            "\u001b[1m625/625\u001b[0m \u001b[32m━━━━━━━━━━━━━━━━━━━━\u001b[0m\u001b[37m\u001b[0m \u001b[1m40s\u001b[0m 50ms/step - loss: 1.5681 - sparse_categorical_accuracy: 0.4511 - val_loss: 1.4943 - val_sparse_categorical_accuracy: 0.4666\n",
            "Epoch 5/10\n",
            "\u001b[1m625/625\u001b[0m \u001b[32m━━━━━━━━━━━━━━━━━━━━\u001b[0m\u001b[37m\u001b[0m \u001b[1m41s\u001b[0m 51ms/step - loss: 1.4726 - sparse_categorical_accuracy: 0.4787 - val_loss: 1.4634 - val_sparse_categorical_accuracy: 0.4681\n",
            "Epoch 6/10\n",
            "\u001b[1m625/625\u001b[0m \u001b[32m━━━━━━━━━━━━━━━━━━━━\u001b[0m\u001b[37m\u001b[0m \u001b[1m33s\u001b[0m 53ms/step - loss: 1.3850 - sparse_categorical_accuracy: 0.5109 - val_loss: 1.3872 - val_sparse_categorical_accuracy: 0.5036\n",
            "Epoch 7/10\n",
            "\u001b[1m625/625\u001b[0m \u001b[32m━━━━━━━━━━━━━━━━━━━━\u001b[0m\u001b[37m\u001b[0m \u001b[1m33s\u001b[0m 53ms/step - loss: 1.3358 - sparse_categorical_accuracy: 0.5273 - val_loss: 1.3129 - val_sparse_categorical_accuracy: 0.5377\n",
            "Epoch 8/10\n",
            "\u001b[1m625/625\u001b[0m \u001b[32m━━━━━━━━━━━━━━━━━━━━\u001b[0m\u001b[37m\u001b[0m \u001b[1m40s\u001b[0m 51ms/step - loss: 1.2751 - sparse_categorical_accuracy: 0.5529 - val_loss: 1.2787 - val_sparse_categorical_accuracy: 0.5471\n",
            "Epoch 9/10\n",
            "\u001b[1m625/625\u001b[0m \u001b[32m━━━━━━━━━━━━━━━━━━━━\u001b[0m\u001b[37m\u001b[0m \u001b[1m41s\u001b[0m 51ms/step - loss: 1.2469 - sparse_categorical_accuracy: 0.5651 - val_loss: 1.2790 - val_sparse_categorical_accuracy: 0.5514\n",
            "Epoch 10/10\n",
            "\u001b[1m625/625\u001b[0m \u001b[32m━━━━━━━━━━━━━━━━━━━━\u001b[0m\u001b[37m\u001b[0m \u001b[1m44s\u001b[0m 56ms/step - loss: 1.2158 - sparse_categorical_accuracy: 0.5762 - val_loss: 1.2388 - val_sparse_categorical_accuracy: 0.5585\n",
            "Training Small_CNN with rmsprop...\n",
            "Epoch 1/10\n",
            "\u001b[1m625/625\u001b[0m \u001b[32m━━━━━━━━━━━━━━━━━━━━\u001b[0m\u001b[37m\u001b[0m \u001b[1m36s\u001b[0m 56ms/step - loss: 1.7763 - sparse_categorical_accuracy: 0.4542 - val_loss: 1.4189 - val_sparse_categorical_accuracy: 0.4986\n",
            "Epoch 2/10\n",
            "\u001b[1m625/625\u001b[0m \u001b[32m━━━━━━━━━━━━━━━━━━━━\u001b[0m\u001b[37m\u001b[0m \u001b[1m33s\u001b[0m 53ms/step - loss: 1.2723 - sparse_categorical_accuracy: 0.5519 - val_loss: 1.2605 - val_sparse_categorical_accuracy: 0.5639\n",
            "Epoch 3/10\n",
            "\u001b[1m625/625\u001b[0m \u001b[32m━━━━━━━━━━━━━━━━━━━━\u001b[0m\u001b[37m\u001b[0m \u001b[1m43s\u001b[0m 57ms/step - loss: 1.1365 - sparse_categorical_accuracy: 0.6031 - val_loss: 1.1262 - val_sparse_categorical_accuracy: 0.6103\n",
            "Epoch 4/10\n",
            "\u001b[1m625/625\u001b[0m \u001b[32m━━━━━━━━━━━━━━━━━━━━\u001b[0m\u001b[37m\u001b[0m \u001b[1m38s\u001b[0m 53ms/step - loss: 1.0358 - sparse_categorical_accuracy: 0.6399 - val_loss: 1.0973 - val_sparse_categorical_accuracy: 0.6266\n",
            "Epoch 5/10\n",
            "\u001b[1m625/625\u001b[0m \u001b[32m━━━━━━━━━━━━━━━━━━━━\u001b[0m\u001b[37m\u001b[0m \u001b[1m43s\u001b[0m 56ms/step - loss: 0.9475 - sparse_categorical_accuracy: 0.6736 - val_loss: 1.0875 - val_sparse_categorical_accuracy: 0.6279\n",
            "Epoch 6/10\n",
            "\u001b[1m625/625\u001b[0m \u001b[32m━━━━━━━━━━━━━━━━━━━━\u001b[0m\u001b[37m\u001b[0m \u001b[1m42s\u001b[0m 58ms/step - loss: 0.8668 - sparse_categorical_accuracy: 0.7023 - val_loss: 1.1468 - val_sparse_categorical_accuracy: 0.6124\n",
            "Epoch 7/10\n",
            "\u001b[1m625/625\u001b[0m \u001b[32m━━━━━━━━━━━━━━━━━━━━\u001b[0m\u001b[37m\u001b[0m \u001b[1m37s\u001b[0m 52ms/step - loss: 0.7975 - sparse_categorical_accuracy: 0.7222 - val_loss: 1.0575 - val_sparse_categorical_accuracy: 0.6439\n",
            "Epoch 8/10\n",
            "\u001b[1m625/625\u001b[0m \u001b[32m━━━━━━━━━━━━━━━━━━━━\u001b[0m\u001b[37m\u001b[0m \u001b[1m34s\u001b[0m 55ms/step - loss: 0.7319 - sparse_categorical_accuracy: 0.7481 - val_loss: 1.0245 - val_sparse_categorical_accuracy: 0.6575\n",
            "Epoch 9/10\n",
            "\u001b[1m625/625\u001b[0m \u001b[32m━━━━━━━━━━━━━━━━━━━━\u001b[0m\u001b[37m\u001b[0m \u001b[1m40s\u001b[0m 53ms/step - loss: 0.6601 - sparse_categorical_accuracy: 0.7754 - val_loss: 1.0639 - val_sparse_categorical_accuracy: 0.6557\n",
            "Epoch 10/10\n",
            "\u001b[1m625/625\u001b[0m \u001b[32m━━━━━━━━━━━━━━━━━━━━\u001b[0m\u001b[37m\u001b[0m \u001b[1m40s\u001b[0m 52ms/step - loss: 0.5878 - sparse_categorical_accuracy: 0.7961 - val_loss: 1.0744 - val_sparse_categorical_accuracy: 0.6532\n",
            "Training Large_CNN with adam...\n",
            "Epoch 1/10\n",
            "\u001b[1m625/625\u001b[0m \u001b[32m━━━━━━━━━━━━━━━━━━━━\u001b[0m\u001b[37m\u001b[0m \u001b[1m140s\u001b[0m 221ms/step - loss: 1.7426 - sparse_categorical_accuracy: 0.4948 - val_loss: 1.2500 - val_sparse_categorical_accuracy: 0.5553\n",
            "Epoch 2/10\n",
            "\u001b[1m625/625\u001b[0m \u001b[32m━━━━━━━━━━━━━━━━━━━━\u001b[0m\u001b[37m\u001b[0m \u001b[1m141s\u001b[0m 219ms/step - loss: 1.1551 - sparse_categorical_accuracy: 0.5902 - val_loss: 1.0460 - val_sparse_categorical_accuracy: 0.6308\n",
            "Epoch 3/10\n",
            "\u001b[1m625/625\u001b[0m \u001b[32m━━━━━━━━━━━━━━━━━━━━\u001b[0m\u001b[37m\u001b[0m \u001b[1m139s\u001b[0m 223ms/step - loss: 0.9681 - sparse_categorical_accuracy: 0.6603 - val_loss: 0.9590 - val_sparse_categorical_accuracy: 0.6689\n",
            "Epoch 4/10\n",
            "\u001b[1m625/625\u001b[0m \u001b[32m━━━━━━━━━━━━━━━━━━━━\u001b[0m\u001b[37m\u001b[0m \u001b[1m138s\u001b[0m 216ms/step - loss: 0.8551 - sparse_categorical_accuracy: 0.6997 - val_loss: 0.9272 - val_sparse_categorical_accuracy: 0.6755\n",
            "Epoch 5/10\n",
            "\u001b[1m625/625\u001b[0m \u001b[32m━━━━━━━━━━━━━━━━━━━━\u001b[0m\u001b[37m\u001b[0m \u001b[1m143s\u001b[0m 229ms/step - loss: 0.7535 - sparse_categorical_accuracy: 0.7404 - val_loss: 0.8777 - val_sparse_categorical_accuracy: 0.7004\n",
            "Epoch 6/10\n",
            "\u001b[1m625/625\u001b[0m \u001b[32m━━━━━━━━━━━━━━━━━━━━\u001b[0m\u001b[37m\u001b[0m \u001b[1m196s\u001b[0m 219ms/step - loss: 0.6707 - sparse_categorical_accuracy: 0.7678 - val_loss: 0.9160 - val_sparse_categorical_accuracy: 0.6881\n",
            "Epoch 7/10\n",
            "\u001b[1m625/625\u001b[0m \u001b[32m━━━━━━━━━━━━━━━━━━━━\u001b[0m\u001b[37m\u001b[0m \u001b[1m138s\u001b[0m 221ms/step - loss: 0.5879 - sparse_categorical_accuracy: 0.7992 - val_loss: 0.8856 - val_sparse_categorical_accuracy: 0.7040\n",
            "Epoch 8/10\n",
            "\u001b[1m625/625\u001b[0m \u001b[32m━━━━━━━━━━━━━━━━━━━━\u001b[0m\u001b[37m\u001b[0m \u001b[1m141s\u001b[0m 218ms/step - loss: 0.5029 - sparse_categorical_accuracy: 0.8253 - val_loss: 0.9652 - val_sparse_categorical_accuracy: 0.6879\n",
            "Epoch 9/10\n",
            "\u001b[1m625/625\u001b[0m \u001b[32m━━━━━━━━━━━━━━━━━━━━\u001b[0m\u001b[37m\u001b[0m \u001b[1m137s\u001b[0m 219ms/step - loss: 0.4320 - sparse_categorical_accuracy: 0.8512 - val_loss: 0.9416 - val_sparse_categorical_accuracy: 0.7091\n",
            "Epoch 10/10\n",
            "\u001b[1m625/625\u001b[0m \u001b[32m━━━━━━━━━━━━━━━━━━━━\u001b[0m\u001b[37m\u001b[0m \u001b[1m145s\u001b[0m 224ms/step - loss: 0.3483 - sparse_categorical_accuracy: 0.8823 - val_loss: 0.9947 - val_sparse_categorical_accuracy: 0.7035\n",
            "Training Large_CNN with sgd...\n",
            "Epoch 1/10\n",
            "\u001b[1m625/625\u001b[0m \u001b[32m━━━━━━━━━━━━━━━━━━━━\u001b[0m\u001b[37m\u001b[0m \u001b[1m136s\u001b[0m 217ms/step - loss: 2.2255 - sparse_categorical_accuracy: 0.3925 - val_loss: 1.9919 - val_sparse_categorical_accuracy: 0.2765\n",
            "Epoch 2/10\n",
            "\u001b[1m625/625\u001b[0m \u001b[32m━━━━━━━━━━━━━━━━━━━━\u001b[0m\u001b[37m\u001b[0m \u001b[1m141s\u001b[0m 216ms/step - loss: 1.9074 - sparse_categorical_accuracy: 0.3206 - val_loss: 1.7498 - val_sparse_categorical_accuracy: 0.3764\n",
            "Epoch 3/10\n",
            "\u001b[1m625/625\u001b[0m \u001b[32m━━━━━━━━━━━━━━━━━━━━\u001b[0m\u001b[37m\u001b[0m \u001b[1m140s\u001b[0m 212ms/step - loss: 1.7281 - sparse_categorical_accuracy: 0.3869 - val_loss: 1.5835 - val_sparse_categorical_accuracy: 0.4363\n",
            "Epoch 4/10\n",
            "\u001b[1m625/625\u001b[0m \u001b[32m━━━━━━━━━━━━━━━━━━━━\u001b[0m\u001b[37m\u001b[0m \u001b[1m146s\u001b[0m 219ms/step - loss: 1.5704 - sparse_categorical_accuracy: 0.4363 - val_loss: 1.4731 - val_sparse_categorical_accuracy: 0.4717\n",
            "Epoch 5/10\n",
            "\u001b[1m625/625\u001b[0m \u001b[32m━━━━━━━━━━━━━━━━━━━━\u001b[0m\u001b[37m\u001b[0m \u001b[1m144s\u001b[0m 222ms/step - loss: 1.4715 - sparse_categorical_accuracy: 0.4777 - val_loss: 1.4248 - val_sparse_categorical_accuracy: 0.4925\n",
            "Epoch 6/10\n",
            "\u001b[1m625/625\u001b[0m \u001b[32m━━━━━━━━━━━━━━━━━━━━\u001b[0m\u001b[37m\u001b[0m \u001b[1m135s\u001b[0m 217ms/step - loss: 1.3886 - sparse_categorical_accuracy: 0.5073 - val_loss: 1.3635 - val_sparse_categorical_accuracy: 0.5101\n",
            "Epoch 7/10\n",
            "\u001b[1m625/625\u001b[0m \u001b[32m━━━━━━━━━━━━━━━━━━━━\u001b[0m\u001b[37m\u001b[0m \u001b[1m140s\u001b[0m 214ms/step - loss: 1.3351 - sparse_categorical_accuracy: 0.5275 - val_loss: 1.3284 - val_sparse_categorical_accuracy: 0.5285\n",
            "Epoch 8/10\n",
            "\u001b[1m625/625\u001b[0m \u001b[32m━━━━━━━━━━━━━━━━━━━━\u001b[0m\u001b[37m\u001b[0m \u001b[1m144s\u001b[0m 217ms/step - loss: 1.2860 - sparse_categorical_accuracy: 0.5502 - val_loss: 1.2802 - val_sparse_categorical_accuracy: 0.5459\n",
            "Epoch 9/10\n",
            "\u001b[1m625/625\u001b[0m \u001b[32m━━━━━━━━━━━━━━━━━━━━\u001b[0m\u001b[37m\u001b[0m \u001b[1m144s\u001b[0m 220ms/step - loss: 1.2312 - sparse_categorical_accuracy: 0.5682 - val_loss: 1.2341 - val_sparse_categorical_accuracy: 0.5683\n",
            "Epoch 10/10\n",
            "\u001b[1m625/625\u001b[0m \u001b[32m━━━━━━━━━━━━━━━━━━━━\u001b[0m\u001b[37m\u001b[0m \u001b[1m141s\u001b[0m 225ms/step - loss: 1.1953 - sparse_categorical_accuracy: 0.5837 - val_loss: 1.2483 - val_sparse_categorical_accuracy: 0.5529\n",
            "Training Large_CNN with rmsprop...\n",
            "Epoch 1/10\n",
            "\u001b[1m625/625\u001b[0m \u001b[32m━━━━━━━━━━━━━━━━━━━━\u001b[0m\u001b[37m\u001b[0m \u001b[1m140s\u001b[0m 222ms/step - loss: 1.7993 - sparse_categorical_accuracy: 0.4453 - val_loss: 1.1759 - val_sparse_categorical_accuracy: 0.5857\n",
            "Epoch 2/10\n",
            "\u001b[1m625/625\u001b[0m \u001b[32m━━━━━━━━━━━━━━━━━━━━\u001b[0m\u001b[37m\u001b[0m \u001b[1m136s\u001b[0m 217ms/step - loss: 1.1524 - sparse_categorical_accuracy: 0.5979 - val_loss: 1.0609 - val_sparse_categorical_accuracy: 0.6230\n",
            "Epoch 3/10\n",
            "\u001b[1m625/625\u001b[0m \u001b[32m━━━━━━━━━━━━━━━━━━━━\u001b[0m\u001b[37m\u001b[0m \u001b[1m143s\u001b[0m 218ms/step - loss: 0.9226 - sparse_categorical_accuracy: 0.6783 - val_loss: 0.9423 - val_sparse_categorical_accuracy: 0.6774\n",
            "Epoch 4/10\n",
            "\u001b[1m625/625\u001b[0m \u001b[32m━━━━━━━━━━━━━━━━━━━━\u001b[0m\u001b[37m\u001b[0m \u001b[1m141s\u001b[0m 217ms/step - loss: 0.7693 - sparse_categorical_accuracy: 0.7348 - val_loss: 0.8427 - val_sparse_categorical_accuracy: 0.7090\n",
            "Epoch 5/10\n",
            "\u001b[1m625/625\u001b[0m \u001b[32m━━━━━━━━━━━━━━━━━━━━\u001b[0m\u001b[37m\u001b[0m \u001b[1m142s\u001b[0m 218ms/step - loss: 0.6225 - sparse_categorical_accuracy: 0.7835 - val_loss: 0.8840 - val_sparse_categorical_accuracy: 0.7007\n",
            "Epoch 6/10\n",
            "\u001b[1m625/625\u001b[0m \u001b[32m━━━━━━━━━━━━━━━━━━━━\u001b[0m\u001b[37m\u001b[0m \u001b[1m142s\u001b[0m 218ms/step - loss: 0.4823 - sparse_categorical_accuracy: 0.8346 - val_loss: 0.9544 - val_sparse_categorical_accuracy: 0.6975\n",
            "Epoch 7/10\n",
            "\u001b[1m625/625\u001b[0m \u001b[32m━━━━━━━━━━━━━━━━━━━━\u001b[0m\u001b[37m\u001b[0m \u001b[1m138s\u001b[0m 220ms/step - loss: 0.3613 - sparse_categorical_accuracy: 0.8754 - val_loss: 1.0118 - val_sparse_categorical_accuracy: 0.7114\n",
            "Epoch 8/10\n",
            "\u001b[1m625/625\u001b[0m \u001b[32m━━━━━━━━━━━━━━━━━━━━\u001b[0m\u001b[37m\u001b[0m \u001b[1m139s\u001b[0m 216ms/step - loss: 0.2492 - sparse_categorical_accuracy: 0.9152 - val_loss: 1.2209 - val_sparse_categorical_accuracy: 0.6899\n",
            "Epoch 9/10\n",
            "\u001b[1m625/625\u001b[0m \u001b[32m━━━━━━━━━━━━━━━━━━━━\u001b[0m\u001b[37m\u001b[0m \u001b[1m137s\u001b[0m 219ms/step - loss: 0.1681 - sparse_categorical_accuracy: 0.9430 - val_loss: 1.1841 - val_sparse_categorical_accuracy: 0.7182\n",
            "Epoch 10/10\n",
            "\u001b[1m625/625\u001b[0m \u001b[32m━━━━━━━━━━━━━━━━━━━━\u001b[0m\u001b[37m\u001b[0m \u001b[1m138s\u001b[0m 221ms/step - loss: 0.1174 - sparse_categorical_accuracy: 0.9610 - val_loss: 1.4987 - val_sparse_categorical_accuracy: 0.7064\n",
            "\u001b[1m313/313\u001b[0m \u001b[32m━━━━━━━━━━━━━━━━━━━━\u001b[0m\u001b[37m\u001b[0m \u001b[1m3s\u001b[0m 9ms/step\n",
            "Final score of Small_CNN with adam: 0.6407\n",
            "\u001b[1m313/313\u001b[0m \u001b[32m━━━━━━━━━━━━━━━━━━━━\u001b[0m\u001b[37m\u001b[0m \u001b[1m4s\u001b[0m 13ms/step\n",
            "Final score of Small_CNN with sgd: 0.5641\n",
            "\u001b[1m313/313\u001b[0m \u001b[32m━━━━━━━━━━━━━━━━━━━━\u001b[0m\u001b[37m\u001b[0m \u001b[1m3s\u001b[0m 9ms/step\n",
            "Final score of Small_CNN with rmsprop: 0.6502\n",
            "\u001b[1m313/313\u001b[0m \u001b[32m━━━━━━━━━━━━━━━━━━━━\u001b[0m\u001b[37m\u001b[0m \u001b[1m10s\u001b[0m 33ms/step\n",
            "Final score of Large_CNN with adam: 0.7075\n",
            "\u001b[1m313/313\u001b[0m \u001b[32m━━━━━━━━━━━━━━━━━━━━\u001b[0m\u001b[37m\u001b[0m \u001b[1m9s\u001b[0m 28ms/step\n",
            "Final score of Large_CNN with sgd: 0.5511\n",
            "\u001b[1m313/313\u001b[0m \u001b[32m━━━━━━━━━━━━━━━━━━━━\u001b[0m\u001b[37m\u001b[0m \u001b[1m10s\u001b[0m 33ms/step\n",
            "Final score of Large_CNN with rmsprop: 0.6995\n"
          ]
        }
      ]
    },
    {
      "cell_type": "code",
      "source": [
        "import matplotlib.pyplot as plt\n",
        "import numpy as np\n",
        "\n",
        "# Данные для визуализации\n",
        "models = ['Small_CNN', 'Large_CNN']\n",
        "optimizers = ['adam', 'sgd', 'rmsprop']\n",
        "accuracy_scores = {\n",
        "    'Small_CNN': [0.6407, 0.5641, 0.6502],\n",
        "    'Large_CNN': [0.7075, 0.5511, 0.6995]\n",
        "}\n",
        "\n",
        "# Настройка графика\n",
        "x = np.arange(len(optimizers))  # Позиции по оси X\n",
        "width = 0.35  # Ширина столбцов\n",
        "\n",
        "fig, ax = plt.subplots(figsize=(10, 6))\n",
        "\n",
        "# Построение столбцов для каждой модели\n",
        "for i, model in enumerate(models):\n",
        "    ax.bar(\n",
        "        x + i * width,  # Смещение по оси X\n",
        "        accuracy_scores[model],  # Значения accuracy\n",
        "        width,  # Ширина столбцов\n",
        "        label=model  # Легенда\n",
        "    )\n",
        "\n",
        "# Настройка осей\n",
        "ax.set_xlabel('Optimizers')\n",
        "ax.set_ylabel('Accuracy')\n",
        "ax.set_title('Accuracy of Models with Different Optimizers')\n",
        "ax.set_xticks(x + width / 2)\n",
        "ax.set_xticklabels(optimizers)\n",
        "ax.legend()\n",
        "\n",
        "# Добавление значений над столбцами\n",
        "for i, model in enumerate(models):\n",
        "    for j, acc in enumerate(accuracy_scores[model]):\n",
        "        ax.text(\n",
        "            x[j] + i * width, acc + 0.01,  # Позиция текста\n",
        "            f'{acc:.2f}',  # Текст с точностью до двух знаков\n",
        "            ha='center', va='bottom'  # Выравнивание\n",
        "        )\n",
        "\n",
        "# Показ графика\n",
        "plt.tight_layout()\n",
        "plt.show()\n"
      ],
      "metadata": {
        "colab": {
          "base_uri": "https://localhost:8080/",
          "height": 607
        },
        "id": "H_JOzZoS__4p",
        "outputId": "e044ccd1-0ef0-408e-9f01-33684396e2f1"
      },
      "execution_count": null,
      "outputs": [
        {
          "output_type": "display_data",
          "data": {
            "text/plain": [
              "<Figure size 1000x600 with 1 Axes>"
            ],
            "image/png": "[encoded data removed]"
          },
          "metadata": {}
        }
      ]
    },
    {
      "cell_type": "markdown",
      "metadata": {
        "id": "uFMVTSbtxjes"
      },
      "source": [
        "Прокомментируйте полученные результаты.\n",
        "\n",
        "#Оптимизаторы:\n",
        "\n",
        "**Adam consistently показал лучшие результаты для обеих моделей:**\n",
        "\n",
        "Для Small_CNN: 64.07%.\n",
        "\n",
        "Для Large_CNN: 70.75%.\n",
        "\n",
        "Это ожидаемо, так как Adam объединяет преимущества Adagrad и RMSProp\n",
        "\n",
        "**SGD показал худшие результаты:**\n",
        "\n",
        "Для Small_CNN: 56.41%.\n",
        "\n",
        "Для Large_CNN: 55.11%.\n",
        "\n",
        "Это связано с тем, что базовый SGD требует тщательной настройки скорости обучения, особенно для более сложных моделей.\n",
        "\n",
        "**RMSProp занял второе место:**\n",
        "\n",
        "Для Small_CNN: 65.02%.\n",
        "\n",
        "Для Large_CNN: 69.95%.\n",
        "\n",
        "RMSProp хорошо справляется с задачами, где данные могут быть разреженными или сильно варьируются, но всё же уступает Adam.\n",
        "\n",
        "#Модели:\n",
        "\n",
        "**Large_CNN уверенно превзошла Small_CNN для всех оптимизаторов:**\n",
        "\n",
        "Adam: разница ~6.7%.\n",
        "\n",
        "RMSProp: разница ~4.9%.\n",
        "\n",
        "Это объясняется более сложной архитектурой Large_CNN, включающей больше слоёв и параметров, что позволяет модели лучше улавливать сложные зависимости в данных.\n",
        "Однако Large_CNN дольше обучается, что может быть ограничением для более долгосрочных экспериментов или реальных приложений.\n",
        "\n",
        "#Выводы:\n",
        "\n",
        "Наилучшая комбинация:\n",
        "\n",
        "Large_CNN с Adam: показала лучшую точность (70.75%), что делает эту комбинацию предпочтительной для дальнейших экспериментов или использования в приложениях.\n",
        "\n"
      ]
    },
    {
      "cell_type": "markdown",
      "metadata": {
        "id": "MVkaJnLWxjet"
      },
      "source": [
        "**Задание 1.4 (опционально)** Добавьте нормализацию по батчу (`BatchNormalization`) между свёрткой и активацией. Попробуйте использовать несколько нормализаций — в свёрточных и полносвязных слоях."
      ]
    },
    {
      "cell_type": "markdown",
      "metadata": {
        "id": "ppe0LGStxjet"
      },
      "source": [
        "Для удобства реализуем класс Models, который по сути будет являться списком моделей с двумя методами: add (добавить слой ко всем моделям) и add_create (создать новую модель на основе базовой с дополнительным слоем). Пользоваться им необязательно, но вдруг :)"
      ]
    },
    {
      "cell_type": "code",
      "source": [
        "from collections import OrderedDict\n",
        "import keras\n",
        "from keras import layers as L\n",
        "\n",
        "class Models(OrderedDict):\n",
        "    def __init__(self, models):\n",
        "        if not isinstance(models, dict):\n",
        "            models = OrderedDict({'base_model': models})\n",
        "        super().__init__(models)\n",
        "\n",
        "    def add(self, layer):\n",
        "        for name, model in self.items():\n",
        "            model.add(layer)\n",
        "\n",
        "    def add_create(self, name, layer):\n",
        "        base_model = next(iter(self.items()))[1]\n",
        "        new_model = keras.models.clone_model(base_model)\n",
        "        new_model.build(input_shape=(None, 32, 32, 3))  # Указываем входную форму\n",
        "        new_model.add(layer)\n",
        "        self.update({name: new_model})\n",
        "\n",
        "    def add_update(self, name, layer):\n",
        "        base_model = self[next(reversed(self))]\n",
        "        new_model = keras.models.clone_model(base_model)\n",
        "        new_model.build(input_shape=(None, 32, 32, 3))  # Указываем входную форму\n",
        "        new_model.add(layer)\n",
        "        self.update({name: new_model})\n",
        "\n",
        "# Создаём базовую модель\n",
        "base_model = keras.Sequential()\n",
        "base_model.add(L.Input(shape=(32, 32, 3)))  # Заменяем устаревший input_shape на shape\n",
        "\n",
        "# Создаём объект для управления моделями\n",
        "models = Models(base_model)\n",
        "\n",
        "# Добавляем первый свёрточный слой и MaxPooling\n",
        "models.add(L.Conv2D(filters=10, kernel_size=(3, 3), activation=None, padding='same'))\n",
        "models.add(L.BatchNormalization())  # Добавляем Batch Normalization после свёртки\n",
        "models.add(L.Activation('relu'))  # Активация\n",
        "models.add(L.MaxPooling2D(pool_size=(2, 2)))\n",
        "\n",
        "# Добавляем второй свёрточный слой с BatchNormalization\n",
        "models.add(L.Conv2D(filters=20, kernel_size=(3, 3), activation=None, padding='same'))\n",
        "models.add(L.BatchNormalization())  # Batch Normalization\n",
        "models.add(L.Activation('relu'))  # Активация\n",
        "models.add(L.MaxPooling2D(pool_size=(2, 2)))\n",
        "\n",
        "# Создаём новую модель с дополнительным полносвязным слоем\n",
        "models.add(L.Flatten())  # Вытягиваем данные в вектор\n",
        "models.add(L.Dense(100, activation=None))  # Полносвязный слой на 100 нейронов\n",
        "models.add(L.BatchNormalization())  # Batch Normalization\n",
        "models.add(L.Activation('relu'))  # Активация\n",
        "\n",
        "# Добавляем выходной слой\n",
        "models.add(L.Dense(10, activation='softmax'))  # Выходной слой с softmax\n",
        "\n",
        "# Компилируем все модели\n",
        "for name, model in models.items():\n",
        "    model.compile(\n",
        "        optimizer='adam',\n",
        "        loss='sparse_categorical_crossentropy',\n",
        "        metrics=['sparse_categorical_accuracy']\n",
        "    )\n",
        "    print(f\"Модель {name} успешно скомпилирована.\")\n",
        "\n",
        "# Вывод архитектуры всех моделей\n",
        "for name, model in models.items():\n",
        "    print(f\"\\nАрхитектура модели {name}:\")\n",
        "    model.summary()\n",
        "\n"
      ],
      "metadata": {
        "colab": {
          "base_uri": "https://localhost:8080/",
          "height": 658
        },
        "id": "1DlbCbZJCXFm",
        "outputId": "c20e50c2-346d-4777-e5ab-51d02d1bd1f4"
      },
      "execution_count": null,
      "outputs": [
        {
          "output_type": "stream",
          "name": "stdout",
          "text": [
            "Модель base_model успешно скомпилирована.\n",
            "\n",
            "Архитектура модели base_model:\n"
          ]
        },
        {
          "output_type": "display_data",
          "data": {
            "text/plain": [
              "\u001b[1mModel: \"sequential_5\"\u001b[0m\n"
            ],
            "text/html": [
              "<pre style=\"white-space:pre;overflow-x:auto;line-height:normal;font-family:Menlo,'DejaVu Sans Mono',consolas,'Courier New',monospace\"><span style=\"font-weight: bold\">Model: \"sequential_5\"</span>\n",
              "</pre>\n"
            ]
          },
          "metadata": {}
        },
        {
          "output_type": "display_data",
          "data": {
            "text/plain": [
              "┏━━━━━━━━━━━━━━━━━━━━━━━━━━━━━━━━━━━━━━┳━━━━━━━━━━━━━━━━━━━━━━━━━━━━━┳━━━━━━━━━━━━━━━━━┓\n",
              "┃\u001b[1m \u001b[0m\u001b[1mLayer (type)                        \u001b[0m\u001b[1m \u001b[0m┃\u001b[1m \u001b[0m\u001b[1mOutput Shape               \u001b[0m\u001b[1m \u001b[0m┃\u001b[1m \u001b[0m\u001b[1m        Param #\u001b[0m\u001b[1m \u001b[0m┃\n",
              "┡━━━━━━━━━━━━━━━━━━━━━━━━━━━━━━━━━━━━━━╇━━━━━━━━━━━━━━━━━━━━━━━━━━━━━╇━━━━━━━━━━━━━━━━━┩\n",
              "│ conv2d_6 (\u001b[38;5;33mConv2D\u001b[0m)                    │ (\u001b[38;5;45mNone\u001b[0m, \u001b[38;5;34m32\u001b[0m, \u001b[38;5;34m32\u001b[0m, \u001b[38;5;34m10\u001b[0m)          │             \u001b[38;5;34m280\u001b[0m │\n",
              "├──────────────────────────────────────┼─────────────────────────────┼─────────────────┤\n",
              "│ batch_normalization_2                │ (\u001b[38;5;45mNone\u001b[0m, \u001b[38;5;34m32\u001b[0m, \u001b[38;5;34m32\u001b[0m, \u001b[38;5;34m10\u001b[0m)          │              \u001b[38;5;34m40\u001b[0m │\n",
              "│ (\u001b[38;5;33mBatchNormalization\u001b[0m)                 │                             │                 │\n",
              "├──────────────────────────────────────┼─────────────────────────────┼─────────────────┤\n",
              "│ activation_2 (\u001b[38;5;33mActivation\u001b[0m)            │ (\u001b[38;5;45mNone\u001b[0m, \u001b[38;5;34m32\u001b[0m, \u001b[38;5;34m32\u001b[0m, \u001b[38;5;34m10\u001b[0m)          │               \u001b[38;5;34m0\u001b[0m │\n",
              "├──────────────────────────────────────┼─────────────────────────────┼─────────────────┤\n",
              "│ max_pooling2d_6 (\u001b[38;5;33mMaxPooling2D\u001b[0m)       │ (\u001b[38;5;45mNone\u001b[0m, \u001b[38;5;34m16\u001b[0m, \u001b[38;5;34m16\u001b[0m, \u001b[38;5;34m10\u001b[0m)          │               \u001b[38;5;34m0\u001b[0m │\n",
              "├──────────────────────────────────────┼─────────────────────────────┼─────────────────┤\n",
              "│ conv2d_7 (\u001b[38;5;33mConv2D\u001b[0m)                    │ (\u001b[38;5;45mNone\u001b[0m, \u001b[38;5;34m16\u001b[0m, \u001b[38;5;34m16\u001b[0m, \u001b[38;5;34m20\u001b[0m)          │           \u001b[38;5;34m1,820\u001b[0m │\n",
              "├──────────────────────────────────────┼─────────────────────────────┼─────────────────┤\n",
              "│ batch_normalization_3                │ (\u001b[38;5;45mNone\u001b[0m, \u001b[38;5;34m16\u001b[0m, \u001b[38;5;34m16\u001b[0m, \u001b[38;5;34m20\u001b[0m)          │              \u001b[38;5;34m80\u001b[0m │\n",
              "│ (\u001b[38;5;33mBatchNormalization\u001b[0m)                 │                             │                 │\n",
              "├──────────────────────────────────────┼─────────────────────────────┼─────────────────┤\n",
              "│ activation_3 (\u001b[38;5;33mActivation\u001b[0m)            │ (\u001b[38;5;45mNone\u001b[0m, \u001b[38;5;34m16\u001b[0m, \u001b[38;5;34m16\u001b[0m, \u001b[38;5;34m20\u001b[0m)          │               \u001b[38;5;34m0\u001b[0m │\n",
              "├──────────────────────────────────────┼─────────────────────────────┼─────────────────┤\n",
              "│ max_pooling2d_7 (\u001b[38;5;33mMaxPooling2D\u001b[0m)       │ (\u001b[38;5;45mNone\u001b[0m, \u001b[38;5;34m8\u001b[0m, \u001b[38;5;34m8\u001b[0m, \u001b[38;5;34m20\u001b[0m)            │               \u001b[38;5;34m0\u001b[0m │\n",
              "├──────────────────────────────────────┼─────────────────────────────┼─────────────────┤\n",
              "│ flatten_5 (\u001b[38;5;33mFlatten\u001b[0m)                  │ (\u001b[38;5;45mNone\u001b[0m, \u001b[38;5;34m1280\u001b[0m)                │               \u001b[38;5;34m0\u001b[0m │\n",
              "├──────────────────────────────────────┼─────────────────────────────┼─────────────────┤\n",
              "│ dense_11 (\u001b[38;5;33mDense\u001b[0m)                     │ (\u001b[38;5;45mNone\u001b[0m, \u001b[38;5;34m100\u001b[0m)                 │         \u001b[38;5;34m128,100\u001b[0m │\n",
              "├──────────────────────────────────────┼─────────────────────────────┼─────────────────┤\n",
              "│ batch_normalization_4                │ (\u001b[38;5;45mNone\u001b[0m, \u001b[38;5;34m100\u001b[0m)                 │             \u001b[38;5;34m400\u001b[0m │\n",
              "│ (\u001b[38;5;33mBatchNormalization\u001b[0m)                 │                             │                 │\n",
              "├──────────────────────────────────────┼─────────────────────────────┼─────────────────┤\n",
              "│ activation_4 (\u001b[38;5;33mActivation\u001b[0m)            │ (\u001b[38;5;45mNone\u001b[0m, \u001b[38;5;34m100\u001b[0m)                 │               \u001b[38;5;34m0\u001b[0m │\n",
              "├──────────────────────────────────────┼─────────────────────────────┼─────────────────┤\n",
              "│ dense_12 (\u001b[38;5;33mDense\u001b[0m)                     │ (\u001b[38;5;45mNone\u001b[0m, \u001b[38;5;34m10\u001b[0m)                  │           \u001b[38;5;34m1,010\u001b[0m │\n",
              "└──────────────────────────────────────┴─────────────────────────────┴─────────────────┘\n"
            ],
            "text/html": [
              "<pre style=\"white-space:pre;overflow-x:auto;line-height:normal;font-family:Menlo,'DejaVu Sans Mono',consolas,'Courier New',monospace\">┏━━━━━━━━━━━━━━━━━━━━━━━━━━━━━━━━━━━━━━┳━━━━━━━━━━━━━━━━━━━━━━━━━━━━━┳━━━━━━━━━━━━━━━━━┓\n",
              "┃<span style=\"font-weight: bold\"> Layer (type)                         </span>┃<span style=\"font-weight: bold\"> Output Shape                </span>┃<span style=\"font-weight: bold\">         Param # </span>┃\n",
              "┡━━━━━━━━━━━━━━━━━━━━━━━━━━━━━━━━━━━━━━╇━━━━━━━━━━━━━━━━━━━━━━━━━━━━━╇━━━━━━━━━━━━━━━━━┩\n",
              "│ conv2d_6 (<span style=\"color: #0087ff; text-decoration-color: #0087ff\">Conv2D</span>)                    │ (<span style=\"color: #00d7ff; text-decoration-color: #00d7ff\">None</span>, <span style=\"color: #00af00; text-decoration-color: #00af00\">32</span>, <span style=\"color: #00af00; text-decoration-color: #00af00\">32</span>, <span style=\"color: #00af00; text-decoration-color: #00af00\">10</span>)          │             <span style=\"color: #00af00; text-decoration-color: #00af00\">280</span> │\n",
              "├──────────────────────────────────────┼─────────────────────────────┼─────────────────┤\n",
              "│ batch_normalization_2                │ (<span style=\"color: #00d7ff; text-decoration-color: #00d7ff\">None</span>, <span style=\"color: #00af00; text-decoration-color: #00af00\">32</span>, <span style=\"color: #00af00; text-decoration-color: #00af00\">32</span>, <span style=\"color: #00af00; text-decoration-color: #00af00\">10</span>)          │              <span style=\"color: #00af00; text-decoration-color: #00af00\">40</span> │\n",
              "│ (<span style=\"color: #0087ff; text-decoration-color: #0087ff\">BatchNormalization</span>)                 │                             │                 │\n",
              "├──────────────────────────────────────┼─────────────────────────────┼─────────────────┤\n",
              "│ activation_2 (<span style=\"color: #0087ff; text-decoration-color: #0087ff\">Activation</span>)            │ (<span style=\"color: #00d7ff; text-decoration-color: #00d7ff\">None</span>, <span style=\"color: #00af00; text-decoration-color: #00af00\">32</span>, <span style=\"color: #00af00; text-decoration-color: #00af00\">32</span>, <span style=\"color: #00af00; text-decoration-color: #00af00\">10</span>)          │               <span style=\"color: #00af00; text-decoration-color: #00af00\">0</span> │\n",
              "├──────────────────────────────────────┼─────────────────────────────┼─────────────────┤\n",
              "│ max_pooling2d_6 (<span style=\"color: #0087ff; text-decoration-color: #0087ff\">MaxPooling2D</span>)       │ (<span style=\"color: #00d7ff; text-decoration-color: #00d7ff\">None</span>, <span style=\"color: #00af00; text-decoration-color: #00af00\">16</span>, <span style=\"color: #00af00; text-decoration-color: #00af00\">16</span>, <span style=\"color: #00af00; text-decoration-color: #00af00\">10</span>)          │               <span style=\"color: #00af00; text-decoration-color: #00af00\">0</span> │\n",
              "├──────────────────────────────────────┼─────────────────────────────┼─────────────────┤\n",
              "│ conv2d_7 (<span style=\"color: #0087ff; text-decoration-color: #0087ff\">Conv2D</span>)                    │ (<span style=\"color: #00d7ff; text-decoration-color: #00d7ff\">None</span>, <span style=\"color: #00af00; text-decoration-color: #00af00\">16</span>, <span style=\"color: #00af00; text-decoration-color: #00af00\">16</span>, <span style=\"color: #00af00; text-decoration-color: #00af00\">20</span>)          │           <span style=\"color: #00af00; text-decoration-color: #00af00\">1,820</span> │\n",
              "├──────────────────────────────────────┼─────────────────────────────┼─────────────────┤\n",
              "│ batch_normalization_3                │ (<span style=\"color: #00d7ff; text-decoration-color: #00d7ff\">None</span>, <span style=\"color: #00af00; text-decoration-color: #00af00\">16</span>, <span style=\"color: #00af00; text-decoration-color: #00af00\">16</span>, <span style=\"color: #00af00; text-decoration-color: #00af00\">20</span>)          │              <span style=\"color: #00af00; text-decoration-color: #00af00\">80</span> │\n",
              "│ (<span style=\"color: #0087ff; text-decoration-color: #0087ff\">BatchNormalization</span>)                 │                             │                 │\n",
              "├──────────────────────────────────────┼─────────────────────────────┼─────────────────┤\n",
              "│ activation_3 (<span style=\"color: #0087ff; text-decoration-color: #0087ff\">Activation</span>)            │ (<span style=\"color: #00d7ff; text-decoration-color: #00d7ff\">None</span>, <span style=\"color: #00af00; text-decoration-color: #00af00\">16</span>, <span style=\"color: #00af00; text-decoration-color: #00af00\">16</span>, <span style=\"color: #00af00; text-decoration-color: #00af00\">20</span>)          │               <span style=\"color: #00af00; text-decoration-color: #00af00\">0</span> │\n",
              "├──────────────────────────────────────┼─────────────────────────────┼─────────────────┤\n",
              "│ max_pooling2d_7 (<span style=\"color: #0087ff; text-decoration-color: #0087ff\">MaxPooling2D</span>)       │ (<span style=\"color: #00d7ff; text-decoration-color: #00d7ff\">None</span>, <span style=\"color: #00af00; text-decoration-color: #00af00\">8</span>, <span style=\"color: #00af00; text-decoration-color: #00af00\">8</span>, <span style=\"color: #00af00; text-decoration-color: #00af00\">20</span>)            │               <span style=\"color: #00af00; text-decoration-color: #00af00\">0</span> │\n",
              "├──────────────────────────────────────┼─────────────────────────────┼─────────────────┤\n",
              "│ flatten_5 (<span style=\"color: #0087ff; text-decoration-color: #0087ff\">Flatten</span>)                  │ (<span style=\"color: #00d7ff; text-decoration-color: #00d7ff\">None</span>, <span style=\"color: #00af00; text-decoration-color: #00af00\">1280</span>)                │               <span style=\"color: #00af00; text-decoration-color: #00af00\">0</span> │\n",
              "├──────────────────────────────────────┼─────────────────────────────┼─────────────────┤\n",
              "│ dense_11 (<span style=\"color: #0087ff; text-decoration-color: #0087ff\">Dense</span>)                     │ (<span style=\"color: #00d7ff; text-decoration-color: #00d7ff\">None</span>, <span style=\"color: #00af00; text-decoration-color: #00af00\">100</span>)                 │         <span style=\"color: #00af00; text-decoration-color: #00af00\">128,100</span> │\n",
              "├──────────────────────────────────────┼─────────────────────────────┼─────────────────┤\n",
              "│ batch_normalization_4                │ (<span style=\"color: #00d7ff; text-decoration-color: #00d7ff\">None</span>, <span style=\"color: #00af00; text-decoration-color: #00af00\">100</span>)                 │             <span style=\"color: #00af00; text-decoration-color: #00af00\">400</span> │\n",
              "│ (<span style=\"color: #0087ff; text-decoration-color: #0087ff\">BatchNormalization</span>)                 │                             │                 │\n",
              "├──────────────────────────────────────┼─────────────────────────────┼─────────────────┤\n",
              "│ activation_4 (<span style=\"color: #0087ff; text-decoration-color: #0087ff\">Activation</span>)            │ (<span style=\"color: #00d7ff; text-decoration-color: #00d7ff\">None</span>, <span style=\"color: #00af00; text-decoration-color: #00af00\">100</span>)                 │               <span style=\"color: #00af00; text-decoration-color: #00af00\">0</span> │\n",
              "├──────────────────────────────────────┼─────────────────────────────┼─────────────────┤\n",
              "│ dense_12 (<span style=\"color: #0087ff; text-decoration-color: #0087ff\">Dense</span>)                     │ (<span style=\"color: #00d7ff; text-decoration-color: #00d7ff\">None</span>, <span style=\"color: #00af00; text-decoration-color: #00af00\">10</span>)                  │           <span style=\"color: #00af00; text-decoration-color: #00af00\">1,010</span> │\n",
              "└──────────────────────────────────────┴─────────────────────────────┴─────────────────┘\n",
              "</pre>\n"
            ]
          },
          "metadata": {}
        },
        {
          "output_type": "display_data",
          "data": {
            "text/plain": [
              "\u001b[1m Total params: \u001b[0m\u001b[38;5;34m131,730\u001b[0m (514.57 KB)\n"
            ],
            "text/html": [
              "<pre style=\"white-space:pre;overflow-x:auto;line-height:normal;font-family:Menlo,'DejaVu Sans Mono',consolas,'Courier New',monospace\"><span style=\"font-weight: bold\"> Total params: </span><span style=\"color: #00af00; text-decoration-color: #00af00\">131,730</span> (514.57 KB)\n",
              "</pre>\n"
            ]
          },
          "metadata": {}
        },
        {
          "output_type": "display_data",
          "data": {
            "text/plain": [
              "\u001b[1m Trainable params: \u001b[0m\u001b[38;5;34m131,470\u001b[0m (513.55 KB)\n"
            ],
            "text/html": [
              "<pre style=\"white-space:pre;overflow-x:auto;line-height:normal;font-family:Menlo,'DejaVu Sans Mono',consolas,'Courier New',monospace\"><span style=\"font-weight: bold\"> Trainable params: </span><span style=\"color: #00af00; text-decoration-color: #00af00\">131,470</span> (513.55 KB)\n",
              "</pre>\n"
            ]
          },
          "metadata": {}
        },
        {
          "output_type": "display_data",
          "data": {
            "text/plain": [
              "\u001b[1m Non-trainable params: \u001b[0m\u001b[38;5;34m260\u001b[0m (1.02 KB)\n"
            ],
            "text/html": [
              "<pre style=\"white-space:pre;overflow-x:auto;line-height:normal;font-family:Menlo,'DejaVu Sans Mono',consolas,'Courier New',monospace\"><span style=\"font-weight: bold\"> Non-trainable params: </span><span style=\"color: #00af00; text-decoration-color: #00af00\">260</span> (1.02 KB)\n",
              "</pre>\n"
            ]
          },
          "metadata": {}
        }
      ]
    },
    {
      "cell_type": "markdown",
      "source": [
        "Шаг 1: Обучение модели"
      ],
      "metadata": {
        "id": "t5hY3uV8Dpg6"
      }
    },
    {
      "cell_type": "code",
      "source": [
        "# Коллбеки для обучения\n",
        "callbacks = [\n",
        "    tf.keras.callbacks.EarlyStopping(patience=5, restore_best_weights=True),\n",
        "    tf.keras.callbacks.TensorBoard(log_dir='./logs')\n",
        "]\n",
        "\n",
        "# Обучение модели\n",
        "history = models['base_model'].fit(\n",
        "    X_train, y_train,\n",
        "    batch_size=32,\n",
        "    epochs=20,\n",
        "    validation_data=(X_val, y_val),\n",
        "    callbacks=callbacks,\n",
        "    verbose=1\n",
        ")\n"
      ],
      "metadata": {
        "colab": {
          "base_uri": "https://localhost:8080/"
        },
        "id": "JfGdX49UDrFp",
        "outputId": "07ef7adc-807b-496d-e671-b4f3036e2654"
      },
      "execution_count": null,
      "outputs": [
        {
          "output_type": "stream",
          "name": "stdout",
          "text": [
            "Epoch 1/20\n",
            "\u001b[1m1250/1250\u001b[0m \u001b[32m━━━━━━━━━━━━━━━━━━━━\u001b[0m\u001b[37m\u001b[0m \u001b[1m59s\u001b[0m 45ms/step - loss: 1.5191 - sparse_categorical_accuracy: 0.4645 - val_loss: 1.1094 - val_sparse_categorical_accuracy: 0.6027\n",
            "Epoch 2/20\n",
            "\u001b[1m1250/1250\u001b[0m \u001b[32m━━━━━━━━━━━━━━━━━━━━\u001b[0m\u001b[37m\u001b[0m \u001b[1m83s\u001b[0m 46ms/step - loss: 1.0219 - sparse_categorical_accuracy: 0.6450 - val_loss: 1.1584 - val_sparse_categorical_accuracy: 0.5879\n",
            "Epoch 3/20\n",
            "\u001b[1m1250/1250\u001b[0m \u001b[32m━━━━━━━━━━━━━━━━━━━━\u001b[0m\u001b[37m\u001b[0m \u001b[1m79s\u001b[0m 43ms/step - loss: 0.8677 - sparse_categorical_accuracy: 0.6984 - val_loss: 1.0610 - val_sparse_categorical_accuracy: 0.6346\n",
            "Epoch 4/20\n",
            "\u001b[1m1250/1250\u001b[0m \u001b[32m━━━━━━━━━━━━━━━━━━━━\u001b[0m\u001b[37m\u001b[0m \u001b[1m86s\u001b[0m 46ms/step - loss: 0.7750 - sparse_categorical_accuracy: 0.7315 - val_loss: 0.9752 - val_sparse_categorical_accuracy: 0.6581\n",
            "Epoch 5/20\n",
            "\u001b[1m1250/1250\u001b[0m \u001b[32m━━━━━━━━━━━━━━━━━━━━\u001b[0m\u001b[37m\u001b[0m \u001b[1m79s\u001b[0m 44ms/step - loss: 0.6926 - sparse_categorical_accuracy: 0.7594 - val_loss: 1.3007 - val_sparse_categorical_accuracy: 0.5911\n",
            "Epoch 6/20\n",
            "\u001b[1m1250/1250\u001b[0m \u001b[32m━━━━━━━━━━━━━━━━━━━━\u001b[0m\u001b[37m\u001b[0m \u001b[1m57s\u001b[0m 46ms/step - loss: 0.6141 - sparse_categorical_accuracy: 0.7899 - val_loss: 1.1262 - val_sparse_categorical_accuracy: 0.6292\n",
            "Epoch 7/20\n",
            "\u001b[1m1250/1250\u001b[0m \u001b[32m━━━━━━━━━━━━━━━━━━━━\u001b[0m\u001b[37m\u001b[0m \u001b[1m79s\u001b[0m 44ms/step - loss: 0.5633 - sparse_categorical_accuracy: 0.8051 - val_loss: 0.9993 - val_sparse_categorical_accuracy: 0.6624\n",
            "Epoch 8/20\n",
            "\u001b[1m1250/1250\u001b[0m \u001b[32m━━━━━━━━━━━━━━━━━━━━\u001b[0m\u001b[37m\u001b[0m \u001b[1m86s\u001b[0m 47ms/step - loss: 0.5128 - sparse_categorical_accuracy: 0.8240 - val_loss: 1.1071 - val_sparse_categorical_accuracy: 0.6428\n",
            "Epoch 9/20\n",
            "\u001b[1m1250/1250\u001b[0m \u001b[32m━━━━━━━━━━━━━━━━━━━━\u001b[0m\u001b[37m\u001b[0m \u001b[1m79s\u001b[0m 44ms/step - loss: 0.4620 - sparse_categorical_accuracy: 0.8416 - val_loss: 1.1660 - val_sparse_categorical_accuracy: 0.6431\n"
          ]
        }
      ]
    },
    {
      "cell_type": "markdown",
      "source": [
        "Шаг 2: Оценка модели"
      ],
      "metadata": {
        "id": "k_9nFAMEHFZ3"
      }
    },
    {
      "cell_type": "code",
      "source": [
        "# Оценка точности на тестовых данных\n",
        "from sklearn.metrics import accuracy_score\n",
        "\n",
        "# Предсказания на тестовых данных\n",
        "predictions = models['base_model'].predict(X_test)\n",
        "predicted_classes = np.argmax(predictions, axis=1)\n",
        "\n",
        "# Вычисление метрики\n",
        "test_accuracy = accuracy_score(y_test, predicted_classes)\n",
        "print(f\"Точность модели на тестовом наборе: {test_accuracy:.2f}\")\n"
      ],
      "metadata": {
        "colab": {
          "base_uri": "https://localhost:8080/"
        },
        "id": "y_le0JuVHGmy",
        "outputId": "ef8faf2d-1190-4be9-e2f8-8963f3082e51"
      },
      "execution_count": null,
      "outputs": [
        {
          "output_type": "stream",
          "name": "stdout",
          "text": [
            "\u001b[1m313/313\u001b[0m \u001b[32m━━━━━━━━━━━━━━━━━━━━\u001b[0m\u001b[37m\u001b[0m \u001b[1m4s\u001b[0m 12ms/step\n",
            "Точность модели на тестовом наборе: 0.66\n"
          ]
        }
      ]
    },
    {
      "cell_type": "markdown",
      "source": [
        "Шаг 3: Визуализация кривых обучения"
      ],
      "metadata": {
        "id": "nIdvXnwSHQ5I"
      }
    },
    {
      "cell_type": "code",
      "source": [
        "# Визуализация кривых обучения\n",
        "import matplotlib.pyplot as plt\n",
        "\n",
        "plt.figure(figsize=(12, 6))\n",
        "\n",
        "# Точность\n",
        "plt.subplot(1, 2, 1)\n",
        "plt.plot(history.history['sparse_categorical_accuracy'], label='Train Accuracy')\n",
        "plt.plot(history.history['val_sparse_categorical_accuracy'], label='Val Accuracy')\n",
        "plt.title('Accuracy over epochs')\n",
        "plt.xlabel('Epochs')\n",
        "plt.ylabel('Accuracy')\n",
        "plt.legend()\n",
        "\n",
        "# Потери\n",
        "plt.subplot(1, 2, 2)\n",
        "plt.plot(history.history['loss'], label='Train Loss')\n",
        "plt.plot(history.history['val_loss'], label='Val Loss')\n",
        "plt.title('Loss over epochs')\n",
        "plt.xlabel('Epochs')\n",
        "plt.ylabel('Loss')\n",
        "plt.legend()\n",
        "\n",
        "plt.tight_layout()\n",
        "plt.show()\n"
      ],
      "metadata": {
        "colab": {
          "base_uri": "https://localhost:8080/",
          "height": 607
        },
        "id": "1OWH4LxeHR_D",
        "outputId": "4ce23400-15b3-4694-ac32-9b1f0343d1fd"
      },
      "execution_count": null,
      "outputs": [
        {
          "output_type": "display_data",
          "data": {
            "text/plain": [
              "<Figure size 1200x600 with 2 Axes>"
            ],
            "image/png": "[encoded data removed]"
          },
          "metadata": {}
        }
      ]
    },
    {
      "cell_type": "markdown",
      "metadata": {
        "id": "VUBUmZoB0Izj"
      },
      "source": [
        "Прокомментируйте полученные результаты."
      ]
    },
    {
      "cell_type": "markdown",
      "source": [
        "**Прогресс в обучении:**\n",
        "\n",
        "Модель показывает стабильное улучшение точности на тренировочном наборе данных от 46% на 1-й эпохе до 84% на 9-й.\n",
        "\n",
        "На валидационном наборе максимальная точность достигнута на 4-й эпохе — 65.81%. После этого происходит небольшое снижение и колебания точности, что может указывать на начало переобучения.\n",
        "\n",
        "Потери (loss) на тренировочных данных уменьшаются с каждой эпохой, но на валидационном наборе после 4-й эпохи наблюдается их рост. Это также свидетельствует о вероятном переобучении.\n",
        "\n",
        "**Роль нормализации:**\n",
        "\n",
        "Добавление нормализации по батчу (BatchNormalization) помогло ускорить обучение, что видно по резкому улучшению точности в первых эпохах. Она также способствует стабилизации обучения и улучшению обобщающей способности модели.\n",
        "\n",
        "**Итоговые результаты:**\n",
        "\n",
        "Точность на тестовом наборе: 66%. Это заметное улучшение по сравнению с предыдущими архитектурами, которые показывали около 58%.\n",
        "\n",
        "Точность на валидационном наборе: 65.81% (максимальная).\n",
        "\n",
        "Точность на тренировочном наборе: 84.16%. Это указывает на наличие некоторого разрыва между тренировочной и тестовой точностью, который может быть вызван сложностью модели или недостаточным размером тренировочных данных.\n"
      ],
      "metadata": {
        "id": "pg_AwdP8IAbv"
      }
    },
    {
      "cell_type": "markdown",
      "metadata": {
        "id": "G3Doml67xjev"
      },
      "source": [
        "**Задание 1.5 (опционально)** Посмотрите на batch_size (параметр model.fit) - при большем батче модель будет быстрее проходить эпохи, но с совсем огромным батчом вам потребуется больше эпох для сходимости (т.к. сеть делает меньше шагов за одну эпоху).\n",
        "Найдите такое значение, при котором модель быстрее достигает точности 55%. **Hint**: используйте early stopping callback."
      ]
    },
    {
      "cell_type": "markdown",
      "source": [
        "Для каждого значения batch_size:\n",
        "\n",
        "Создадим новуюя модель.\n",
        "\n",
        "Модель обучается на данных X_train и y_train с ранней остановкой.\n",
        "\n",
        "Фиксируется время обучения, количество эпох до достижения точности 55% и итоговая точность.\n",
        "\n",
        "После завершения экспериментов выводятся результаты: какой batch_size быстрее достиг точности 55%."
      ],
      "metadata": {
        "id": "t26lzh2wIu8T"
      }
    },
    {
      "cell_type": "code",
      "source": [
        "import time\n",
        "\n",
        "# Параметры для эксперимента\n",
        "batch_sizes = [16, 32, 64, 128, 256]\n",
        "results = []\n",
        "\n",
        "# Callback для ранней остановки\n",
        "early_stopping = tf.keras.callbacks.EarlyStopping(\n",
        "    monitor='val_sparse_categorical_accuracy',\n",
        "    patience=3,\n",
        "    restore_best_weights=True\n",
        ")\n",
        "\n",
        "# Функция для создания модели\n",
        "def create_model():\n",
        "    model = tf.keras.models.Sequential([\n",
        "        L.Conv2D(10, (3, 3), input_shape=(32, 32, 3)),\n",
        "        L.BatchNormalization(),\n",
        "        L.Activation('relu'),\n",
        "        L.MaxPooling2D((2, 2)),\n",
        "        L.Conv2D(20, (3, 3)),\n",
        "        L.BatchNormalization(),\n",
        "        L.Activation('relu'),\n",
        "        L.MaxPooling2D((2, 2)),\n",
        "        L.Flatten(),\n",
        "        L.Dense(100, activation=None),\n",
        "        L.BatchNormalization(),\n",
        "        L.Activation('relu'),\n",
        "        L.Dense(10, activation='softmax')\n",
        "    ])\n",
        "    model.compile(\n",
        "        optimizer='adam',\n",
        "        loss='sparse_categorical_crossentropy',\n",
        "        metrics=['sparse_categorical_accuracy']\n",
        "    )\n",
        "    return model\n",
        "\n",
        "# Эксперимент с разными batch_size\n",
        "for batch_size in batch_sizes:\n",
        "    print(f\"\\nTraining with batch_size={batch_size}\")\n",
        "    model = create_model()\n",
        "    start_time = time.time()\n",
        "\n",
        "    history = model.fit(\n",
        "        X_train, y_train,\n",
        "        batch_size=batch_size,\n",
        "        epochs=20,\n",
        "        validation_data=(X_val, y_val),\n",
        "        callbacks=[early_stopping],\n",
        "        verbose=1\n",
        "    )\n",
        "\n",
        "    # Получение эпохи достижения 55% точности\n",
        "    val_acc = history.history['val_sparse_categorical_accuracy']\n",
        "    epochs_to_55 = next((i + 1 for i, acc in enumerate(val_acc) if acc >= 0.55), None)\n",
        "\n",
        "    # Сохранение результата\n",
        "    results.append({\n",
        "        'batch_size': batch_size,\n",
        "        'time_elapsed': time.time() - start_time,\n",
        "        'epochs_to_55': epochs_to_55,\n",
        "        'final_accuracy': val_acc[-1]\n",
        "    })\n",
        "\n",
        "# Вывод результатов\n",
        "for res in results:\n",
        "    print(f\"Batch size: {res['batch_size']} - Time: {res['time_elapsed']:.2f}s, \"\n",
        "          f\"Epochs to 55%: {res['epochs_to_55']}, Final accuracy: {res['final_accuracy']:.4f}\")\n"
      ],
      "metadata": {
        "colab": {
          "base_uri": "https://localhost:8080/"
        },
        "id": "7TxnvPnWI4JW",
        "outputId": "a44bdb8e-175f-4618-b094-122abfaf3794"
      },
      "execution_count": null,
      "outputs": [
        {
          "output_type": "stream",
          "name": "stdout",
          "text": [
            "\n",
            "Training with batch_size=16\n"
          ]
        },
        {
          "output_type": "stream",
          "name": "stderr",
          "text": [
            "/usr/local/lib/python3.11/dist-packages/keras/src/layers/convolutional/base_conv.py:107: UserWarning: Do not pass an `input_shape`/`input_dim` argument to a layer. When using Sequential models, prefer using an `Input(shape)` object as the first layer in the model instead.\n",
            "  super().__init__(activity_regularizer=activity_regularizer, **kwargs)\n"
          ]
        },
        {
          "output_type": "stream",
          "name": "stdout",
          "text": [
            "Epoch 1/20\n",
            "\u001b[1m2500/2500\u001b[0m \u001b[32m━━━━━━━━━━━━━━━━━━━━\u001b[0m\u001b[37m\u001b[0m \u001b[1m60s\u001b[0m 23ms/step - loss: 1.5967 - sparse_categorical_accuracy: 0.4301 - val_loss: 1.3064 - val_sparse_categorical_accuracy: 0.5320\n",
            "Epoch 2/20\n",
            "\u001b[1m2500/2500\u001b[0m \u001b[32m━━━━━━━━━━━━━━━━━━━━\u001b[0m\u001b[37m\u001b[0m \u001b[1m78s\u001b[0m 21ms/step - loss: 1.1576 - sparse_categorical_accuracy: 0.5941 - val_loss: 1.3177 - val_sparse_categorical_accuracy: 0.5484\n",
            "Epoch 3/20\n",
            "\u001b[1m2500/2500\u001b[0m \u001b[32m━━━━━━━━━━━━━━━━━━━━\u001b[0m\u001b[37m\u001b[0m \u001b[1m83s\u001b[0m 22ms/step - loss: 1.0265 - sparse_categorical_accuracy: 0.6444 - val_loss: 1.1052 - val_sparse_categorical_accuracy: 0.6065\n",
            "Epoch 4/20\n",
            "\u001b[1m2500/2500\u001b[0m \u001b[32m━━━━━━━━━━━━━━━━━━━━\u001b[0m\u001b[37m\u001b[0m \u001b[1m79s\u001b[0m 21ms/step - loss: 0.9474 - sparse_categorical_accuracy: 0.6687 - val_loss: 1.0870 - val_sparse_categorical_accuracy: 0.6268\n",
            "Epoch 5/20\n",
            "\u001b[1m2500/2500\u001b[0m \u001b[32m━━━━━━━━━━━━━━━━━━━━\u001b[0m\u001b[37m\u001b[0m \u001b[1m83s\u001b[0m 21ms/step - loss: 0.8928 - sparse_categorical_accuracy: 0.6901 - val_loss: 1.0471 - val_sparse_categorical_accuracy: 0.6318\n",
            "Epoch 6/20\n",
            "\u001b[1m2500/2500\u001b[0m \u001b[32m━━━━━━━━━━━━━━━━━━━━\u001b[0m\u001b[37m\u001b[0m \u001b[1m81s\u001b[0m 21ms/step - loss: 0.8457 - sparse_categorical_accuracy: 0.7050 - val_loss: 1.1250 - val_sparse_categorical_accuracy: 0.6136\n",
            "Epoch 7/20\n",
            "\u001b[1m2500/2500\u001b[0m \u001b[32m━━━━━━━━━━━━━━━━━━━━\u001b[0m\u001b[37m\u001b[0m \u001b[1m82s\u001b[0m 21ms/step - loss: 0.7899 - sparse_categorical_accuracy: 0.7257 - val_loss: 1.1473 - val_sparse_categorical_accuracy: 0.6235\n",
            "Epoch 8/20\n",
            "\u001b[1m2500/2500\u001b[0m \u001b[32m━━━━━━━━━━━━━━━━━━━━\u001b[0m\u001b[37m\u001b[0m \u001b[1m50s\u001b[0m 20ms/step - loss: 0.7429 - sparse_categorical_accuracy: 0.7407 - val_loss: 0.9857 - val_sparse_categorical_accuracy: 0.6585\n",
            "Epoch 9/20\n",
            "\u001b[1m2500/2500\u001b[0m \u001b[32m━━━━━━━━━━━━━━━━━━━━\u001b[0m\u001b[37m\u001b[0m \u001b[1m85s\u001b[0m 21ms/step - loss: 0.7250 - sparse_categorical_accuracy: 0.7452 - val_loss: 1.0453 - val_sparse_categorical_accuracy: 0.6559\n",
            "Epoch 10/20\n",
            "\u001b[1m2500/2500\u001b[0m \u001b[32m━━━━━━━━━━━━━━━━━━━━\u001b[0m\u001b[37m\u001b[0m \u001b[1m50s\u001b[0m 20ms/step - loss: 0.6951 - sparse_categorical_accuracy: 0.7577 - val_loss: 1.0666 - val_sparse_categorical_accuracy: 0.6476\n",
            "Epoch 11/20\n",
            "\u001b[1m2500/2500\u001b[0m \u001b[32m━━━━━━━━━━━━━━━━━━━━\u001b[0m\u001b[37m\u001b[0m \u001b[1m86s\u001b[0m 22ms/step - loss: 0.6600 - sparse_categorical_accuracy: 0.7671 - val_loss: 1.0571 - val_sparse_categorical_accuracy: 0.6554\n",
            "\n",
            "Training with batch_size=32\n",
            "Epoch 1/20\n",
            "\u001b[1m1250/1250\u001b[0m \u001b[32m━━━━━━━━━━━━━━━━━━━━\u001b[0m\u001b[37m\u001b[0m \u001b[1m47s\u001b[0m 35ms/step - loss: 1.6031 - sparse_categorical_accuracy: 0.4285 - val_loss: 1.4513 - val_sparse_categorical_accuracy: 0.4936\n",
            "Epoch 2/20\n",
            "\u001b[1m1250/1250\u001b[0m \u001b[32m━━━━━━━━━━━━━━━━━━━━\u001b[0m\u001b[37m\u001b[0m \u001b[1m82s\u001b[0m 35ms/step - loss: 1.1006 - sparse_categorical_accuracy: 0.6138 - val_loss: 1.2160 - val_sparse_categorical_accuracy: 0.5784\n",
            "Epoch 3/20\n",
            "\u001b[1m1250/1250\u001b[0m \u001b[32m━━━━━━━━━━━━━━━━━━━━\u001b[0m\u001b[37m\u001b[0m \u001b[1m47s\u001b[0m 38ms/step - loss: 0.9731 - sparse_categorical_accuracy: 0.6598 - val_loss: 1.1786 - val_sparse_categorical_accuracy: 0.5842\n",
            "\n",
            "Training with batch_size=64\n",
            "Epoch 1/20\n",
            "\u001b[1m625/625\u001b[0m \u001b[32m━━━━━━━━━━━━━━━━━━━━\u001b[0m\u001b[37m\u001b[0m \u001b[1m43s\u001b[0m 64ms/step - loss: 1.6013 - sparse_categorical_accuracy: 0.4339 - val_loss: 1.3142 - val_sparse_categorical_accuracy: 0.5326\n",
            "Epoch 2/20\n",
            "\u001b[1m625/625\u001b[0m \u001b[32m━━━━━━━━━━━━━━━━━━━━\u001b[0m\u001b[37m\u001b[0m \u001b[1m40s\u001b[0m 63ms/step - loss: 1.0947 - sparse_categorical_accuracy: 0.6178 - val_loss: 1.7724 - val_sparse_categorical_accuracy: 0.4186\n",
            "Epoch 3/20\n",
            "\u001b[1m625/625\u001b[0m \u001b[32m━━━━━━━━━━━━━━━━━━━━\u001b[0m\u001b[37m\u001b[0m \u001b[1m38s\u001b[0m 59ms/step - loss: 0.9542 - sparse_categorical_accuracy: 0.6694 - val_loss: 1.1765 - val_sparse_categorical_accuracy: 0.5996\n",
            "\n",
            "Training with batch_size=128\n",
            "Epoch 1/20\n",
            "\u001b[1m313/313\u001b[0m \u001b[32m━━━━━━━━━━━━━━━━━━━━\u001b[0m\u001b[37m\u001b[0m \u001b[1m39s\u001b[0m 114ms/step - loss: 1.6811 - sparse_categorical_accuracy: 0.4054 - val_loss: 2.4398 - val_sparse_categorical_accuracy: 0.2466\n",
            "Epoch 2/20\n",
            "\u001b[1m313/313\u001b[0m \u001b[32m━━━━━━━━━━━━━━━━━━━━\u001b[0m\u001b[37m\u001b[0m \u001b[1m37s\u001b[0m 118ms/step - loss: 1.1313 - sparse_categorical_accuracy: 0.6034 - val_loss: 1.2711 - val_sparse_categorical_accuracy: 0.5604\n",
            "Epoch 3/20\n",
            "\u001b[1m313/313\u001b[0m \u001b[32m━━━━━━━━━━━━━━━━━━━━\u001b[0m\u001b[37m\u001b[0m \u001b[1m43s\u001b[0m 124ms/step - loss: 0.9903 - sparse_categorical_accuracy: 0.6563 - val_loss: 1.1136 - val_sparse_categorical_accuracy: 0.6107\n",
            "\n",
            "Training with batch_size=256\n",
            "Epoch 1/20\n",
            "\u001b[1m157/157\u001b[0m \u001b[32m━━━━━━━━━━━━━━━━━━━━\u001b[0m\u001b[37m\u001b[0m \u001b[1m39s\u001b[0m 228ms/step - loss: 1.7702 - sparse_categorical_accuracy: 0.3792 - val_loss: 2.5515 - val_sparse_categorical_accuracy: 0.1728\n",
            "Epoch 2/20\n",
            "\u001b[1m157/157\u001b[0m \u001b[32m━━━━━━━━━━━━━━━━━━━━\u001b[0m\u001b[37m\u001b[0m \u001b[1m33s\u001b[0m 211ms/step - loss: 1.2168 - sparse_categorical_accuracy: 0.5756 - val_loss: 2.1434 - val_sparse_categorical_accuracy: 0.3244\n",
            "Epoch 3/20\n",
            "\u001b[1m157/157\u001b[0m \u001b[32m━━━━━━━━━━━━━━━━━━━━\u001b[0m\u001b[37m\u001b[0m \u001b[1m41s\u001b[0m 209ms/step - loss: 1.0553 - sparse_categorical_accuracy: 0.6363 - val_loss: 1.4460 - val_sparse_categorical_accuracy: 0.4870\n",
            "Batch size: 16 - Time: 819.61s, Epochs to 55%: 3, Final accuracy: 0.6554\n",
            "Batch size: 32 - Time: 211.77s, Epochs to 55%: 2, Final accuracy: 0.5842\n",
            "Batch size: 64 - Time: 122.40s, Epochs to 55%: 3, Final accuracy: 0.5996\n",
            "Batch size: 128 - Time: 120.39s, Epochs to 55%: 2, Final accuracy: 0.6107\n",
            "Batch size: 256 - Time: 113.76s, Epochs to 55%: None, Final accuracy: 0.4870\n"
          ]
        }
      ]
    },
    {
      "cell_type": "markdown",
      "source": [
        "#Анализ результатов эксперимента\n",
        "\n",
        "**Выводы по времени обучения:**\n",
        "\n",
        "При увеличении размера батча время на одну эпоху уменьшается, так как модель делает меньше шагов.\n",
        "\n",
        "Однако для больших батчей требуется больше времени для достижения 55% точности, либо они вообще не достигают этого уровня из-за плохой сходимости (например, батч 256).\n",
        "\n",
        "**Эффективность достижения точности:**\n",
        "\n",
        "Батчи размером 32 и 128 показали наилучшую скорость достижения 55% точности (за 2 эпохи).\n",
        "\n",
        "Батчи 16 и 64 также достигают 55%, но требуют больше эпох (3).\n",
        "\n",
        "Батч 256 не достигает 55% точности даже после 3 эпох, что свидетельствует о снижении качества из-за слишком большого размера батча.\n",
        "\n",
        "**Итоговая точность:**\n",
        "\n",
        "Наивысшая итоговая точность достигается при батче 16 (65.5%).\n",
        "\n",
        "Батч 128 показывает компромисс между временем и точностью, достигая 61.1% при разумном времени.\n",
        "\n",
        "**Общий вывод**\n",
        "\n",
        "Оптимальный размер батча для данной задачи — 128, так как он достигает 55% точности за минимальное количество эпох и показывает достойную итоговую точность.\n",
        "\n",
        "Однако, если приоритет отдается максимальной точности, стоит использовать батч 16, несмотря на более длительное время обучения."
      ],
      "metadata": {
        "id": "4oSaHpiGOx9X"
      }
    },
    {
      "cell_type": "markdown",
      "metadata": {
        "id": "L1GsMtyIxjew"
      },
      "source": [
        "**Задание 1.6 (опционально)** Попробуйте найти такую комбинацию метода обучения и нормализации, при которой сеть имеет наилучшую кривую обучения. Поясните, что вы понимаете под \"наилучшей\" кривой обучения."
      ]
    },
    {
      "cell_type": "markdown",
      "source": [
        "#План выполнения задания 1.6\n",
        "\n",
        "**Определение \"наилучшей\" кривой обучения:**\n",
        "\n",
        "Наилучшая кривая обучения характеризуется следующими свойствами:\n",
        "\n",
        "Быстрая сходимость: высокая точность (accuracy) достигается за минимальное количество эпох.\n",
        "\n",
        "Минимальная разница между валидационной и обучающей выборкой: указывает на отсутствие переобучения.\n",
        "\n",
        "Стабильное снижение функции потерь (loss) без скачков и плоскостей.\n",
        "\n",
        "**Подход к задаче:**\n",
        "\n",
        "Сравнить комбинации методов обучения (оптимизаторов) и нормализаций (Batch Normalization и/или L2-регуляризация).\n",
        "\n",
        "Использовать разные архитектуры: базовая свёрточная сеть (из задания 1.4) и расширенная сеть с нормализацией.\n",
        "\n",
        "Протестировать следующие оптимизаторы:\n",
        "\n",
        "Adam\n",
        "RMSprop\n",
        "SGD с параметром момента (momentum).\n",
        "\n",
        "**Метрики и критерии оценки:**\n",
        "\n",
        "Кривая точности (accuracy) на валидационной выборке.\n",
        "\n",
        "Разница между точностью на обучающей и валидационной выборке.\n",
        "\n",
        "Время обучения для достижения 60% точности.\n",
        "\n",
        "**Мы создадим функцию для эксперимента, которая будет:**\n",
        "\n",
        "Принимать комбинации методов обучения и нормализаций.\n",
        "\n",
        "Строить графики кривых обучения (loss и accuracy).\n",
        "\n",
        "Сравнивать результаты по определённым критериям."
      ],
      "metadata": {
        "id": "rIS7DmC4Pf-j"
      }
    },
    {
      "cell_type": "code",
      "source": [
        "# Импорты\n",
        "import tensorflow as tf\n",
        "from tensorflow.keras import layers as L, optimizers, models\n",
        "from tqdm.notebook import tqdm\n",
        "import matplotlib.pyplot as plt\n",
        "import pandas as pd\n",
        "import numpy as np\n",
        "\n",
        "# Функция для создания модели\n",
        "def create_model(normalization=None):\n",
        "    model = models.Sequential()\n",
        "    model.add(L.InputLayer(input_shape=(32, 32, 3)))\n",
        "\n",
        "    # Первый сверточный блок\n",
        "    model.add(L.Conv2D(32, (3, 3), padding='same'))\n",
        "    if normalization == 'batch_norm':\n",
        "        model.add(L.BatchNormalization())\n",
        "    model.add(L.Activation('relu'))\n",
        "    model.add(L.MaxPooling2D(pool_size=(2, 2)))\n",
        "\n",
        "    # Второй сверточный блок\n",
        "    model.add(L.Conv2D(64, (3, 3), padding='same'))\n",
        "    if normalization == 'batch_norm':\n",
        "        model.add(L.BatchNormalization())\n",
        "    model.add(L.Activation('relu'))\n",
        "    model.add(L.MaxPooling2D(pool_size=(2, 2)))\n",
        "\n",
        "    # Flatten -> Fully Connected -> Output\n",
        "    model.add(L.Flatten())\n",
        "    if normalization == 'l2_regularization':\n",
        "        model.add(L.Dense(128, activation='relu', kernel_regularizer=tf.keras.regularizers.L2(0.01)))\n",
        "    else:\n",
        "        model.add(L.Dense(128, activation='relu'))\n",
        "    model.add(L.Dense(10, activation='softmax'))\n",
        "\n",
        "    return model\n",
        "\n",
        "# Функция для запуска экспериментов\n",
        "def run_experiments_with_metrics(normalizations, optimizers_dict, X_train, y_train, X_val, y_val):\n",
        "    results = []\n",
        "    total_experiments = len(normalizations) * len(optimizers_dict)\n",
        "    with tqdm(total=total_experiments, desc=\"Running Experiments\") as pbar:\n",
        "        for norm in normalizations:\n",
        "            for opt_name, opt_class in optimizers_dict.items():\n",
        "                print(f\"\\nTraining with {norm} and {opt_name} optimizer...\")\n",
        "                # Создаём модель\n",
        "                model = create_model(normalization=norm)\n",
        "                optimizer = opt_class()\n",
        "                model.compile(\n",
        "                    optimizer=optimizer,\n",
        "                    loss='sparse_categorical_crossentropy',\n",
        "                    metrics=['sparse_categorical_accuracy']\n",
        "                )\n",
        "\n",
        "                # Callback для ранней остановки\n",
        "                early_stopping = tf.keras.callbacks.EarlyStopping(patience=3, restore_best_weights=True)\n",
        "\n",
        "                # Обучение модели\n",
        "                history = model.fit(\n",
        "                    X_train, y_train,\n",
        "                    batch_size=32,\n",
        "                    epochs=20,\n",
        "                    validation_data=(X_val, y_val),\n",
        "                    callbacks=[early_stopping],\n",
        "                    verbose=1\n",
        "                )\n",
        "\n",
        "                # Сохранение метрик\n",
        "                max_val_acc = max(history.history['val_sparse_categorical_accuracy'])\n",
        "                epoch_60_acc = next((i + 1 for i, acc in enumerate(history.history['val_sparse_categorical_accuracy']) if acc >= 0.6), None)\n",
        "                results.append({\n",
        "                    'Normalization': norm,\n",
        "                    'Optimizer': opt_name,\n",
        "                    'Max Validation Accuracy': max_val_acc,\n",
        "                    'Epoch to 60% Accuracy': epoch_60_acc,\n",
        "                    'Final Validation Loss': history.history['val_loss'][-1],\n",
        "                    'History': history.history  # Сохраняем историю\n",
        "                })\n",
        "\n",
        "                pbar.update(1)\n",
        "\n",
        "    return pd.DataFrame(results)\n",
        "\n",
        "# Функция для визуализации\n",
        "def plot_learning_curves(results):\n",
        "    plt.figure(figsize=(14, 8))\n",
        "    for _, row in results.iterrows():\n",
        "        label = f\"{row['Normalization']}_{row['Optimizer']}\"\n",
        "        plt.plot(row['History']['val_sparse_categorical_accuracy'], label=f\"{label} (Val Accuracy)\")\n",
        "        plt.plot(row['History']['sparse_categorical_accuracy'], linestyle='--', label=f\"{label} (Train Accuracy)\")\n",
        "\n",
        "    plt.title('Learning Curves (Validation and Training Accuracy)')\n",
        "    plt.xlabel('Epoch')\n",
        "    plt.ylabel('Accuracy')\n",
        "    plt.legend(loc='lower right')\n",
        "    plt.grid(True)\n",
        "    plt.show()\n",
        "\n",
        "# Словарь оптимизаторов\n",
        "optimizers_dict = {\n",
        "    'adam': optimizers.Adam,\n",
        "    'rmsprop': optimizers.RMSprop,\n",
        "    'sgd': optimizers.SGD\n",
        "}\n",
        "\n",
        "# Список нормализаций\n",
        "normalizations = ['batch_norm', 'l2_regularization', None]\n",
        "\n",
        "# Запуск экспериментов\n",
        "experiment_results_df = run_experiments_with_metrics(normalizations, optimizers_dict, X_train, y_train, X_val, y_val)\n",
        "\n"
      ],
      "metadata": {
        "colab": {
          "base_uri": "https://localhost:8080/",
          "height": 1000,
          "referenced_widgets": [
            "b66b3380ad034b28b3dafc88d3ce7f27",
            "e1a7b2e39fbd474baacbc741811b4b3f",
            "29b041ea0ad5454784959dbe750ad055",
            "79cea16735a84d38aa714ac3820e3ef9",
            "daebdd4189a64212ae58fabaa258a3b2",
            "e5532304627b480381754e89c05825bb",
            "1975c1b73c874a5abc90725b70df7856",
            "34cb1b6c61e149129b053dd4ae65c820",
            "421c3561229f46f3bbdad99a575c0f99",
            "da823dda68674bf5995e4f96308ea92f",
            "5fa8b08dce874524968e0bcdf801cf20"
          ]
        },
        "id": "P01T3xdViUfF",
        "outputId": "7fcd970e-e995-49f3-f251-ad38dc271e04"
      },
      "execution_count": null,
      "outputs": [
        {
          "output_type": "display_data",
          "data": {
            "text/plain": [
              "Running Experiments:   0%|          | 0/9 [00:00<?, ?it/s]"
            ],
            "application/vnd.jupyter.widget-view+json": {
              "version_major": 2,
              "version_minor": 0,
              "model_id": "b66b3380ad034b28b3dafc88d3ce7f27"
            }
          },
          "metadata": {}
        },
        {
          "output_type": "stream",
          "name": "stdout",
          "text": [
            "\n",
            "Training with batch_norm and adam optimizer...\n"
          ]
        },
        {
          "output_type": "stream",
          "name": "stderr",
          "text": [
            "/usr/local/lib/python3.11/dist-packages/keras/src/layers/core/input_layer.py:26: UserWarning: Argument `input_shape` is deprecated. Use `shape` instead.\n",
            "  warnings.warn(\n"
          ]
        },
        {
          "output_type": "stream",
          "name": "stdout",
          "text": [
            "Epoch 1/20\n",
            "\u001b[1m1250/1250\u001b[0m \u001b[32m━━━━━━━━━━━━━━━━━━━━\u001b[0m\u001b[37m\u001b[0m \u001b[1m14s\u001b[0m 4ms/step - loss: 1.7093 - sparse_categorical_accuracy: 0.4179 - val_loss: 1.3094 - val_sparse_categorical_accuracy: 0.5158\n",
            "Epoch 2/20\n",
            "\u001b[1m1250/1250\u001b[0m \u001b[32m━━━━━━━━━━━━━━━━━━━━\u001b[0m\u001b[37m\u001b[0m \u001b[1m13s\u001b[0m 3ms/step - loss: 1.0495 - sparse_categorical_accuracy: 0.6297 - val_loss: 1.0198 - val_sparse_categorical_accuracy: 0.6409\n",
            "Epoch 3/20\n",
            "\u001b[1m1250/1250\u001b[0m \u001b[32m━━━━━━━━━━━━━━━━━━━━\u001b[0m\u001b[37m\u001b[0m \u001b[1m8s\u001b[0m 5ms/step - loss: 0.9015 - sparse_categorical_accuracy: 0.6822 - val_loss: 1.0284 - val_sparse_categorical_accuracy: 0.6439\n",
            "Epoch 4/20\n",
            "\u001b[1m1250/1250\u001b[0m \u001b[32m━━━━━━━━━━━━━━━━━━━━\u001b[0m\u001b[37m\u001b[0m \u001b[1m4s\u001b[0m 3ms/step - loss: 0.8168 - sparse_categorical_accuracy: 0.7154 - val_loss: 0.9405 - val_sparse_categorical_accuracy: 0.6753\n",
            "Epoch 5/20\n",
            "\u001b[1m1250/1250\u001b[0m \u001b[32m━━━━━━━━━━━━━━━━━━━━\u001b[0m\u001b[37m\u001b[0m \u001b[1m5s\u001b[0m 3ms/step - loss: 0.7386 - sparse_categorical_accuracy: 0.7452 - val_loss: 0.8950 - val_sparse_categorical_accuracy: 0.6963\n",
            "Epoch 6/20\n",
            "\u001b[1m1250/1250\u001b[0m \u001b[32m━━━━━━━━━━━━━━━━━━━━\u001b[0m\u001b[37m\u001b[0m \u001b[1m4s\u001b[0m 4ms/step - loss: 0.6750 - sparse_categorical_accuracy: 0.7652 - val_loss: 0.9238 - val_sparse_categorical_accuracy: 0.6939\n",
            "Epoch 7/20\n",
            "\u001b[1m1250/1250\u001b[0m \u001b[32m━━━━━━━━━━━━━━━━━━━━\u001b[0m\u001b[37m\u001b[0m \u001b[1m4s\u001b[0m 3ms/step - loss: 0.6376 - sparse_categorical_accuracy: 0.7791 - val_loss: 1.6252 - val_sparse_categorical_accuracy: 0.5399\n",
            "Epoch 8/20\n",
            "\u001b[1m1250/1250\u001b[0m \u001b[32m━━━━━━━━━━━━━━━━━━━━\u001b[0m\u001b[37m\u001b[0m \u001b[1m4s\u001b[0m 3ms/step - loss: 0.5795 - sparse_categorical_accuracy: 0.7951 - val_loss: 0.9473 - val_sparse_categorical_accuracy: 0.6922\n",
            "\n",
            "Training with batch_norm and rmsprop optimizer...\n",
            "Epoch 1/20\n",
            "\u001b[1m1250/1250\u001b[0m \u001b[32m━━━━━━━━━━━━━━━━━━━━\u001b[0m\u001b[37m\u001b[0m \u001b[1m8s\u001b[0m 4ms/step - loss: 1.9869 - sparse_categorical_accuracy: 0.3964 - val_loss: 1.2743 - val_sparse_categorical_accuracy: 0.5412\n",
            "Epoch 2/20\n",
            "\u001b[1m1250/1250\u001b[0m \u001b[32m━━━━━━━━━━━━━━━━━━━━\u001b[0m\u001b[37m\u001b[0m \u001b[1m7s\u001b[0m 3ms/step - loss: 1.0822 - sparse_categorical_accuracy: 0.6171 - val_loss: 1.0159 - val_sparse_categorical_accuracy: 0.6468\n",
            "Epoch 3/20\n",
            "\u001b[1m1250/1250\u001b[0m \u001b[32m━━━━━━━━━━━━━━━━━━━━\u001b[0m\u001b[37m\u001b[0m \u001b[1m4s\u001b[0m 3ms/step - loss: 0.9122 - sparse_categorical_accuracy: 0.6809 - val_loss: 1.0745 - val_sparse_categorical_accuracy: 0.6162\n",
            "Epoch 4/20\n",
            "\u001b[1m1250/1250\u001b[0m \u001b[32m━━━━━━━━━━━━━━━━━━━━\u001b[0m\u001b[37m\u001b[0m \u001b[1m6s\u001b[0m 4ms/step - loss: 0.8100 - sparse_categorical_accuracy: 0.7199 - val_loss: 0.9117 - val_sparse_categorical_accuracy: 0.6936\n",
            "Epoch 5/20\n",
            "\u001b[1m1250/1250\u001b[0m \u001b[32m━━━━━━━━━━━━━━━━━━━━\u001b[0m\u001b[37m\u001b[0m \u001b[1m4s\u001b[0m 3ms/step - loss: 0.7245 - sparse_categorical_accuracy: 0.7495 - val_loss: 0.8934 - val_sparse_categorical_accuracy: 0.6893\n",
            "Epoch 6/20\n",
            "\u001b[1m1250/1250\u001b[0m \u001b[32m━━━━━━━━━━━━━━━━━━━━\u001b[0m\u001b[37m\u001b[0m \u001b[1m4s\u001b[0m 3ms/step - loss: 0.6607 - sparse_categorical_accuracy: 0.7682 - val_loss: 0.9785 - val_sparse_categorical_accuracy: 0.6697\n",
            "Epoch 7/20\n",
            "\u001b[1m1250/1250\u001b[0m \u001b[32m━━━━━━━━━━━━━━━━━━━━\u001b[0m\u001b[37m\u001b[0m \u001b[1m4s\u001b[0m 3ms/step - loss: 0.5961 - sparse_categorical_accuracy: 0.7930 - val_loss: 0.9687 - val_sparse_categorical_accuracy: 0.6932\n",
            "Epoch 8/20\n",
            "\u001b[1m1250/1250\u001b[0m \u001b[32m━━━━━━━━━━━━━━━━━━━━\u001b[0m\u001b[37m\u001b[0m \u001b[1m4s\u001b[0m 3ms/step - loss: 0.5317 - sparse_categorical_accuracy: 0.8155 - val_loss: 0.9925 - val_sparse_categorical_accuracy: 0.6841\n",
            "\n",
            "Training with batch_norm and sgd optimizer...\n",
            "Epoch 1/20\n",
            "\u001b[1m1250/1250\u001b[0m \u001b[32m━━━━━━━━━━━━━━━━━━━━\u001b[0m\u001b[37m\u001b[0m \u001b[1m7s\u001b[0m 4ms/step - loss: 1.6808 - sparse_categorical_accuracy: 0.3982 - val_loss: 1.5539 - val_sparse_categorical_accuracy: 0.4773\n",
            "Epoch 2/20\n",
            "\u001b[1m1250/1250\u001b[0m \u001b[32m━━━━━━━━━━━━━━━━━━━━\u001b[0m\u001b[37m\u001b[0m \u001b[1m7s\u001b[0m 3ms/step - loss: 1.1422 - sparse_categorical_accuracy: 0.5972 - val_loss: 1.1967 - val_sparse_categorical_accuracy: 0.5823\n",
            "Epoch 3/20\n",
            "\u001b[1m1250/1250\u001b[0m \u001b[32m━━━━━━━━━━━━━━━━━━━━\u001b[0m\u001b[37m\u001b[0m \u001b[1m4s\u001b[0m 3ms/step - loss: 0.9619 - sparse_categorical_accuracy: 0.6623 - val_loss: 0.9930 - val_sparse_categorical_accuracy: 0.6553\n",
            "Epoch 4/20\n",
            "\u001b[1m1250/1250\u001b[0m \u001b[32m━━━━━━━━━━━━━━━━━━━━\u001b[0m\u001b[37m\u001b[0m \u001b[1m4s\u001b[0m 3ms/step - loss: 0.8626 - sparse_categorical_accuracy: 0.6956 - val_loss: 0.9955 - val_sparse_categorical_accuracy: 0.6473\n",
            "Epoch 5/20\n",
            "\u001b[1m1250/1250\u001b[0m \u001b[32m━━━━━━━━━━━━━━━━━━━━\u001b[0m\u001b[37m\u001b[0m \u001b[1m3s\u001b[0m 3ms/step - loss: 0.7794 - sparse_categorical_accuracy: 0.7258 - val_loss: 1.0220 - val_sparse_categorical_accuracy: 0.6551\n",
            "Epoch 6/20\n",
            "\u001b[1m1250/1250\u001b[0m \u001b[32m━━━━━━━━━━━━━━━━━━━━\u001b[0m\u001b[37m\u001b[0m \u001b[1m4s\u001b[0m 3ms/step - loss: 0.7128 - sparse_categorical_accuracy: 0.7492 - val_loss: 0.9989 - val_sparse_categorical_accuracy: 0.6526\n",
            "\n",
            "Training with l2_regularization and adam optimizer...\n",
            "Epoch 1/20\n",
            "\u001b[1m1250/1250\u001b[0m \u001b[32m━━━━━━━━━━━━━━━━━━━━\u001b[0m\u001b[37m\u001b[0m \u001b[1m8s\u001b[0m 4ms/step - loss: 2.0206 - sparse_categorical_accuracy: 0.3629 - val_loss: 1.5169 - val_sparse_categorical_accuracy: 0.5160\n",
            "Epoch 2/20\n",
            "\u001b[1m1250/1250\u001b[0m \u001b[32m━━━━━━━━━━━━━━━━━━━━\u001b[0m\u001b[37m\u001b[0m \u001b[1m4s\u001b[0m 3ms/step - loss: 1.5042 - sparse_categorical_accuracy: 0.5216 - val_loss: 1.4065 - val_sparse_categorical_accuracy: 0.5702\n",
            "Epoch 3/20\n",
            "\u001b[1m1250/1250\u001b[0m \u001b[32m━━━━━━━━━━━━━━━━━━━━\u001b[0m\u001b[37m\u001b[0m \u001b[1m4s\u001b[0m 3ms/step - loss: 1.3755 - sparse_categorical_accuracy: 0.5784 - val_loss: 1.3756 - val_sparse_categorical_accuracy: 0.5890\n",
            "Epoch 4/20\n",
            "\u001b[1m1250/1250\u001b[0m \u001b[32m━━━━━━━━━━━━━━━━━━━━\u001b[0m\u001b[37m\u001b[0m \u001b[1m3s\u001b[0m 3ms/step - loss: 1.3034 - sparse_categorical_accuracy: 0.6072 - val_loss: 1.3294 - val_sparse_categorical_accuracy: 0.5925\n",
            "Epoch 5/20\n",
            "\u001b[1m1250/1250\u001b[0m \u001b[32m━━━━━━━━━━━━━━━━━━━━\u001b[0m\u001b[37m\u001b[0m \u001b[1m3s\u001b[0m 3ms/step - loss: 1.2633 - sparse_categorical_accuracy: 0.6187 - val_loss: 1.1942 - val_sparse_categorical_accuracy: 0.6516\n",
            "Epoch 6/20\n",
            "\u001b[1m1250/1250\u001b[0m \u001b[32m━━━━━━━━━━━━━━━━━━━━\u001b[0m\u001b[37m\u001b[0m \u001b[1m5s\u001b[0m 4ms/step - loss: 1.2271 - sparse_categorical_accuracy: 0.6367 - val_loss: 1.2501 - val_sparse_categorical_accuracy: 0.6226\n",
            "Epoch 7/20\n",
            "\u001b[1m1250/1250\u001b[0m \u001b[32m━━━━━━━━━━━━━━━━━━━━\u001b[0m\u001b[37m\u001b[0m \u001b[1m6s\u001b[0m 5ms/step - loss: 1.1839 - sparse_categorical_accuracy: 0.6477 - val_loss: 1.1937 - val_sparse_categorical_accuracy: 0.6352\n",
            "Epoch 8/20\n",
            "\u001b[1m1250/1250\u001b[0m \u001b[32m━━━━━━━━━━━━━━━━━━━━\u001b[0m\u001b[37m\u001b[0m \u001b[1m8s\u001b[0m 3ms/step - loss: 1.1526 - sparse_categorical_accuracy: 0.6617 - val_loss: 1.1694 - val_sparse_categorical_accuracy: 0.6578\n",
            "Epoch 9/20\n",
            "\u001b[1m1250/1250\u001b[0m \u001b[32m━━━━━━━━━━━━━━━━━━━━\u001b[0m\u001b[37m\u001b[0m \u001b[1m4s\u001b[0m 3ms/step - loss: 1.1297 - sparse_categorical_accuracy: 0.6718 - val_loss: 1.1498 - val_sparse_categorical_accuracy: 0.6618\n",
            "Epoch 10/20\n",
            "\u001b[1m1250/1250\u001b[0m \u001b[32m━━━━━━━━━━━━━━━━━━━━\u001b[0m\u001b[37m\u001b[0m \u001b[1m3s\u001b[0m 3ms/step - loss: 1.1017 - sparse_categorical_accuracy: 0.6800 - val_loss: 1.1994 - val_sparse_categorical_accuracy: 0.6418\n",
            "Epoch 11/20\n",
            "\u001b[1m1250/1250\u001b[0m \u001b[32m━━━━━━━━━━━━━━━━━━━━\u001b[0m\u001b[37m\u001b[0m \u001b[1m6s\u001b[0m 3ms/step - loss: 1.0921 - sparse_categorical_accuracy: 0.6865 - val_loss: 1.1058 - val_sparse_categorical_accuracy: 0.6764\n",
            "Epoch 12/20\n",
            "\u001b[1m1250/1250\u001b[0m \u001b[32m━━━━━━━━━━━━━━━━━━━━\u001b[0m\u001b[37m\u001b[0m \u001b[1m4s\u001b[0m 3ms/step - loss: 1.0635 - sparse_categorical_accuracy: 0.7000 - val_loss: 1.1061 - val_sparse_categorical_accuracy: 0.6786\n",
            "Epoch 13/20\n",
            "\u001b[1m1250/1250\u001b[0m \u001b[32m━━━━━━━━━━━━━━━━━━━━\u001b[0m\u001b[37m\u001b[0m \u001b[1m5s\u001b[0m 3ms/step - loss: 1.0574 - sparse_categorical_accuracy: 0.6982 - val_loss: 1.1325 - val_sparse_categorical_accuracy: 0.6718\n",
            "Epoch 14/20\n",
            "\u001b[1m1250/1250\u001b[0m \u001b[32m━━━━━━━━━━━━━━━━━━━━\u001b[0m\u001b[37m\u001b[0m \u001b[1m4s\u001b[0m 3ms/step - loss: 1.0333 - sparse_categorical_accuracy: 0.7080 - val_loss: 1.1887 - val_sparse_categorical_accuracy: 0.6454\n",
            "\n",
            "Training with l2_regularization and rmsprop optimizer...\n",
            "Epoch 1/20\n",
            "\u001b[1m1250/1250\u001b[0m \u001b[32m━━━━━━━━━━━━━━━━━━━━\u001b[0m\u001b[37m\u001b[0m \u001b[1m6s\u001b[0m 4ms/step - loss: 2.0876 - sparse_categorical_accuracy: 0.3328 - val_loss: 1.5164 - val_sparse_categorical_accuracy: 0.5123\n",
            "Epoch 2/20\n",
            "\u001b[1m1250/1250\u001b[0m \u001b[32m━━━━━━━━━━━━━━━━━━━━\u001b[0m\u001b[37m\u001b[0m \u001b[1m8s\u001b[0m 3ms/step - loss: 1.5347 - sparse_categorical_accuracy: 0.5117 - val_loss: 1.4003 - val_sparse_categorical_accuracy: 0.5658\n",
            "Epoch 3/20\n",
            "\u001b[1m1250/1250\u001b[0m \u001b[32m━━━━━━━━━━━━━━━━━━━━\u001b[0m\u001b[37m\u001b[0m \u001b[1m3s\u001b[0m 3ms/step - loss: 1.4069 - sparse_categorical_accuracy: 0.5605 - val_loss: 1.3561 - val_sparse_categorical_accuracy: 0.5757\n",
            "Epoch 4/20\n",
            "\u001b[1m1250/1250\u001b[0m \u001b[32m━━━━━━━━━━━━━━━━━━━━\u001b[0m\u001b[37m\u001b[0m \u001b[1m6s\u001b[0m 3ms/step - loss: 1.3198 - sparse_categorical_accuracy: 0.5956 - val_loss: 1.3799 - val_sparse_categorical_accuracy: 0.5698\n",
            "Epoch 5/20\n",
            "\u001b[1m1250/1250\u001b[0m \u001b[32m━━━━━━━━━━━━━━━━━━━━\u001b[0m\u001b[37m\u001b[0m \u001b[1m5s\u001b[0m 3ms/step - loss: 1.2693 - sparse_categorical_accuracy: 0.6201 - val_loss: 1.2338 - val_sparse_categorical_accuracy: 0.6305\n",
            "Epoch 6/20\n",
            "\u001b[1m1250/1250\u001b[0m \u001b[32m━━━━━━━━━━━━━━━━━━━━\u001b[0m\u001b[37m\u001b[0m \u001b[1m3s\u001b[0m 3ms/step - loss: 1.2336 - sparse_categorical_accuracy: 0.6344 - val_loss: 1.1883 - val_sparse_categorical_accuracy: 0.6465\n",
            "Epoch 7/20\n",
            "\u001b[1m1250/1250\u001b[0m \u001b[32m━━━━━━━━━━━━━━━━━━━━\u001b[0m\u001b[37m\u001b[0m \u001b[1m5s\u001b[0m 3ms/step - loss: 1.1970 - sparse_categorical_accuracy: 0.6451 - val_loss: 1.2397 - val_sparse_categorical_accuracy: 0.6240\n",
            "Epoch 8/20\n",
            "\u001b[1m1250/1250\u001b[0m \u001b[32m━━━━━━━━━━━━━━━━━━━━\u001b[0m\u001b[37m\u001b[0m \u001b[1m3s\u001b[0m 3ms/step - loss: 1.1738 - sparse_categorical_accuracy: 0.6535 - val_loss: 1.1516 - val_sparse_categorical_accuracy: 0.6634\n",
            "Epoch 9/20\n",
            "\u001b[1m1250/1250\u001b[0m \u001b[32m━━━━━━━━━━━━━━━━━━━━\u001b[0m\u001b[37m\u001b[0m \u001b[1m6s\u001b[0m 3ms/step - loss: 1.1529 - sparse_categorical_accuracy: 0.6611 - val_loss: 1.2418 - val_sparse_categorical_accuracy: 0.6219\n",
            "Epoch 10/20\n",
            "\u001b[1m1250/1250\u001b[0m \u001b[32m━━━━━━━━━━━━━━━━━━━━\u001b[0m\u001b[37m\u001b[0m \u001b[1m4s\u001b[0m 3ms/step - loss: 1.1352 - sparse_categorical_accuracy: 0.6710 - val_loss: 1.1415 - val_sparse_categorical_accuracy: 0.6702\n",
            "Epoch 11/20\n",
            "\u001b[1m1250/1250\u001b[0m \u001b[32m━━━━━━━━━━━━━━━━━━━━\u001b[0m\u001b[37m\u001b[0m \u001b[1m5s\u001b[0m 3ms/step - loss: 1.1185 - sparse_categorical_accuracy: 0.6758 - val_loss: 1.1667 - val_sparse_categorical_accuracy: 0.6551\n",
            "Epoch 12/20\n",
            "\u001b[1m1250/1250\u001b[0m \u001b[32m━━━━━━━━━━━━━━━━━━━━\u001b[0m\u001b[37m\u001b[0m \u001b[1m4s\u001b[0m 3ms/step - loss: 1.0926 - sparse_categorical_accuracy: 0.6808 - val_loss: 1.1619 - val_sparse_categorical_accuracy: 0.6516\n",
            "Epoch 13/20\n",
            "\u001b[1m1250/1250\u001b[0m \u001b[32m━━━━━━━━━━━━━━━━━━━━\u001b[0m\u001b[37m\u001b[0m \u001b[1m4s\u001b[0m 3ms/step - loss: 1.0727 - sparse_categorical_accuracy: 0.6881 - val_loss: 1.1842 - val_sparse_categorical_accuracy: 0.6448\n",
            "\n",
            "Training with l2_regularization and sgd optimizer...\n",
            "Epoch 1/20\n",
            "\u001b[1m1250/1250\u001b[0m \u001b[32m━━━━━━━━━━━━━━━━━━━━\u001b[0m\u001b[37m\u001b[0m \u001b[1m7s\u001b[0m 5ms/step - loss: 4.3447 - sparse_categorical_accuracy: 0.2232 - val_loss: 3.3299 - val_sparse_categorical_accuracy: 0.3716\n",
            "Epoch 2/20\n",
            "\u001b[1m1250/1250\u001b[0m \u001b[32m━━━━━━━━━━━━━━━━━━━━\u001b[0m\u001b[37m\u001b[0m \u001b[1m3s\u001b[0m 3ms/step - loss: 3.0540 - sparse_categorical_accuracy: 0.4037 - val_loss: 2.5022 - val_sparse_categorical_accuracy: 0.4587\n",
            "Epoch 3/20\n",
            "\u001b[1m1250/1250\u001b[0m \u001b[32m━━━━━━━━━━━━━━━━━━━━\u001b[0m\u001b[37m\u001b[0m \u001b[1m3s\u001b[0m 2ms/step - loss: 2.3283 - sparse_categorical_accuracy: 0.4785 - val_loss: 2.0340 - val_sparse_categorical_accuracy: 0.4850\n",
            "Epoch 4/20\n",
            "\u001b[1m1250/1250\u001b[0m \u001b[32m━━━━━━━━━━━━━━━━━━━━\u001b[0m\u001b[37m\u001b[0m \u001b[1m6s\u001b[0m 3ms/step - loss: 1.9107 - sparse_categorical_accuracy: 0.5182 - val_loss: 1.6856 - val_sparse_categorical_accuracy: 0.5419\n",
            "Epoch 5/20\n",
            "\u001b[1m1250/1250\u001b[0m \u001b[32m━━━━━━━━━━━━━━━━━━━━\u001b[0m\u001b[37m\u001b[0m \u001b[1m4s\u001b[0m 3ms/step - loss: 1.6354 - sparse_categorical_accuracy: 0.5502 - val_loss: 1.5381 - val_sparse_categorical_accuracy: 0.5573\n",
            "Epoch 6/20\n",
            "\u001b[1m1250/1250\u001b[0m \u001b[32m━━━━━━━━━━━━━━━━━━━━\u001b[0m\u001b[37m\u001b[0m \u001b[1m3s\u001b[0m 3ms/step - loss: 1.4627 - sparse_categorical_accuracy: 0.5775 - val_loss: 1.4448 - val_sparse_categorical_accuracy: 0.5634\n",
            "Epoch 7/20\n",
            "\u001b[1m1250/1250\u001b[0m \u001b[32m━━━━━━━━━━━━━━━━━━━━\u001b[0m\u001b[37m\u001b[0m \u001b[1m6s\u001b[0m 3ms/step - loss: 1.3416 - sparse_categorical_accuracy: 0.5984 - val_loss: 1.3253 - val_sparse_categorical_accuracy: 0.5990\n",
            "Epoch 8/20\n",
            "\u001b[1m1250/1250\u001b[0m \u001b[32m━━━━━━━━━━━━━━━━━━━━\u001b[0m\u001b[37m\u001b[0m \u001b[1m4s\u001b[0m 3ms/step - loss: 1.2587 - sparse_categorical_accuracy: 0.6213 - val_loss: 1.2734 - val_sparse_categorical_accuracy: 0.6077\n",
            "Epoch 9/20\n",
            "\u001b[1m1250/1250\u001b[0m \u001b[32m━━━━━━━━━━━━━━━━━━━━\u001b[0m\u001b[37m\u001b[0m \u001b[1m3s\u001b[0m 3ms/step - loss: 1.2001 - sparse_categorical_accuracy: 0.6336 - val_loss: 1.2050 - val_sparse_categorical_accuracy: 0.6288\n",
            "Epoch 10/20\n",
            "\u001b[1m1250/1250\u001b[0m \u001b[32m━━━━━━━━━━━━━━━━━━━━\u001b[0m\u001b[37m\u001b[0m \u001b[1m6s\u001b[0m 3ms/step - loss: 1.1530 - sparse_categorical_accuracy: 0.6471 - val_loss: 1.1697 - val_sparse_categorical_accuracy: 0.6373\n",
            "Epoch 11/20\n",
            "\u001b[1m1250/1250\u001b[0m \u001b[32m━━━━━━━━━━━━━━━━━━━━\u001b[0m\u001b[37m\u001b[0m \u001b[1m4s\u001b[0m 3ms/step - loss: 1.1057 - sparse_categorical_accuracy: 0.6593 - val_loss: 1.1755 - val_sparse_categorical_accuracy: 0.6478\n",
            "Epoch 12/20\n",
            "\u001b[1m1250/1250\u001b[0m \u001b[32m━━━━━━━━━━━━━━━━━━━━\u001b[0m\u001b[37m\u001b[0m \u001b[1m5s\u001b[0m 3ms/step - loss: 1.0627 - sparse_categorical_accuracy: 0.6819 - val_loss: 1.1518 - val_sparse_categorical_accuracy: 0.6492\n",
            "Epoch 13/20\n",
            "\u001b[1m1250/1250\u001b[0m \u001b[32m━━━━━━━━━━━━━━━━━━━━\u001b[0m\u001b[37m\u001b[0m \u001b[1m6s\u001b[0m 3ms/step - loss: 1.0334 - sparse_categorical_accuracy: 0.6866 - val_loss: 1.1449 - val_sparse_categorical_accuracy: 0.6497\n",
            "Epoch 14/20\n",
            "\u001b[1m1250/1250\u001b[0m \u001b[32m━━━━━━━━━━━━━━━━━━━━\u001b[0m\u001b[37m\u001b[0m \u001b[1m3s\u001b[0m 3ms/step - loss: 1.0069 - sparse_categorical_accuracy: 0.7038 - val_loss: 1.1392 - val_sparse_categorical_accuracy: 0.6507\n",
            "Epoch 15/20\n",
            "\u001b[1m1250/1250\u001b[0m \u001b[32m━━━━━━━━━━━━━━━━━━━━\u001b[0m\u001b[37m\u001b[0m \u001b[1m4s\u001b[0m 3ms/step - loss: 0.9793 - sparse_categorical_accuracy: 0.7118 - val_loss: 1.1003 - val_sparse_categorical_accuracy: 0.6728\n",
            "Epoch 16/20\n",
            "\u001b[1m1250/1250\u001b[0m \u001b[32m━━━━━━━━━━━━━━━━━━━━\u001b[0m\u001b[37m\u001b[0m \u001b[1m3s\u001b[0m 3ms/step - loss: 0.9520 - sparse_categorical_accuracy: 0.7249 - val_loss: 1.0983 - val_sparse_categorical_accuracy: 0.6802\n",
            "Epoch 17/20\n",
            "\u001b[1m1250/1250\u001b[0m \u001b[32m━━━━━━━━━━━━━━━━━━━━\u001b[0m\u001b[37m\u001b[0m \u001b[1m5s\u001b[0m 3ms/step - loss: 0.9382 - sparse_categorical_accuracy: 0.7307 - val_loss: 1.0955 - val_sparse_categorical_accuracy: 0.6806\n",
            "Epoch 18/20\n",
            "\u001b[1m1250/1250\u001b[0m \u001b[32m━━━━━━━━━━━━━━━━━━━━\u001b[0m\u001b[37m\u001b[0m \u001b[1m3s\u001b[0m 3ms/step - loss: 0.9072 - sparse_categorical_accuracy: 0.7461 - val_loss: 1.0985 - val_sparse_categorical_accuracy: 0.6783\n",
            "Epoch 19/20\n",
            "\u001b[1m1250/1250\u001b[0m \u001b[32m━━━━━━━━━━━━━━━━━━━━\u001b[0m\u001b[37m\u001b[0m \u001b[1m6s\u001b[0m 3ms/step - loss: 0.8966 - sparse_categorical_accuracy: 0.7506 - val_loss: 1.1309 - val_sparse_categorical_accuracy: 0.6704\n",
            "Epoch 20/20\n",
            "\u001b[1m1250/1250\u001b[0m \u001b[32m━━━━━━━━━━━━━━━━━━━━\u001b[0m\u001b[37m\u001b[0m \u001b[1m5s\u001b[0m 3ms/step - loss: 0.8765 - sparse_categorical_accuracy: 0.7620 - val_loss: 1.1456 - val_sparse_categorical_accuracy: 0.6771\n",
            "\n",
            "Training with None and adam optimizer...\n",
            "Epoch 1/20\n",
            "\u001b[1m1250/1250\u001b[0m \u001b[32m━━━━━━━━━━━━━━━━━━━━\u001b[0m\u001b[37m\u001b[0m \u001b[1m8s\u001b[0m 5ms/step - loss: 1.6583 - sparse_categorical_accuracy: 0.3988 - val_loss: 1.1526 - val_sparse_categorical_accuracy: 0.5912\n",
            "Epoch 2/20\n",
            "\u001b[1m1250/1250\u001b[0m \u001b[32m━━━━━━━━━━━━━━━━━━━━\u001b[0m\u001b[37m\u001b[0m \u001b[1m4s\u001b[0m 3ms/step - loss: 1.0806 - sparse_categorical_accuracy: 0.6171 - val_loss: 0.9905 - val_sparse_categorical_accuracy: 0.6565\n",
            "Epoch 3/20\n",
            "\u001b[1m1250/1250\u001b[0m \u001b[32m━━━━━━━━━━━━━━━━━━━━\u001b[0m\u001b[37m\u001b[0m \u001b[1m6s\u001b[0m 4ms/step - loss: 0.9021 - sparse_categorical_accuracy: 0.6824 - val_loss: 0.9454 - val_sparse_categorical_accuracy: 0.6694\n",
            "Epoch 4/20\n",
            "\u001b[1m1250/1250\u001b[0m \u001b[32m━━━━━━━━━━━━━━━━━━━━\u001b[0m\u001b[37m\u001b[0m \u001b[1m4s\u001b[0m 3ms/step - loss: 0.7798 - sparse_categorical_accuracy: 0.7267 - val_loss: 0.8702 - val_sparse_categorical_accuracy: 0.6988\n",
            "Epoch 5/20\n",
            "\u001b[1m1250/1250\u001b[0m \u001b[32m━━━━━━━━━━━━━━━━━━━━\u001b[0m\u001b[37m\u001b[0m \u001b[1m3s\u001b[0m 3ms/step - loss: 0.6818 - sparse_categorical_accuracy: 0.7618 - val_loss: 0.8848 - val_sparse_categorical_accuracy: 0.6965\n",
            "Epoch 6/20\n",
            "\u001b[1m1250/1250\u001b[0m \u001b[32m━━━━━━━━━━━━━━━━━━━━\u001b[0m\u001b[37m\u001b[0m \u001b[1m7s\u001b[0m 4ms/step - loss: 0.5903 - sparse_categorical_accuracy: 0.7933 - val_loss: 0.9073 - val_sparse_categorical_accuracy: 0.7005\n",
            "Epoch 7/20\n",
            "\u001b[1m1250/1250\u001b[0m \u001b[32m━━━━━━━━━━━━━━━━━━━━\u001b[0m\u001b[37m\u001b[0m \u001b[1m3s\u001b[0m 3ms/step - loss: 0.5015 - sparse_categorical_accuracy: 0.8267 - val_loss: 0.9482 - val_sparse_categorical_accuracy: 0.6957\n",
            "\n",
            "Training with None and rmsprop optimizer...\n",
            "Epoch 1/20\n",
            "\u001b[1m1250/1250\u001b[0m \u001b[32m━━━━━━━━━━━━━━━━━━━━\u001b[0m\u001b[37m\u001b[0m \u001b[1m8s\u001b[0m 5ms/step - loss: 1.7567 - sparse_categorical_accuracy: 0.3647 - val_loss: 1.2363 - val_sparse_categorical_accuracy: 0.5597\n",
            "Epoch 2/20\n",
            "\u001b[1m1250/1250\u001b[0m \u001b[32m━━━━━━━━━━━━━━━━━━━━\u001b[0m\u001b[37m\u001b[0m \u001b[1m7s\u001b[0m 3ms/step - loss: 1.1633 - sparse_categorical_accuracy: 0.5920 - val_loss: 1.0328 - val_sparse_categorical_accuracy: 0.6412\n",
            "Epoch 3/20\n",
            "\u001b[1m1250/1250\u001b[0m \u001b[32m━━━━━━━━━━━━━━━━━━━━\u001b[0m\u001b[37m\u001b[0m \u001b[1m6s\u001b[0m 3ms/step - loss: 0.9497 - sparse_categorical_accuracy: 0.6649 - val_loss: 0.9734 - val_sparse_categorical_accuracy: 0.6624\n",
            "Epoch 4/20\n",
            "\u001b[1m1250/1250\u001b[0m \u001b[32m━━━━━━━━━━━━━━━━━━━━\u001b[0m\u001b[37m\u001b[0m \u001b[1m4s\u001b[0m 3ms/step - loss: 0.8419 - sparse_categorical_accuracy: 0.7044 - val_loss: 0.9471 - val_sparse_categorical_accuracy: 0.6791\n",
            "Epoch 5/20\n",
            "\u001b[1m1250/1250\u001b[0m \u001b[32m━━━━━━━━━━━━━━━━━━━━\u001b[0m\u001b[37m\u001b[0m \u001b[1m3s\u001b[0m 3ms/step - loss: 0.7263 - sparse_categorical_accuracy: 0.7500 - val_loss: 0.9414 - val_sparse_categorical_accuracy: 0.6753\n",
            "Epoch 6/20\n",
            "\u001b[1m1250/1250\u001b[0m \u001b[32m━━━━━━━━━━━━━━━━━━━━\u001b[0m\u001b[37m\u001b[0m \u001b[1m6s\u001b[0m 4ms/step - loss: 0.6544 - sparse_categorical_accuracy: 0.7736 - val_loss: 0.9855 - val_sparse_categorical_accuracy: 0.6783\n",
            "Epoch 7/20\n",
            "\u001b[1m1250/1250\u001b[0m \u001b[32m━━━━━━━━━━━━━━━━━━━━\u001b[0m\u001b[37m\u001b[0m \u001b[1m4s\u001b[0m 3ms/step - loss: 0.5585 - sparse_categorical_accuracy: 0.8079 - val_loss: 0.9209 - val_sparse_categorical_accuracy: 0.7070\n",
            "Epoch 8/20\n",
            "\u001b[1m1250/1250\u001b[0m \u001b[32m━━━━━━━━━━━━━━━━━━━━\u001b[0m\u001b[37m\u001b[0m \u001b[1m3s\u001b[0m 3ms/step - loss: 0.4783 - sparse_categorical_accuracy: 0.8353 - val_loss: 1.0437 - val_sparse_categorical_accuracy: 0.6830\n",
            "Epoch 9/20\n",
            "\u001b[1m1250/1250\u001b[0m \u001b[32m━━━━━━━━━━━━━━━━━━━━\u001b[0m\u001b[37m\u001b[0m \u001b[1m6s\u001b[0m 4ms/step - loss: 0.3998 - sparse_categorical_accuracy: 0.8624 - val_loss: 1.0613 - val_sparse_categorical_accuracy: 0.7098\n",
            "Epoch 10/20\n",
            "\u001b[1m1250/1250\u001b[0m \u001b[32m━━━━━━━━━━━━━━━━━━━━\u001b[0m\u001b[37m\u001b[0m \u001b[1m3s\u001b[0m 3ms/step - loss: 0.3317 - sparse_categorical_accuracy: 0.8890 - val_loss: 1.1475 - val_sparse_categorical_accuracy: 0.6907\n",
            "\n",
            "Training with None and sgd optimizer...\n",
            "Epoch 1/20\n",
            "\u001b[1m1250/1250\u001b[0m \u001b[32m━━━━━━━━━━━━━━━━━━━━\u001b[0m\u001b[37m\u001b[0m \u001b[1m7s\u001b[0m 4ms/step - loss: 2.1665 - sparse_categorical_accuracy: 0.2039 - val_loss: 1.8134 - val_sparse_categorical_accuracy: 0.3532\n",
            "Epoch 2/20\n",
            "\u001b[1m1250/1250\u001b[0m \u001b[32m━━━━━━━━━━━━━━━━━━━━\u001b[0m\u001b[37m\u001b[0m \u001b[1m3s\u001b[0m 3ms/step - loss: 1.7322 - sparse_categorical_accuracy: 0.3864 - val_loss: 1.5261 - val_sparse_categorical_accuracy: 0.4572\n",
            "Epoch 3/20\n",
            "\u001b[1m1250/1250\u001b[0m \u001b[32m━━━━━━━━━━━━━━━━━━━━\u001b[0m\u001b[37m\u001b[0m \u001b[1m5s\u001b[0m 3ms/step - loss: 1.4992 - sparse_categorical_accuracy: 0.4648 - val_loss: 1.4045 - val_sparse_categorical_accuracy: 0.5041\n",
            "Epoch 4/20\n",
            "\u001b[1m1250/1250\u001b[0m \u001b[32m━━━━━━━━━━━━━━━━━━━━\u001b[0m\u001b[37m\u001b[0m \u001b[1m5s\u001b[0m 4ms/step - loss: 1.3647 - sparse_categorical_accuracy: 0.5158 - val_loss: 1.3413 - val_sparse_categorical_accuracy: 0.5172\n",
            "Epoch 5/20\n",
            "\u001b[1m1250/1250\u001b[0m \u001b[32m━━━━━━━━━━━━━━━━━━━━\u001b[0m\u001b[37m\u001b[0m \u001b[1m4s\u001b[0m 3ms/step - loss: 1.2659 - sparse_categorical_accuracy: 0.5532 - val_loss: 1.2151 - val_sparse_categorical_accuracy: 0.5716\n",
            "Epoch 6/20\n",
            "\u001b[1m1250/1250\u001b[0m \u001b[32m━━━━━━━━━━━━━━━━━━━━\u001b[0m\u001b[37m\u001b[0m \u001b[1m3s\u001b[0m 3ms/step - loss: 1.1968 - sparse_categorical_accuracy: 0.5789 - val_loss: 1.1870 - val_sparse_categorical_accuracy: 0.5814\n",
            "Epoch 7/20\n",
            "\u001b[1m1250/1250\u001b[0m \u001b[32m━━━━━━━━━━━━━━━━━━━━\u001b[0m\u001b[37m\u001b[0m \u001b[1m4s\u001b[0m 3ms/step - loss: 1.1233 - sparse_categorical_accuracy: 0.6056 - val_loss: 1.1466 - val_sparse_categorical_accuracy: 0.5973\n",
            "Epoch 8/20\n",
            "\u001b[1m1250/1250\u001b[0m \u001b[32m━━━━━━━━━━━━━━━━━━━━\u001b[0m\u001b[37m\u001b[0m \u001b[1m5s\u001b[0m 3ms/step - loss: 1.0673 - sparse_categorical_accuracy: 0.6283 - val_loss: 1.1094 - val_sparse_categorical_accuracy: 0.6037\n",
            "Epoch 9/20\n",
            "\u001b[1m1250/1250\u001b[0m \u001b[32m━━━━━━━━━━━━━━━━━━━━\u001b[0m\u001b[37m\u001b[0m \u001b[1m5s\u001b[0m 3ms/step - loss: 0.9924 - sparse_categorical_accuracy: 0.6484 - val_loss: 1.0551 - val_sparse_categorical_accuracy: 0.6279\n",
            "Epoch 10/20\n",
            "\u001b[1m1250/1250\u001b[0m \u001b[32m━━━━━━━━━━━━━━━━━━━━\u001b[0m\u001b[37m\u001b[0m \u001b[1m6s\u001b[0m 3ms/step - loss: 0.9448 - sparse_categorical_accuracy: 0.6701 - val_loss: 1.0506 - val_sparse_categorical_accuracy: 0.6330\n",
            "Epoch 11/20\n",
            "\u001b[1m1250/1250\u001b[0m \u001b[32m━━━━━━━━━━━━━━━━━━━━\u001b[0m\u001b[37m\u001b[0m \u001b[1m3s\u001b[0m 3ms/step - loss: 0.9102 - sparse_categorical_accuracy: 0.6839 - val_loss: 1.0137 - val_sparse_categorical_accuracy: 0.6440\n",
            "Epoch 12/20\n",
            "\u001b[1m1250/1250\u001b[0m \u001b[32m━━━━━━━━━━━━━━━━━━━━\u001b[0m\u001b[37m\u001b[0m \u001b[1m3s\u001b[0m 3ms/step - loss: 0.8733 - sparse_categorical_accuracy: 0.6943 - val_loss: 0.9896 - val_sparse_categorical_accuracy: 0.6567\n",
            "Epoch 13/20\n",
            "\u001b[1m1250/1250\u001b[0m \u001b[32m━━━━━━━━━━━━━━━━━━━━\u001b[0m\u001b[37m\u001b[0m \u001b[1m6s\u001b[0m 3ms/step - loss: 0.8214 - sparse_categorical_accuracy: 0.7131 - val_loss: 1.0031 - val_sparse_categorical_accuracy: 0.6504\n",
            "Epoch 14/20\n",
            "\u001b[1m1250/1250\u001b[0m \u001b[32m━━━━━━━━━━━━━━━━━━━━\u001b[0m\u001b[37m\u001b[0m \u001b[1m4s\u001b[0m 3ms/step - loss: 0.7777 - sparse_categorical_accuracy: 0.7274 - val_loss: 0.9661 - val_sparse_categorical_accuracy: 0.6644\n",
            "Epoch 15/20\n",
            "\u001b[1m1250/1250\u001b[0m \u001b[32m━━━━━━━━━━━━━━━━━━━━\u001b[0m\u001b[37m\u001b[0m \u001b[1m3s\u001b[0m 3ms/step - loss: 0.7396 - sparse_categorical_accuracy: 0.7408 - val_loss: 1.0113 - val_sparse_categorical_accuracy: 0.6545\n",
            "Epoch 16/20\n",
            "\u001b[1m1250/1250\u001b[0m \u001b[32m━━━━━━━━━━━━━━━━━━━━\u001b[0m\u001b[37m\u001b[0m \u001b[1m6s\u001b[0m 3ms/step - loss: 0.7054 - sparse_categorical_accuracy: 0.7523 - val_loss: 0.9932 - val_sparse_categorical_accuracy: 0.6566\n",
            "Epoch 17/20\n",
            "\u001b[1m1250/1250\u001b[0m \u001b[32m━━━━━━━━━━━━━━━━━━━━\u001b[0m\u001b[37m\u001b[0m \u001b[1m3s\u001b[0m 3ms/step - loss: 0.6744 - sparse_categorical_accuracy: 0.7643 - val_loss: 1.0741 - val_sparse_categorical_accuracy: 0.6420\n"
          ]
        }
      ]
    },
    {
      "cell_type": "code",
      "source": [
        "# Сохранение результатов для дальнейшего анализа\n",
        "experiment_results_df.to_csv(\"experiment_results.csv\", index=False)\n",
        "\n",
        "print(\"\\nЭксперименты завершены. Результаты:\")\n",
        "print(experiment_results_df)\n",
        "\n",
        "# Визуализация кривых обучения\n",
        "plot_learning_curves(experiment_results_df)"
      ],
      "metadata": {
        "id": "GvxA1vYhidyc",
        "colab": {
          "base_uri": "https://localhost:8080/",
          "height": 1000
        },
        "outputId": "ff8c03a0-17bc-4047-b82a-6e6294543139"
      },
      "execution_count": null,
      "outputs": [
        {
          "output_type": "stream",
          "name": "stdout",
          "text": [
            "\n",
            "Эксперименты завершены. Результаты:\n",
            "       Normalization Optimizer  Max Validation Accuracy  \\\n",
            "0         batch_norm      adam                   0.6963   \n",
            "1         batch_norm   rmsprop                   0.6936   \n",
            "2         batch_norm       sgd                   0.6553   \n",
            "3  l2_regularization      adam                   0.6786   \n",
            "4  l2_regularization   rmsprop                   0.6702   \n",
            "5  l2_regularization       sgd                   0.6806   \n",
            "6               None      adam                   0.7005   \n",
            "7               None   rmsprop                   0.7098   \n",
            "8               None       sgd                   0.6644   \n",
            "\n",
            "   Epoch to 60% Accuracy  Final Validation Loss  \\\n",
            "0                      2               0.947289   \n",
            "1                      2               0.992532   \n",
            "2                      3               0.998863   \n",
            "3                      5               1.188694   \n",
            "4                      5               1.184175   \n",
            "5                      8               1.145594   \n",
            "6                      2               0.948186   \n",
            "7                      2               1.147476   \n",
            "8                      8               1.074111   \n",
            "\n",
            "                                             History  \n",
            "0  {'loss': [1.3984309434890747, 1.01871347427368...  \n",
            "1  {'loss': [1.4777791500091553, 1.04692625999450...  \n",
            "2  {'loss': [1.4582477807998657, 1.10819196701049...  \n",
            "3  {'loss': [1.7382999658584595, 1.47226548194885...  \n",
            "4  {'loss': [1.802120566368103, 1.503728508949279...  \n",
            "5  {'loss': [3.954758882522583, 2.842039108276367...  \n",
            "6  {'loss': [1.420583963394165, 1.04742431640625,...  \n",
            "7  {'loss': [1.5206048488616943, 1.11839294433593...  \n",
            "8  {'loss': [2.0243184566497803, 1.67208945751190...  \n"
          ]
        },
        {
          "output_type": "display_data",
          "data": {
            "text/plain": [
              "<Figure size 1400x800 with 1 Axes>"
            ],
            "image/png": "[encoded data removed]"
          },
          "metadata": {}
        }
      ]
    },
    {
      "cell_type": "markdown",
      "source": [
        "#Анализ результатов\n",
        "\n",
        "**Метрики производительности:**\n",
        "\n",
        "Наивысшая точность на валидации (70.98%) была достигнута без использования нормализации с оптимизатором RMSprop.\n",
        "\n",
        "Второе место занимает комбинация \"None + Adam\" с точностью 70.05%.\n",
        "\n",
        "Среди методов нормализации, Batch Normalization с Adam показал лучшую точность на валидации (69.63%).\n",
        "\n",
        "**Скорость достижения точности 60%:**\n",
        "\n",
        "Быстрее всего точности 60% достигают комбинации:\n",
        "\n",
        "Batch Normalization + Adam (2 эпохи).\n",
        "\n",
        "None + RMSprop (2 эпохи).\n",
        "\n",
        "None + Adam (2 эпохи).\n",
        "\n",
        "Нормализация L2 и SGD требуют больше эпох (5-8).\n",
        "\n",
        "**Функция потерь:**\n",
        "\n",
        "Наименьшая финальная потеря (0.9482) наблюдается для \"None + Adam\".\n",
        "\n",
        "Batch Normalization и RMSprop показывают стабильные, но немного более высокие значения функции потерь.\n",
        "\n",
        "**Эффект нормализации:**\n",
        "\n",
        "Batch Normalization показал умеренные улучшения по сравнению с L2-регуляризацией.\n",
        "\n",
        "Однако в некоторых случаях отсутствие нормализации (None) дает лучшие результаты, что может быть связано с характеристиками данных.\n",
        "\n",
        "#Выводы:\n",
        "\n",
        "Лучшие результаты достигаются при использовании RMSprop без нормализации. Это может быть связано с тем, что RMSprop эффективно справляется с изменениями градиентов даже без дополнительных регуляризационных методов.\n",
        "\n",
        "Batch Normalization помогает улучшить стабильность обучения, особенно при использовании оптимизатора Adam.\n",
        "\n",
        "SGD требует больше эпох для достижения приемлемой точности, и его результаты уступают RMSprop и Adam.\n",
        "\n"
      ],
      "metadata": {
        "id": "1rw8uL8kgIme"
      }
    },
    {
      "cell_type": "markdown",
      "metadata": {
        "id": "-unmmw3Txjey"
      },
      "source": [
        "## Свёрточная нейросеть здорового человека\n",
        "\n",
        "**Задание 1.7 (обязательно попытаться)** Наигравшись выше, обучим большую свёрточную сеть, которая даст на тестовой выборке __accuracy больше 80%__. В этом задании вам потребуется провести эксперименты, сравнив их между собой в конце. Возможно, может быть несколько проще, если писать выводы во время или сразу после каждого эксперимента, после чего сделать общие выводы.\n",
        "\n",
        "Рекомендуем начать с лучшей модели предыдущего задания и постепенно её улучшать. Вы можете использовать всё, что угодно: любые активации, сколь угодно большие свёрточные слои и глубокие сети. Единственное ограничение: __нельзя использовать предобученные сети и дополнительные данные__.\n",
        "\n",
        "### Полезные советы\n",
        "* Для начала, неплохо бы научить что-нибудь побольше, чем 10 фильтров 3x3.\n",
        "* __Главное правило: одно изменение на эксперимент__. Если у вас есть 2 идеи по улучшению сети, сначала попробуйте их независимо. Может оказаться, что одно из них дало __+10%__ точности а другое __-7%__. А вы так и будете думать, что сделали 2 полезных изменения которые в сумме дают __+3%__. Если какая-то идея не работает — даже если она вам нравится - опишите ее и выкидывайте из дальнейших экспериментов.\n",
        "* __Be careful or you will dropout__. Дропаут (`L.Dropout`) может позволить вам обучить в несколько раз бОльшую сеть без переобучения, выжав несколько процентов качества. Это круто, но не стоит сразу ставить dropout 50%. Во-первых, слишком сильный дропаут только ухудшит сеть (underfitting). Во-вторых, даже если дропаут улучшает качество, он замедляет обучение. Рекомендуем начинать с небольшого дропаута, быстро провести основные эксперименты, а потом жахнуть в 2 раза больше нейронов и дропаута ~~на ночь~~.\n",
        "* __Аугментация данных__. Если котика слегка повернуть и подрезать (простите), он всё равно останется котиком. А в керасе есть [удобный класс](https://keras.io/preprocessing/image/), который поставит подрезание котиков на поток. Ещё можно сделать этот трюк в тесте: вертим картинку 10 раз, предсказываем вероятности и усредняем. Только один совет: прежде, чем учить, посмотрите глазами на аугментированные картинки. Если вы сами не можете их различить, то и сеть не сможет.\n",
        "* __Don't just stack more layers__. Есть более эффективные способы организовать слои, чем простой Sequential. Вот пара идей: [Inception family](https://hacktilldawn.com/2016/09/25/inception-modules-explained-and-implemented/), [ResNet family](https://towardsdatascience.com/an-overview-of-resnet-and-its-variants-5281e2f56035?gi=9018057983ca), [Densely-connected convolutions](https://arxiv.org/abs/1608.06993). Только не копируйте архитектуру подчистую — вам скорее всего хватит меньшего размера.\n",
        "* __Долго != плохо__. Более глубокие архитектуры обычно требуют бОльше эпох до сходимости. Это значит, что в первые несколько эпох они могут быть хуже менее глубоких аналогов. Дайте им время, запаситесь чаем и обмажьтесь batch-norm-ом."
      ]
    },
    {
      "cell_type": "markdown",
      "source": [
        "#Эксперимент 1\n",
        "\n",
        "#попробуем следующую модель\n",
        "\n",
        "**Архитектура модели:**\n",
        "\n",
        "**Слой 1:**\n",
        "Свертка: 32 фильтра 3×3, активация ReLU.\n",
        "\n",
        "Batch Normalization: Нормализация выхода свертки.\n",
        "\n",
        "Макспулинг: 2×2.\n",
        "\n",
        "**Слой 2:**\n",
        "\n",
        "Свертка: 64 фильтра 3×3, активация ReLU.\n",
        "\n",
        "Batch Normalization: Нормализация выхода свертки.\n",
        "\n",
        "Макспулинг: 2×2.\n",
        "\n",
        "**Слой 3:**\n",
        "\n",
        "Свертка: 128 фильтров 3×3, активация ReLU.\n",
        "\n",
        "Batch Normalization: Нормализация выхода свертки.\n",
        "Макспулинг: 2×2.\n",
        "\n",
        "**Слой 4:**\n",
        "\n",
        "Полносвязный слой: 256 нейронов, активация ReLU.\n",
        "\n",
        "Dropout: 50%.\n",
        "\n",
        "**Выходной слой:**\n",
        "\n",
        "Полносвязный слой: 10 нейронов, активация softmax.\n",
        "\n",
        "**Компиляция:**\n",
        "\n",
        "Оптимизатор: Adam.\n",
        "\n",
        "Функция потерь: Sparse Categorical Crossentropy.\n",
        "\n",
        "Метрика: Sparse Categorical Accuracy."
      ],
      "metadata": {
        "id": "l-tRxenbF-Oe"
      }
    },
    {
      "cell_type": "code",
      "source": [
        "import numpy as np\n",
        "import matplotlib.pyplot as plt\n",
        "\n",
        "# Проверка размеров массивов\n",
        "assert X_train.shape[0] == y_train.shape[0], \"Train data and labels size mismatch\"\n",
        "assert X_test.shape[0] == y_test.shape[0], \"Test data and labels size mismatch\"\n",
        "assert X_train.shape[1:] == (32, 32, 3), \"Train images have incorrect shape\"\n",
        "assert X_test.shape[1:] == (32, 32, 3), \"Test images have incorrect shape\"\n",
        "\n",
        "# Проверка меток\n",
        "print(\"Unique labels in y_train:\", np.unique(y_train))\n",
        "print(\"Unique labels in y_test:\", np.unique(y_test))\n",
        "\n",
        "# Визуализация нескольких изображений с метками\n",
        "def visualize_images(images, labels, class_names, n=10):\n",
        "    plt.figure(figsize=(15, 5))\n",
        "    for i in range(n):\n",
        "        plt.subplot(1, n, i + 1)\n",
        "        plt.imshow(images[i])\n",
        "        plt.title(class_names[labels[i][0]])\n",
        "        plt.axis(\"off\")\n",
        "    plt.show()\n",
        "\n",
        "# Предполагаемые имена классов (цифры замените своими)\n",
        "class_names = [str(i) for i in range(10)]\n",
        "visualize_images(X_train, y_train, class_names)\n"
      ],
      "metadata": {
        "colab": {
          "base_uri": "https://localhost:8080/",
          "height": 192
        },
        "id": "vEAOf9wYAync",
        "outputId": "3397b541-7ddf-488c-bb79-3554d4bd50e9"
      },
      "execution_count": 8,
      "outputs": [
        {
          "output_type": "stream",
          "name": "stdout",
          "text": [
            "Unique labels in y_train: [0 1 2 3 4 5 6 7 8 9]\n",
            "Unique labels in y_test: [0 1 2 3 4 5 6 7 8 9]\n"
          ]
        },
        {
          "output_type": "display_data",
          "data": {
            "text/plain": [
              "<Figure size 1500x500 with 10 Axes>"
            ],
            "image/png": "[encoded data removed]"
          },
          "metadata": {}
        }
      ]
    },
    {
      "cell_type": "code",
      "source": [
        "# Проверка размеров выборок\n",
        "split = 32000  # Пример разделения\n",
        "dg_x_train, dg_x_val = X_train[:split], X_train[split:]\n",
        "dg_y_train, dg_y_val = y_train[:split], y_train[split:]\n",
        "\n",
        "assert dg_x_train.shape[0] == dg_y_train.shape[0], \"Train data and labels size mismatch after split\"\n",
        "assert dg_x_val.shape[0] == dg_y_val.shape[0], \"Validation data and labels size mismatch after split\"\n",
        "\n",
        "# Проверка распределения меток\n",
        "print(\"Label distribution in training set:\", np.bincount(dg_y_train.flatten()))\n",
        "print(\"Label distribution in validation set:\", np.bincount(dg_y_val.flatten()))\n"
      ],
      "metadata": {
        "colab": {
          "base_uri": "https://localhost:8080/"
        },
        "id": "Ik87nWkzA4-Q",
        "outputId": "ddaa9c84-be5d-4300-9f04-ee9c2949d332"
      },
      "execution_count": 9,
      "outputs": [
        {
          "output_type": "stream",
          "name": "stdout",
          "text": [
            "Label distribution in training set: [3222 3220 3180 3218 3252 3172 3193 3163 3172 3208]\n",
            "Label distribution in validation set: [805 801 790 759 815 813 811 843 811 752]\n"
          ]
        }
      ]
    },
    {
      "cell_type": "code",
      "source": [
        "from tensorflow.keras.preprocessing.image import ImageDataGenerator\n",
        "\n",
        "# Настройка генератора данных\n",
        "datagen = ImageDataGenerator(\n",
        "    rotation_range=15,\n",
        "    width_shift_range=0.1,\n",
        "    height_shift_range=0.1,\n",
        "    horizontal_flip=True\n",
        ")\n",
        "datagen.fit(dg_x_train)\n",
        "\n",
        "# Проверка сгенерированных данных\n",
        "augmented_data, augmented_labels = next(datagen.flow(dg_x_train, dg_y_train, batch_size=5))\n",
        "\n",
        "# Визуализация аугментированных изображений\n",
        "# Уменьшаем количество изображений для визуализации до размера сгенерированной выборки\n",
        "visualize_images(augmented_data, augmented_labels, class_names, n=len(augmented_data))\n",
        "\n"
      ],
      "metadata": {
        "colab": {
          "base_uri": "https://localhost:8080/",
          "height": 259
        },
        "id": "YDbdEh8UA9-e",
        "outputId": "65bd989b-edf3-4e4b-fb99-c20d073363a3"
      },
      "execution_count": 10,
      "outputs": [
        {
          "output_type": "display_data",
          "data": {
            "text/plain": [
              "<Figure size 1500x500 with 5 Axes>"
            ],
            "image/png": "[encoded data removed]"
          },
          "metadata": {}
        }
      ]
    },
    {
      "cell_type": "code",
      "source": [
        "from tensorflow.keras import Sequential\n",
        "from tensorflow.keras.layers import Conv2D, MaxPooling2D, Flatten, Dense, Dropout, BatchNormalization\n",
        "\n",
        "# Обновленная модель\n",
        "model = Sequential([\n",
        "    Conv2D(32, (3, 3), activation='relu', input_shape=(32, 32, 3)),\n",
        "    BatchNormalization(),\n",
        "    MaxPooling2D((2, 2)),\n",
        "\n",
        "    Conv2D(64, (3, 3), activation='relu'),\n",
        "    BatchNormalization(),\n",
        "    MaxPooling2D((2, 2)),\n",
        "\n",
        "    Conv2D(128, (3, 3), activation='relu'),\n",
        "    BatchNormalization(),\n",
        "    MaxPooling2D((2, 2)),\n",
        "\n",
        "    Flatten(),\n",
        "    Dense(256, activation='relu'),\n",
        "    Dropout(0.5),  # Увеличиваем dropout\n",
        "    Dense(10, activation='softmax')\n",
        "])\n",
        "\n",
        "# Компиляция модели\n",
        "model.compile(optimizer='adam',\n",
        "              loss='sparse_categorical_crossentropy',\n",
        "              metrics=['sparse_categorical_accuracy'])\n",
        "\n",
        "# Вывод модели\n",
        "model.summary()\n",
        "\n"
      ],
      "metadata": {
        "colab": {
          "base_uri": "https://localhost:8080/",
          "height": 629
        },
        "id": "N5U5ynKrBncO",
        "outputId": "06fa8429-1759-49f8-e995-1c2f386010ef"
      },
      "execution_count": null,
      "outputs": [
        {
          "output_type": "display_data",
          "data": {
            "text/plain": [
              "\u001b[1mModel: \"sequential_8\"\u001b[0m\n"
            ],
            "text/html": [
              "<pre style=\"white-space:pre;overflow-x:auto;line-height:normal;font-family:Menlo,'DejaVu Sans Mono',consolas,'Courier New',monospace\"><span style=\"font-weight: bold\">Model: \"sequential_8\"</span>\n",
              "</pre>\n"
            ]
          },
          "metadata": {}
        },
        {
          "output_type": "display_data",
          "data": {
            "text/plain": [
              "┏━━━━━━━━━━━━━━━━━━━━━━━━━━━━━━━━━━━━━━┳━━━━━━━━━━━━━━━━━━━━━━━━━━━━━┳━━━━━━━━━━━━━━━━━┓\n",
              "┃\u001b[1m \u001b[0m\u001b[1mLayer (type)                        \u001b[0m\u001b[1m \u001b[0m┃\u001b[1m \u001b[0m\u001b[1mOutput Shape               \u001b[0m\u001b[1m \u001b[0m┃\u001b[1m \u001b[0m\u001b[1m        Param #\u001b[0m\u001b[1m \u001b[0m┃\n",
              "┡━━━━━━━━━━━━━━━━━━━━━━━━━━━━━━━━━━━━━━╇━━━━━━━━━━━━━━━━━━━━━━━━━━━━━╇━━━━━━━━━━━━━━━━━┩\n",
              "│ conv2d_20 (\u001b[38;5;33mConv2D\u001b[0m)                   │ (\u001b[38;5;45mNone\u001b[0m, \u001b[38;5;34m30\u001b[0m, \u001b[38;5;34m30\u001b[0m, \u001b[38;5;34m32\u001b[0m)          │             \u001b[38;5;34m896\u001b[0m │\n",
              "├──────────────────────────────────────┼─────────────────────────────┼─────────────────┤\n",
              "│ batch_normalization_8                │ (\u001b[38;5;45mNone\u001b[0m, \u001b[38;5;34m30\u001b[0m, \u001b[38;5;34m30\u001b[0m, \u001b[38;5;34m32\u001b[0m)          │             \u001b[38;5;34m128\u001b[0m │\n",
              "│ (\u001b[38;5;33mBatchNormalization\u001b[0m)                 │                             │                 │\n",
              "├──────────────────────────────────────┼─────────────────────────────┼─────────────────┤\n",
              "│ max_pooling2d_20 (\u001b[38;5;33mMaxPooling2D\u001b[0m)      │ (\u001b[38;5;45mNone\u001b[0m, \u001b[38;5;34m15\u001b[0m, \u001b[38;5;34m15\u001b[0m, \u001b[38;5;34m32\u001b[0m)          │               \u001b[38;5;34m0\u001b[0m │\n",
              "├──────────────────────────────────────┼─────────────────────────────┼─────────────────┤\n",
              "│ conv2d_21 (\u001b[38;5;33mConv2D\u001b[0m)                   │ (\u001b[38;5;45mNone\u001b[0m, \u001b[38;5;34m13\u001b[0m, \u001b[38;5;34m13\u001b[0m, \u001b[38;5;34m64\u001b[0m)          │          \u001b[38;5;34m18,496\u001b[0m │\n",
              "├──────────────────────────────────────┼─────────────────────────────┼─────────────────┤\n",
              "│ batch_normalization_9                │ (\u001b[38;5;45mNone\u001b[0m, \u001b[38;5;34m13\u001b[0m, \u001b[38;5;34m13\u001b[0m, \u001b[38;5;34m64\u001b[0m)          │             \u001b[38;5;34m256\u001b[0m │\n",
              "│ (\u001b[38;5;33mBatchNormalization\u001b[0m)                 │                             │                 │\n",
              "├──────────────────────────────────────┼─────────────────────────────┼─────────────────┤\n",
              "│ max_pooling2d_21 (\u001b[38;5;33mMaxPooling2D\u001b[0m)      │ (\u001b[38;5;45mNone\u001b[0m, \u001b[38;5;34m6\u001b[0m, \u001b[38;5;34m6\u001b[0m, \u001b[38;5;34m64\u001b[0m)            │               \u001b[38;5;34m0\u001b[0m │\n",
              "├──────────────────────────────────────┼─────────────────────────────┼─────────────────┤\n",
              "│ conv2d_22 (\u001b[38;5;33mConv2D\u001b[0m)                   │ (\u001b[38;5;45mNone\u001b[0m, \u001b[38;5;34m4\u001b[0m, \u001b[38;5;34m4\u001b[0m, \u001b[38;5;34m128\u001b[0m)           │          \u001b[38;5;34m73,856\u001b[0m │\n",
              "├──────────────────────────────────────┼─────────────────────────────┼─────────────────┤\n",
              "│ batch_normalization_10               │ (\u001b[38;5;45mNone\u001b[0m, \u001b[38;5;34m4\u001b[0m, \u001b[38;5;34m4\u001b[0m, \u001b[38;5;34m128\u001b[0m)           │             \u001b[38;5;34m512\u001b[0m │\n",
              "│ (\u001b[38;5;33mBatchNormalization\u001b[0m)                 │                             │                 │\n",
              "├──────────────────────────────────────┼─────────────────────────────┼─────────────────┤\n",
              "│ max_pooling2d_22 (\u001b[38;5;33mMaxPooling2D\u001b[0m)      │ (\u001b[38;5;45mNone\u001b[0m, \u001b[38;5;34m2\u001b[0m, \u001b[38;5;34m2\u001b[0m, \u001b[38;5;34m128\u001b[0m)           │               \u001b[38;5;34m0\u001b[0m │\n",
              "├──────────────────────────────────────┼─────────────────────────────┼─────────────────┤\n",
              "│ flatten_8 (\u001b[38;5;33mFlatten\u001b[0m)                  │ (\u001b[38;5;45mNone\u001b[0m, \u001b[38;5;34m512\u001b[0m)                 │               \u001b[38;5;34m0\u001b[0m │\n",
              "├──────────────────────────────────────┼─────────────────────────────┼─────────────────┤\n",
              "│ dense_18 (\u001b[38;5;33mDense\u001b[0m)                     │ (\u001b[38;5;45mNone\u001b[0m, \u001b[38;5;34m256\u001b[0m)                 │         \u001b[38;5;34m131,328\u001b[0m │\n",
              "├──────────────────────────────────────┼─────────────────────────────┼─────────────────┤\n",
              "│ dropout_7 (\u001b[38;5;33mDropout\u001b[0m)                  │ (\u001b[38;5;45mNone\u001b[0m, \u001b[38;5;34m256\u001b[0m)                 │               \u001b[38;5;34m0\u001b[0m │\n",
              "├──────────────────────────────────────┼─────────────────────────────┼─────────────────┤\n",
              "│ dense_19 (\u001b[38;5;33mDense\u001b[0m)                     │ (\u001b[38;5;45mNone\u001b[0m, \u001b[38;5;34m10\u001b[0m)                  │           \u001b[38;5;34m2,570\u001b[0m │\n",
              "└──────────────────────────────────────┴─────────────────────────────┴─────────────────┘\n"
            ],
            "text/html": [
              "<pre style=\"white-space:pre;overflow-x:auto;line-height:normal;font-family:Menlo,'DejaVu Sans Mono',consolas,'Courier New',monospace\">┏━━━━━━━━━━━━━━━━━━━━━━━━━━━━━━━━━━━━━━┳━━━━━━━━━━━━━━━━━━━━━━━━━━━━━┳━━━━━━━━━━━━━━━━━┓\n",
              "┃<span style=\"font-weight: bold\"> Layer (type)                         </span>┃<span style=\"font-weight: bold\"> Output Shape                </span>┃<span style=\"font-weight: bold\">         Param # </span>┃\n",
              "┡━━━━━━━━━━━━━━━━━━━━━━━━━━━━━━━━━━━━━━╇━━━━━━━━━━━━━━━━━━━━━━━━━━━━━╇━━━━━━━━━━━━━━━━━┩\n",
              "│ conv2d_20 (<span style=\"color: #0087ff; text-decoration-color: #0087ff\">Conv2D</span>)                   │ (<span style=\"color: #00d7ff; text-decoration-color: #00d7ff\">None</span>, <span style=\"color: #00af00; text-decoration-color: #00af00\">30</span>, <span style=\"color: #00af00; text-decoration-color: #00af00\">30</span>, <span style=\"color: #00af00; text-decoration-color: #00af00\">32</span>)          │             <span style=\"color: #00af00; text-decoration-color: #00af00\">896</span> │\n",
              "├──────────────────────────────────────┼─────────────────────────────┼─────────────────┤\n",
              "│ batch_normalization_8                │ (<span style=\"color: #00d7ff; text-decoration-color: #00d7ff\">None</span>, <span style=\"color: #00af00; text-decoration-color: #00af00\">30</span>, <span style=\"color: #00af00; text-decoration-color: #00af00\">30</span>, <span style=\"color: #00af00; text-decoration-color: #00af00\">32</span>)          │             <span style=\"color: #00af00; text-decoration-color: #00af00\">128</span> │\n",
              "│ (<span style=\"color: #0087ff; text-decoration-color: #0087ff\">BatchNormalization</span>)                 │                             │                 │\n",
              "├──────────────────────────────────────┼─────────────────────────────┼─────────────────┤\n",
              "│ max_pooling2d_20 (<span style=\"color: #0087ff; text-decoration-color: #0087ff\">MaxPooling2D</span>)      │ (<span style=\"color: #00d7ff; text-decoration-color: #00d7ff\">None</span>, <span style=\"color: #00af00; text-decoration-color: #00af00\">15</span>, <span style=\"color: #00af00; text-decoration-color: #00af00\">15</span>, <span style=\"color: #00af00; text-decoration-color: #00af00\">32</span>)          │               <span style=\"color: #00af00; text-decoration-color: #00af00\">0</span> │\n",
              "├──────────────────────────────────────┼─────────────────────────────┼─────────────────┤\n",
              "│ conv2d_21 (<span style=\"color: #0087ff; text-decoration-color: #0087ff\">Conv2D</span>)                   │ (<span style=\"color: #00d7ff; text-decoration-color: #00d7ff\">None</span>, <span style=\"color: #00af00; text-decoration-color: #00af00\">13</span>, <span style=\"color: #00af00; text-decoration-color: #00af00\">13</span>, <span style=\"color: #00af00; text-decoration-color: #00af00\">64</span>)          │          <span style=\"color: #00af00; text-decoration-color: #00af00\">18,496</span> │\n",
              "├──────────────────────────────────────┼─────────────────────────────┼─────────────────┤\n",
              "│ batch_normalization_9                │ (<span style=\"color: #00d7ff; text-decoration-color: #00d7ff\">None</span>, <span style=\"color: #00af00; text-decoration-color: #00af00\">13</span>, <span style=\"color: #00af00; text-decoration-color: #00af00\">13</span>, <span style=\"color: #00af00; text-decoration-color: #00af00\">64</span>)          │             <span style=\"color: #00af00; text-decoration-color: #00af00\">256</span> │\n",
              "│ (<span style=\"color: #0087ff; text-decoration-color: #0087ff\">BatchNormalization</span>)                 │                             │                 │\n",
              "├──────────────────────────────────────┼─────────────────────────────┼─────────────────┤\n",
              "│ max_pooling2d_21 (<span style=\"color: #0087ff; text-decoration-color: #0087ff\">MaxPooling2D</span>)      │ (<span style=\"color: #00d7ff; text-decoration-color: #00d7ff\">None</span>, <span style=\"color: #00af00; text-decoration-color: #00af00\">6</span>, <span style=\"color: #00af00; text-decoration-color: #00af00\">6</span>, <span style=\"color: #00af00; text-decoration-color: #00af00\">64</span>)            │               <span style=\"color: #00af00; text-decoration-color: #00af00\">0</span> │\n",
              "├──────────────────────────────────────┼─────────────────────────────┼─────────────────┤\n",
              "│ conv2d_22 (<span style=\"color: #0087ff; text-decoration-color: #0087ff\">Conv2D</span>)                   │ (<span style=\"color: #00d7ff; text-decoration-color: #00d7ff\">None</span>, <span style=\"color: #00af00; text-decoration-color: #00af00\">4</span>, <span style=\"color: #00af00; text-decoration-color: #00af00\">4</span>, <span style=\"color: #00af00; text-decoration-color: #00af00\">128</span>)           │          <span style=\"color: #00af00; text-decoration-color: #00af00\">73,856</span> │\n",
              "├──────────────────────────────────────┼─────────────────────────────┼─────────────────┤\n",
              "│ batch_normalization_10               │ (<span style=\"color: #00d7ff; text-decoration-color: #00d7ff\">None</span>, <span style=\"color: #00af00; text-decoration-color: #00af00\">4</span>, <span style=\"color: #00af00; text-decoration-color: #00af00\">4</span>, <span style=\"color: #00af00; text-decoration-color: #00af00\">128</span>)           │             <span style=\"color: #00af00; text-decoration-color: #00af00\">512</span> │\n",
              "│ (<span style=\"color: #0087ff; text-decoration-color: #0087ff\">BatchNormalization</span>)                 │                             │                 │\n",
              "├──────────────────────────────────────┼─────────────────────────────┼─────────────────┤\n",
              "│ max_pooling2d_22 (<span style=\"color: #0087ff; text-decoration-color: #0087ff\">MaxPooling2D</span>)      │ (<span style=\"color: #00d7ff; text-decoration-color: #00d7ff\">None</span>, <span style=\"color: #00af00; text-decoration-color: #00af00\">2</span>, <span style=\"color: #00af00; text-decoration-color: #00af00\">2</span>, <span style=\"color: #00af00; text-decoration-color: #00af00\">128</span>)           │               <span style=\"color: #00af00; text-decoration-color: #00af00\">0</span> │\n",
              "├──────────────────────────────────────┼─────────────────────────────┼─────────────────┤\n",
              "│ flatten_8 (<span style=\"color: #0087ff; text-decoration-color: #0087ff\">Flatten</span>)                  │ (<span style=\"color: #00d7ff; text-decoration-color: #00d7ff\">None</span>, <span style=\"color: #00af00; text-decoration-color: #00af00\">512</span>)                 │               <span style=\"color: #00af00; text-decoration-color: #00af00\">0</span> │\n",
              "├──────────────────────────────────────┼─────────────────────────────┼─────────────────┤\n",
              "│ dense_18 (<span style=\"color: #0087ff; text-decoration-color: #0087ff\">Dense</span>)                     │ (<span style=\"color: #00d7ff; text-decoration-color: #00d7ff\">None</span>, <span style=\"color: #00af00; text-decoration-color: #00af00\">256</span>)                 │         <span style=\"color: #00af00; text-decoration-color: #00af00\">131,328</span> │\n",
              "├──────────────────────────────────────┼─────────────────────────────┼─────────────────┤\n",
              "│ dropout_7 (<span style=\"color: #0087ff; text-decoration-color: #0087ff\">Dropout</span>)                  │ (<span style=\"color: #00d7ff; text-decoration-color: #00d7ff\">None</span>, <span style=\"color: #00af00; text-decoration-color: #00af00\">256</span>)                 │               <span style=\"color: #00af00; text-decoration-color: #00af00\">0</span> │\n",
              "├──────────────────────────────────────┼─────────────────────────────┼─────────────────┤\n",
              "│ dense_19 (<span style=\"color: #0087ff; text-decoration-color: #0087ff\">Dense</span>)                     │ (<span style=\"color: #00d7ff; text-decoration-color: #00d7ff\">None</span>, <span style=\"color: #00af00; text-decoration-color: #00af00\">10</span>)                  │           <span style=\"color: #00af00; text-decoration-color: #00af00\">2,570</span> │\n",
              "└──────────────────────────────────────┴─────────────────────────────┴─────────────────┘\n",
              "</pre>\n"
            ]
          },
          "metadata": {}
        },
        {
          "output_type": "display_data",
          "data": {
            "text/plain": [
              "\u001b[1m Total params: \u001b[0m\u001b[38;5;34m228,042\u001b[0m (890.79 KB)\n"
            ],
            "text/html": [
              "<pre style=\"white-space:pre;overflow-x:auto;line-height:normal;font-family:Menlo,'DejaVu Sans Mono',consolas,'Courier New',monospace\"><span style=\"font-weight: bold\"> Total params: </span><span style=\"color: #00af00; text-decoration-color: #00af00\">228,042</span> (890.79 KB)\n",
              "</pre>\n"
            ]
          },
          "metadata": {}
        },
        {
          "output_type": "display_data",
          "data": {
            "text/plain": [
              "\u001b[1m Trainable params: \u001b[0m\u001b[38;5;34m227,594\u001b[0m (889.04 KB)\n"
            ],
            "text/html": [
              "<pre style=\"white-space:pre;overflow-x:auto;line-height:normal;font-family:Menlo,'DejaVu Sans Mono',consolas,'Courier New',monospace\"><span style=\"font-weight: bold\"> Trainable params: </span><span style=\"color: #00af00; text-decoration-color: #00af00\">227,594</span> (889.04 KB)\n",
              "</pre>\n"
            ]
          },
          "metadata": {}
        },
        {
          "output_type": "display_data",
          "data": {
            "text/plain": [
              "\u001b[1m Non-trainable params: \u001b[0m\u001b[38;5;34m448\u001b[0m (1.75 KB)\n"
            ],
            "text/html": [
              "<pre style=\"white-space:pre;overflow-x:auto;line-height:normal;font-family:Menlo,'DejaVu Sans Mono',consolas,'Courier New',monospace\"><span style=\"font-weight: bold\"> Non-trainable params: </span><span style=\"color: #00af00; text-decoration-color: #00af00\">448</span> (1.75 KB)\n",
              "</pre>\n"
            ]
          },
          "metadata": {}
        }
      ]
    },
    {
      "cell_type": "code",
      "source": [
        "from tensorflow.keras.callbacks import EarlyStopping, ModelCheckpoint\n",
        "\n",
        "# Callbacks для предотвращения переобучения\n",
        "callbacks = [\n",
        "    EarlyStopping(\n",
        "        monitor='val_sparse_categorical_accuracy',  # Мониторим точность на валидации\n",
        "        patience=10,  # Количество эпох без улучшения перед остановкой\n",
        "        restore_best_weights=True,  # Возвращаем веса с лучшей эпохи\n",
        "        verbose=1\n",
        "    ),\n",
        "    ModelCheckpoint(\n",
        "        filepath='best_model.keras',  # Изменили расширение на .keras\n",
        "        monitor='val_sparse_categorical_accuracy',\n",
        "        save_best_only=True,\n",
        "        verbose=1\n",
        "    )\n",
        "]\n",
        "\n",
        "# Обучение модели\n",
        "history = model.fit(\n",
        "    datagen.flow(dg_x_train, dg_y_train, batch_size=64),  # Используем аугментацию данных\n",
        "    validation_data=(dg_x_val, dg_y_val),\n",
        "    epochs=30,\n",
        "    callbacks=callbacks,\n",
        "    verbose=1\n",
        ")\n",
        "\n",
        "# Оценка модели на тестовом наборе\n",
        "test_loss, test_accuracy = model.evaluate(X_test, y_test, verbose=1)\n",
        "print(f\"Test loss: {test_loss:.4f}, Test accuracy: {test_accuracy:.4f}\")\n",
        "\n"
      ],
      "metadata": {
        "colab": {
          "base_uri": "https://localhost:8080/"
        },
        "id": "6scHSI3uCs8d",
        "outputId": "bd29cbd1-7736-423a-cfa2-3403735cdb9a"
      },
      "execution_count": null,
      "outputs": [
        {
          "output_type": "stream",
          "name": "stdout",
          "text": [
            "Epoch 1/30\n"
          ]
        },
        {
          "output_type": "stream",
          "name": "stderr",
          "text": [
            "/usr/local/lib/python3.11/dist-packages/keras/src/trainers/data_adapters/py_dataset_adapter.py:122: UserWarning: Your `PyDataset` class should call `super().__init__(**kwargs)` in its constructor. `**kwargs` can include `workers`, `use_multiprocessing`, `max_queue_size`. Do not pass these arguments to `fit()`, as they will be ignored.\n",
            "  self._warn_if_super_not_called()\n"
          ]
        },
        {
          "output_type": "stream",
          "name": "stdout",
          "text": [
            "\u001b[1m493/500\u001b[0m \u001b[32m━━━━━━━━━━━━━━━━━━━\u001b[0m\u001b[37m━\u001b[0m \u001b[1m0s\u001b[0m 34ms/step - loss: 0.7749 - sparse_categorical_accuracy: 0.7306\n",
            "Epoch 1: val_sparse_categorical_accuracy improved from -inf to 0.74112, saving model to best_model.keras\n",
            "\u001b[1m500/500\u001b[0m \u001b[32m━━━━━━━━━━━━━━━━━━━━\u001b[0m\u001b[37m\u001b[0m \u001b[1m21s\u001b[0m 36ms/step - loss: 0.7750 - sparse_categorical_accuracy: 0.7306 - val_loss: 0.7473 - val_sparse_categorical_accuracy: 0.7411\n",
            "Epoch 2/30\n",
            "\u001b[1m493/500\u001b[0m \u001b[32m━━━━━━━━━━━━━━━━━━━\u001b[0m\u001b[37m━\u001b[0m \u001b[1m0s\u001b[0m 34ms/step - loss: 0.7661 - sparse_categorical_accuracy: 0.7306\n",
            "Epoch 2: val_sparse_categorical_accuracy did not improve from 0.74112\n",
            "\u001b[1m500/500\u001b[0m \u001b[32m━━━━━━━━━━━━━━━━━━━━\u001b[0m\u001b[37m\u001b[0m \u001b[1m37s\u001b[0m 34ms/step - loss: 0.7663 - sparse_categorical_accuracy: 0.7306 - val_loss: 0.7582 - val_sparse_categorical_accuracy: 0.7394\n",
            "Epoch 3/30\n",
            "\u001b[1m493/500\u001b[0m \u001b[32m━━━━━━━━━━━━━━━━━━━\u001b[0m\u001b[37m━\u001b[0m \u001b[1m0s\u001b[0m 34ms/step - loss: 0.7487 - sparse_categorical_accuracy: 0.7345\n",
            "Epoch 3: val_sparse_categorical_accuracy did not improve from 0.74112\n",
            "\u001b[1m500/500\u001b[0m \u001b[32m━━━━━━━━━━━━━━━━━━━━\u001b[0m\u001b[37m\u001b[0m \u001b[1m17s\u001b[0m 34ms/step - loss: 0.7489 - sparse_categorical_accuracy: 0.7345 - val_loss: 0.7760 - val_sparse_categorical_accuracy: 0.7355\n",
            "Epoch 4/30\n",
            "\u001b[1m498/500\u001b[0m \u001b[32m━━━━━━━━━━━━━━━━━━━\u001b[0m\u001b[37m━\u001b[0m \u001b[1m0s\u001b[0m 33ms/step - loss: 0.7685 - sparse_categorical_accuracy: 0.7318\n",
            "Epoch 4: val_sparse_categorical_accuracy did not improve from 0.74112\n",
            "\u001b[1m500/500\u001b[0m \u001b[32m━━━━━━━━━━━━━━━━━━━━\u001b[0m\u001b[37m\u001b[0m \u001b[1m20s\u001b[0m 34ms/step - loss: 0.7685 - sparse_categorical_accuracy: 0.7318 - val_loss: 0.7779 - val_sparse_categorical_accuracy: 0.7311\n",
            "Epoch 5/30\n",
            "\u001b[1m493/500\u001b[0m \u001b[32m━━━━━━━━━━━━━━━━━━━\u001b[0m\u001b[37m━\u001b[0m \u001b[1m0s\u001b[0m 36ms/step - loss: 0.7569 - sparse_categorical_accuracy: 0.7381\n",
            "Epoch 5: val_sparse_categorical_accuracy did not improve from 0.74112\n",
            "\u001b[1m500/500\u001b[0m \u001b[32m━━━━━━━━━━━━━━━━━━━━\u001b[0m\u001b[37m\u001b[0m \u001b[1m22s\u001b[0m 37ms/step - loss: 0.7569 - sparse_categorical_accuracy: 0.7381 - val_loss: 0.7982 - val_sparse_categorical_accuracy: 0.7318\n",
            "Epoch 6/30\n",
            "\u001b[1m498/500\u001b[0m \u001b[32m━━━━━━━━━━━━━━━━━━━\u001b[0m\u001b[37m━\u001b[0m \u001b[1m0s\u001b[0m 33ms/step - loss: 0.7607 - sparse_categorical_accuracy: 0.7358\n",
            "Epoch 6: val_sparse_categorical_accuracy did not improve from 0.74112\n",
            "\u001b[1m500/500\u001b[0m \u001b[32m━━━━━━━━━━━━━━━━━━━━\u001b[0m\u001b[37m\u001b[0m \u001b[1m17s\u001b[0m 34ms/step - loss: 0.7607 - sparse_categorical_accuracy: 0.7358 - val_loss: 0.8227 - val_sparse_categorical_accuracy: 0.7245\n",
            "Epoch 7/30\n",
            "\u001b[1m493/500\u001b[0m \u001b[32m━━━━━━━━━━━━━━━━━━━\u001b[0m\u001b[37m━\u001b[0m \u001b[1m0s\u001b[0m 36ms/step - loss: 0.7400 - sparse_categorical_accuracy: 0.7409\n",
            "Epoch 7: val_sparse_categorical_accuracy improved from 0.74112 to 0.74738, saving model to best_model.keras\n",
            "\u001b[1m500/500\u001b[0m \u001b[32m━━━━━━━━━━━━━━━━━━━━\u001b[0m\u001b[37m\u001b[0m \u001b[1m22s\u001b[0m 36ms/step - loss: 0.7402 - sparse_categorical_accuracy: 0.7409 - val_loss: 0.7357 - val_sparse_categorical_accuracy: 0.7474\n",
            "Epoch 8/30\n",
            "\u001b[1m498/500\u001b[0m \u001b[32m━━━━━━━━━━━━━━━━━━━\u001b[0m\u001b[37m━\u001b[0m \u001b[1m0s\u001b[0m 33ms/step - loss: 0.7536 - sparse_categorical_accuracy: 0.7337\n",
            "Epoch 8: val_sparse_categorical_accuracy did not improve from 0.74738\n",
            "\u001b[1m500/500\u001b[0m \u001b[32m━━━━━━━━━━━━━━━━━━━━\u001b[0m\u001b[37m\u001b[0m \u001b[1m19s\u001b[0m 34ms/step - loss: 0.7536 - sparse_categorical_accuracy: 0.7337 - val_loss: 0.7561 - val_sparse_categorical_accuracy: 0.7384\n",
            "Epoch 9/30\n",
            "\u001b[1m498/500\u001b[0m \u001b[32m━━━━━━━━━━━━━━━━━━━\u001b[0m\u001b[37m━\u001b[0m \u001b[1m0s\u001b[0m 35ms/step - loss: 0.7405 - sparse_categorical_accuracy: 0.7427\n",
            "Epoch 9: val_sparse_categorical_accuracy did not improve from 0.74738\n",
            "\u001b[1m500/500\u001b[0m \u001b[32m━━━━━━━━━━━━━━━━━━━━\u001b[0m\u001b[37m\u001b[0m \u001b[1m18s\u001b[0m 36ms/step - loss: 0.7406 - sparse_categorical_accuracy: 0.7427 - val_loss: 0.7897 - val_sparse_categorical_accuracy: 0.7333\n",
            "Epoch 10/30\n",
            "\u001b[1m493/500\u001b[0m \u001b[32m━━━━━━━━━━━━━━━━━━━\u001b[0m\u001b[37m━\u001b[0m \u001b[1m0s\u001b[0m 34ms/step - loss: 0.7241 - sparse_categorical_accuracy: 0.7496\n",
            "Epoch 10: val_sparse_categorical_accuracy did not improve from 0.74738\n",
            "\u001b[1m500/500\u001b[0m \u001b[32m━━━━━━━━━━━━━━━━━━━━\u001b[0m\u001b[37m\u001b[0m \u001b[1m20s\u001b[0m 34ms/step - loss: 0.7244 - sparse_categorical_accuracy: 0.7494 - val_loss: 0.7632 - val_sparse_categorical_accuracy: 0.7395\n",
            "Epoch 11/30\n",
            "\u001b[1m497/500\u001b[0m \u001b[32m━━━━━━━━━━━━━━━━━━━\u001b[0m\u001b[37m━\u001b[0m \u001b[1m0s\u001b[0m 36ms/step - loss: 0.7365 - sparse_categorical_accuracy: 0.7444\n",
            "Epoch 11: val_sparse_categorical_accuracy did not improve from 0.74738\n",
            "\u001b[1m500/500\u001b[0m \u001b[32m━━━━━━━━━━━━━━━━━━━━\u001b[0m\u001b[37m\u001b[0m \u001b[1m19s\u001b[0m 37ms/step - loss: 0.7365 - sparse_categorical_accuracy: 0.7444 - val_loss: 0.8045 - val_sparse_categorical_accuracy: 0.7266\n",
            "Epoch 12/30\n",
            "\u001b[1m497/500\u001b[0m \u001b[32m━━━━━━━━━━━━━━━━━━━\u001b[0m\u001b[37m━\u001b[0m \u001b[1m0s\u001b[0m 33ms/step - loss: 0.7383 - sparse_categorical_accuracy: 0.7423\n",
            "Epoch 12: val_sparse_categorical_accuracy did not improve from 0.74738\n",
            "\u001b[1m500/500\u001b[0m \u001b[32m━━━━━━━━━━━━━━━━━━━━\u001b[0m\u001b[37m\u001b[0m \u001b[1m17s\u001b[0m 34ms/step - loss: 0.7383 - sparse_categorical_accuracy: 0.7423 - val_loss: 0.7772 - val_sparse_categorical_accuracy: 0.7354\n",
            "Epoch 13/30\n",
            "\u001b[1m493/500\u001b[0m \u001b[32m━━━━━━━━━━━━━━━━━━━\u001b[0m\u001b[37m━\u001b[0m \u001b[1m0s\u001b[0m 36ms/step - loss: 0.7156 - sparse_categorical_accuracy: 0.7531\n",
            "Epoch 13: val_sparse_categorical_accuracy did not improve from 0.74738\n",
            "\u001b[1m500/500\u001b[0m \u001b[32m━━━━━━━━━━━━━━━━━━━━\u001b[0m\u001b[37m\u001b[0m \u001b[1m22s\u001b[0m 37ms/step - loss: 0.7158 - sparse_categorical_accuracy: 0.7530 - val_loss: 0.9404 - val_sparse_categorical_accuracy: 0.6942\n",
            "Epoch 14/30\n",
            "\u001b[1m497/500\u001b[0m \u001b[32m━━━━━━━━━━━━━━━━━━━\u001b[0m\u001b[37m━\u001b[0m \u001b[1m0s\u001b[0m 33ms/step - loss: 0.7103 - sparse_categorical_accuracy: 0.7517\n",
            "Epoch 14: val_sparse_categorical_accuracy improved from 0.74738 to 0.75400, saving model to best_model.keras\n",
            "\u001b[1m500/500\u001b[0m \u001b[32m━━━━━━━━━━━━━━━━━━━━\u001b[0m\u001b[37m\u001b[0m \u001b[1m17s\u001b[0m 34ms/step - loss: 0.7103 - sparse_categorical_accuracy: 0.7517 - val_loss: 0.7322 - val_sparse_categorical_accuracy: 0.7540\n",
            "Epoch 15/30\n",
            "\u001b[1m493/500\u001b[0m \u001b[32m━━━━━━━━━━━━━━━━━━━\u001b[0m\u001b[37m━\u001b[0m \u001b[1m0s\u001b[0m 36ms/step - loss: 0.7294 - sparse_categorical_accuracy: 0.7465\n",
            "Epoch 15: val_sparse_categorical_accuracy did not improve from 0.75400\n",
            "\u001b[1m500/500\u001b[0m \u001b[32m━━━━━━━━━━━━━━━━━━━━\u001b[0m\u001b[37m\u001b[0m \u001b[1m19s\u001b[0m 37ms/step - loss: 0.7294 - sparse_categorical_accuracy: 0.7465 - val_loss: 0.7943 - val_sparse_categorical_accuracy: 0.7256\n",
            "Epoch 16/30\n",
            "\u001b[1m497/500\u001b[0m \u001b[32m━━━━━━━━━━━━━━━━━━━\u001b[0m\u001b[37m━\u001b[0m \u001b[1m0s\u001b[0m 33ms/step - loss: 0.7065 - sparse_categorical_accuracy: 0.7544\n",
            "Epoch 16: val_sparse_categorical_accuracy did not improve from 0.75400\n",
            "\u001b[1m500/500\u001b[0m \u001b[32m━━━━━━━━━━━━━━━━━━━━\u001b[0m\u001b[37m\u001b[0m \u001b[1m17s\u001b[0m 34ms/step - loss: 0.7066 - sparse_categorical_accuracy: 0.7544 - val_loss: 0.7433 - val_sparse_categorical_accuracy: 0.7451\n",
            "Epoch 17/30\n",
            "\u001b[1m498/500\u001b[0m \u001b[32m━━━━━━━━━━━━━━━━━━━\u001b[0m\u001b[37m━\u001b[0m \u001b[1m0s\u001b[0m 35ms/step - loss: 0.7111 - sparse_categorical_accuracy: 0.7519\n",
            "Epoch 17: val_sparse_categorical_accuracy improved from 0.75400 to 0.76713, saving model to best_model.keras\n",
            "\u001b[1m500/500\u001b[0m \u001b[32m━━━━━━━━━━━━━━━━━━━━\u001b[0m\u001b[37m\u001b[0m \u001b[1m21s\u001b[0m 36ms/step - loss: 0.7111 - sparse_categorical_accuracy: 0.7519 - val_loss: 0.6920 - val_sparse_categorical_accuracy: 0.7671\n",
            "Epoch 18/30\n",
            "\u001b[1m493/500\u001b[0m \u001b[32m━━━━━━━━━━━━━━━━━━━\u001b[0m\u001b[37m━\u001b[0m \u001b[1m0s\u001b[0m 33ms/step - loss: 0.7130 - sparse_categorical_accuracy: 0.7520\n",
            "Epoch 18: val_sparse_categorical_accuracy did not improve from 0.76713\n",
            "\u001b[1m500/500\u001b[0m \u001b[32m━━━━━━━━━━━━━━━━━━━━\u001b[0m\u001b[37m\u001b[0m \u001b[1m19s\u001b[0m 34ms/step - loss: 0.7130 - sparse_categorical_accuracy: 0.7520 - val_loss: 0.7220 - val_sparse_categorical_accuracy: 0.7524\n",
            "Epoch 19/30\n",
            "\u001b[1m497/500\u001b[0m \u001b[32m━━━━━━━━━━━━━━━━━━━\u001b[0m\u001b[37m━\u001b[0m \u001b[1m0s\u001b[0m 34ms/step - loss: 0.7094 - sparse_categorical_accuracy: 0.7537\n",
            "Epoch 19: val_sparse_categorical_accuracy did not improve from 0.76713\n",
            "\u001b[1m500/500\u001b[0m \u001b[32m━━━━━━━━━━━━━━━━━━━━\u001b[0m\u001b[37m\u001b[0m \u001b[1m21s\u001b[0m 35ms/step - loss: 0.7094 - sparse_categorical_accuracy: 0.7537 - val_loss: 0.7449 - val_sparse_categorical_accuracy: 0.7470\n",
            "Epoch 20/30\n",
            "\u001b[1m493/500\u001b[0m \u001b[32m━━━━━━━━━━━━━━━━━━━\u001b[0m\u001b[37m━\u001b[0m \u001b[1m0s\u001b[0m 34ms/step - loss: 0.7061 - sparse_categorical_accuracy: 0.7533\n",
            "Epoch 20: val_sparse_categorical_accuracy did not improve from 0.76713\n",
            "\u001b[1m500/500\u001b[0m \u001b[32m━━━━━━━━━━━━━━━━━━━━\u001b[0m\u001b[37m\u001b[0m \u001b[1m20s\u001b[0m 35ms/step - loss: 0.7061 - sparse_categorical_accuracy: 0.7533 - val_loss: 0.7053 - val_sparse_categorical_accuracy: 0.7584\n",
            "Epoch 21/30\n",
            "\u001b[1m493/500\u001b[0m \u001b[32m━━━━━━━━━━━━━━━━━━━\u001b[0m\u001b[37m━\u001b[0m \u001b[1m0s\u001b[0m 34ms/step - loss: 0.6960 - sparse_categorical_accuracy: 0.7580\n",
            "Epoch 21: val_sparse_categorical_accuracy did not improve from 0.76713\n",
            "\u001b[1m500/500\u001b[0m \u001b[32m━━━━━━━━━━━━━━━━━━━━\u001b[0m\u001b[37m\u001b[0m \u001b[1m21s\u001b[0m 35ms/step - loss: 0.6960 - sparse_categorical_accuracy: 0.7579 - val_loss: 0.7546 - val_sparse_categorical_accuracy: 0.7431\n",
            "Epoch 22/30\n",
            "\u001b[1m494/500\u001b[0m \u001b[32m━━━━━━━━━━━━━━━━━━━\u001b[0m\u001b[37m━\u001b[0m \u001b[1m0s\u001b[0m 34ms/step - loss: 0.6988 - sparse_categorical_accuracy: 0.7555\n",
            "Epoch 22: val_sparse_categorical_accuracy did not improve from 0.76713\n",
            "\u001b[1m500/500\u001b[0m \u001b[32m━━━━━━━━━━━━━━━━━━━━\u001b[0m\u001b[37m\u001b[0m \u001b[1m18s\u001b[0m 35ms/step - loss: 0.6988 - sparse_categorical_accuracy: 0.7555 - val_loss: 0.7243 - val_sparse_categorical_accuracy: 0.7567\n",
            "Epoch 23/30\n",
            "\u001b[1m493/500\u001b[0m \u001b[32m━━━━━━━━━━━━━━━━━━━\u001b[0m\u001b[37m━\u001b[0m \u001b[1m0s\u001b[0m 34ms/step - loss: 0.6859 - sparse_categorical_accuracy: 0.7602\n",
            "Epoch 23: val_sparse_categorical_accuracy did not improve from 0.76713\n",
            "\u001b[1m500/500\u001b[0m \u001b[32m━━━━━━━━━━━━━━━━━━━━\u001b[0m\u001b[37m\u001b[0m \u001b[1m18s\u001b[0m 35ms/step - loss: 0.6861 - sparse_categorical_accuracy: 0.7601 - val_loss: 0.7251 - val_sparse_categorical_accuracy: 0.7554\n",
            "Epoch 24/30\n",
            "\u001b[1m493/500\u001b[0m \u001b[32m━━━━━━━━━━━━━━━━━━━\u001b[0m\u001b[37m━\u001b[0m \u001b[1m0s\u001b[0m 35ms/step - loss: 0.6972 - sparse_categorical_accuracy: 0.7625\n",
            "Epoch 24: val_sparse_categorical_accuracy did not improve from 0.76713\n",
            "\u001b[1m500/500\u001b[0m \u001b[32m━━━━━━━━━━━━━━━━━━━━\u001b[0m\u001b[37m\u001b[0m \u001b[1m21s\u001b[0m 36ms/step - loss: 0.6973 - sparse_categorical_accuracy: 0.7624 - val_loss: 0.7561 - val_sparse_categorical_accuracy: 0.7448\n",
            "Epoch 25/30\n",
            "\u001b[1m498/500\u001b[0m \u001b[32m━━━━━━━━━━━━━━━━━━━\u001b[0m\u001b[37m━\u001b[0m \u001b[1m0s\u001b[0m 33ms/step - loss: 0.6797 - sparse_categorical_accuracy: 0.7603\n",
            "Epoch 25: val_sparse_categorical_accuracy did not improve from 0.76713\n",
            "\u001b[1m500/500\u001b[0m \u001b[32m━━━━━━━━━━━━━━━━━━━━\u001b[0m\u001b[37m\u001b[0m \u001b[1m17s\u001b[0m 34ms/step - loss: 0.6798 - sparse_categorical_accuracy: 0.7603 - val_loss: 0.6921 - val_sparse_categorical_accuracy: 0.7641\n",
            "Epoch 26/30\n",
            "\u001b[1m493/500\u001b[0m \u001b[32m━━━━━━━━━━━━━━━━━━━\u001b[0m\u001b[37m━\u001b[0m \u001b[1m0s\u001b[0m 34ms/step - loss: 0.6901 - sparse_categorical_accuracy: 0.7596\n",
            "Epoch 26: val_sparse_categorical_accuracy did not improve from 0.76713\n",
            "\u001b[1m500/500\u001b[0m \u001b[32m━━━━━━━━━━━━━━━━━━━━\u001b[0m\u001b[37m\u001b[0m \u001b[1m18s\u001b[0m 35ms/step - loss: 0.6901 - sparse_categorical_accuracy: 0.7596 - val_loss: 0.7306 - val_sparse_categorical_accuracy: 0.7477\n",
            "Epoch 27/30\n",
            "\u001b[1m493/500\u001b[0m \u001b[32m━━━━━━━━━━━━━━━━━━━\u001b[0m\u001b[37m━\u001b[0m \u001b[1m0s\u001b[0m 35ms/step - loss: 0.6848 - sparse_categorical_accuracy: 0.7601\n",
            "Epoch 27: val_sparse_categorical_accuracy did not improve from 0.76713\n",
            "\u001b[1m500/500\u001b[0m \u001b[32m━━━━━━━━━━━━━━━━━━━━\u001b[0m\u001b[37m\u001b[0m \u001b[1m21s\u001b[0m 35ms/step - loss: 0.6848 - sparse_categorical_accuracy: 0.7601 - val_loss: 0.7496 - val_sparse_categorical_accuracy: 0.7477\n",
            "Epoch 27: early stopping\n",
            "Restoring model weights from the end of the best epoch: 17.\n",
            "\u001b[1m313/313\u001b[0m \u001b[32m━━━━━━━━━━━━━━━━━━━━\u001b[0m\u001b[37m\u001b[0m \u001b[1m1s\u001b[0m 3ms/step - loss: 0.6615 - sparse_categorical_accuracy: 0.7701\n",
            "Test loss: 0.6767, Test accuracy: 0.7682\n"
          ]
        }
      ]
    },
    {
      "cell_type": "markdown",
      "source": [
        "#Результаты:\n",
        "\n",
        "Точность на тестовой выборке: 76.82%.\n",
        "\n",
        "Использован механизм ранней остановки и сохранения лучшей модели."
      ],
      "metadata": {
        "id": "EUJ2HzC4ITTq"
      }
    },
    {
      "cell_type": "markdown",
      "source": [
        "#Эксперимент 2\n",
        "\n",
        "На самом деле я пробовал еще много чего, но нужного результата не достиг, да еще использовал все ресурсы коллаба. Но решение все-таки нашел, пусть и не сам, пусть будет тут для красот.\n",
        "\n",
        "**1. Входные данные**\n",
        "\n",
        "Размер входных данных: (32, 32, 3) — стандартный размер изображений CIFAR-10 (32x32 пикселя, 3 канала цвета).\n",
        "\n",
        "**2. Сверточные блоки**\n",
        "\n",
        "Блок 1:\n",
        "\n",
        "Слой Conv2D:\n",
        "\n",
        "Количество фильтров: 128.\n",
        "\n",
        "Размер фильтра: (3, 3).\n",
        "\n",
        "Активация: ReLU (для добавления нелинейности).\n",
        "\n",
        "Паддинг: same (размер выходного тензора совпадает с входным).\n",
        "\n",
        "MaxPooling2D: Размер пула: (2, 2) (уменьшение размерности в 2 раза).\n",
        "\n",
        "Dropout:\n",
        "Вероятность обнуления нейронов: 0.25.\n",
        "\n",
        "Блок 2:\n",
        "\n",
        "Слой Conv2D:\n",
        "\n",
        "Количество фильтров: 256.\n",
        "\n",
        "Аналогичные параметры как в первом сверточном слое.\n",
        "\n",
        "MaxPooling2D и Dropout: как в первом блоке.\n",
        "\n",
        "Блок 3:\n",
        "\n",
        "Три последовательных слоя Conv2D:\n",
        "\n",
        "Первый слой: 512 фильтров.\n",
        "\n",
        "Второй слой: 512 фильтров.\n",
        "\n",
        "Третий слой: 256 фильтров.\n",
        "\n",
        "Цель: глубокая обработка признаков и их уточнение.\n",
        "\n",
        "MaxPooling2D: уменьшение размерности.\n",
        "\n",
        "Dropout: предотвращение переобучения.\n",
        "\n",
        "**3. Полносвязные слои**\n",
        "\n",
        "Flatten:\n",
        "Преобразует трехмерный тензор признаков в вектор (размер: 4096).\n",
        "\n",
        "Dense слои:\n",
        "\n",
        "Слой 1: 512 нейронов + ReLU + Dropout(0.5).\n",
        "\n",
        "Слой 2: 256 нейронов + ReLU + Dropout(0.5).\n",
        "\n",
        "Слой 3: 128 нейронов + ReLU + Dropout(0.5).\n",
        "\n",
        "**Выходной слой:**\n",
        "\n",
        "Количество нейронов: 10 (по числу классов CIFAR-10).\n",
        "\n",
        "Активация: Softmax (для получения вероятностей принадлежности каждого класса).\n",
        "\n",
        "**4. Регуляризация**\n",
        "\n",
        "Dropout: используется на каждом этапе для снижения переобучения.\n",
        "\n",
        "**Компиляция модели**\n",
        "\n",
        "Функция потерь: categorical_crossentropy (работает с one-hot encoded метками).\n",
        "\n",
        "Оптимизатор: Adam с уменьшенной скоростью обучения (lr=0.0003) и линейным убыванием (decay=1e-6).\n",
        "\n",
        "Метрика: accuracy (точность классификации).\n",
        "\n",
        "\n"
      ],
      "metadata": {
        "id": "ZhzExTx8RI_V"
      }
    },
    {
      "cell_type": "code",
      "source": [
        "from tensorflow.keras.models import Sequential\n",
        "from tensorflow.keras.layers import Conv2D, MaxPooling2D, Flatten, Dense, Dropout, BatchNormalization\n",
        "from tensorflow.keras.optimizers import Adam\n",
        "from tensorflow.keras.preprocessing.image import ImageDataGenerator\n",
        "from tensorflow.keras.callbacks import ModelCheckpoint, EarlyStopping\n",
        "from sklearn.metrics import accuracy_score\n",
        "from tensorflow.keras.utils import to_categorical\n",
        "import numpy as np\n",
        "\n",
        "# Преобразование меток в one-hot encoding\n",
        "y_train_one_hot = to_categorical(dg_y_train, num_classes=10)\n",
        "y_val_one_hot = to_categorical(dg_y_val, num_classes=10)\n",
        "y_test_one_hot = to_categorical(y_test, num_classes=10)\n",
        "\n",
        "# Определение модели\n",
        "model = Sequential([\n",
        "    # Сверточный блок 1\n",
        "    Conv2D(128, (3, 3), activation='relu', input_shape=(32, 32, 3), padding='same'),\n",
        "    MaxPooling2D((2, 2)),\n",
        "    Dropout(0.25),\n",
        "\n",
        "    # Сверточный блок 2\n",
        "    Conv2D(256, (3, 3), activation='relu', padding='same'),\n",
        "    MaxPooling2D((2, 2)),\n",
        "    Dropout(0.25),\n",
        "\n",
        "    # Сверточный блок 3\n",
        "    Conv2D(512, (3, 3), activation='relu', padding='same'),\n",
        "    Conv2D(512, (3, 3), activation='relu', padding='same'),\n",
        "    Conv2D(256, (3, 3), activation='relu', padding='same'),\n",
        "    MaxPooling2D((2, 2)),\n",
        "    Dropout(0.25),\n",
        "\n",
        "    # Полносвязные слои\n",
        "    Flatten(),\n",
        "    Dense(512, activation='relu'),\n",
        "    Dropout(0.5),\n",
        "    Dense(256, activation='relu'),\n",
        "    Dropout(0.5),\n",
        "    Dense(128, activation='relu'),\n",
        "    Dropout(0.5),\n",
        "    Dense(10, activation='softmax')\n",
        "])\n",
        "\n",
        "# Компиляция модели\n",
        "model.compile(loss='categorical_crossentropy',\n",
        "              optimizer=Adam(learning_rate=0.0003, decay=1e-6),\n",
        "              metrics=['accuracy'])\n",
        "\n",
        "# Вывод архитектуры модели\n",
        "model.summary()\n",
        "\n",
        "# Data Augmentation\n",
        "datagen = ImageDataGenerator(\n",
        "    rotation_range=15,\n",
        "    width_shift_range=0.1,\n",
        "    height_shift_range=0.1,\n",
        "    horizontal_flip=True\n",
        ")\n",
        "datagen.fit(dg_x_train)\n",
        "\n",
        "# Коллбеки\n",
        "callbacks = [\n",
        "    ModelCheckpoint(filepath='best_model.keras',\n",
        "                    monitor='val_accuracy',\n",
        "                    save_best_only=True,\n",
        "                    verbose=1),\n",
        "    EarlyStopping(monitor='val_accuracy',\n",
        "                  patience=10,\n",
        "                  restore_best_weights=True,\n",
        "                  verbose=1)\n",
        "]\n",
        "\n",
        "# Обучение модели\n",
        "history = model.fit(\n",
        "    datagen.flow(dg_x_train, y_train_one_hot, batch_size=64),\n",
        "    steps_per_epoch=len(dg_x_train) // 64,\n",
        "    epochs=60,\n",
        "    validation_data=(dg_x_val, y_val_one_hot),\n",
        "    verbose=1,\n",
        "    callbacks=callbacks\n",
        ")\n",
        "\n",
        "# Проверка на тестовой выборке\n",
        "predict_x = model.predict(X_test)\n",
        "classes_x = np.argmax(predict_x, axis=1)\n",
        "test_acc = accuracy_score(np.argmax(y_test_one_hot, axis=1), classes_x)\n",
        "\n",
        "print(\"\\nTest accuracy:\", test_acc)\n",
        "if test_acc > 0.8:\n",
        "    print(\"Это победа!\")\n",
        "else:\n",
        "    print(\"Еще есть куда расти!\")\n"
      ],
      "metadata": {
        "colab": {
          "base_uri": "https://localhost:8080/",
          "height": 1000
        },
        "id": "q_DkjNsxfdoH",
        "outputId": "fa41d12e-7f84-4ff9-b761-05e7cc2fa5ba"
      },
      "execution_count": 12,
      "outputs": [
        {
          "output_type": "stream",
          "name": "stderr",
          "text": [
            "/usr/local/lib/python3.11/dist-packages/keras/src/layers/convolutional/base_conv.py:107: UserWarning: Do not pass an `input_shape`/`input_dim` argument to a layer. When using Sequential models, prefer using an `Input(shape)` object as the first layer in the model instead.\n",
            "  super().__init__(activity_regularizer=activity_regularizer, **kwargs)\n",
            "/usr/local/lib/python3.11/dist-packages/keras/src/optimizers/base_optimizer.py:33: UserWarning: Argument `decay` is no longer supported and will be ignored.\n",
            "  warnings.warn(\n"
          ]
        },
        {
          "output_type": "display_data",
          "data": {
            "text/plain": [
              "\u001b[1mModel: \"sequential_1\"\u001b[0m\n"
            ],
            "text/html": [
              "<pre style=\"white-space:pre;overflow-x:auto;line-height:normal;font-family:Menlo,'DejaVu Sans Mono',consolas,'Courier New',monospace\"><span style=\"font-weight: bold\">Model: \"sequential_1\"</span>\n",
              "</pre>\n"
            ]
          },
          "metadata": {}
        },
        {
          "output_type": "display_data",
          "data": {
            "text/plain": [
              "┏━━━━━━━━━━━━━━━━━━━━━━━━━━━━━━━━━━━━━━┳━━━━━━━━━━━━━━━━━━━━━━━━━━━━━┳━━━━━━━━━━━━━━━━━┓\n",
              "┃\u001b[1m \u001b[0m\u001b[1mLayer (type)                        \u001b[0m\u001b[1m \u001b[0m┃\u001b[1m \u001b[0m\u001b[1mOutput Shape               \u001b[0m\u001b[1m \u001b[0m┃\u001b[1m \u001b[0m\u001b[1m        Param #\u001b[0m\u001b[1m \u001b[0m┃\n",
              "┡━━━━━━━━━━━━━━━━━━━━━━━━━━━━━━━━━━━━━━╇━━━━━━━━━━━━━━━━━━━━━━━━━━━━━╇━━━━━━━━━━━━━━━━━┩\n",
              "│ conv2d_5 (\u001b[38;5;33mConv2D\u001b[0m)                    │ (\u001b[38;5;45mNone\u001b[0m, \u001b[38;5;34m32\u001b[0m, \u001b[38;5;34m32\u001b[0m, \u001b[38;5;34m128\u001b[0m)         │           \u001b[38;5;34m3,584\u001b[0m │\n",
              "├──────────────────────────────────────┼─────────────────────────────┼─────────────────┤\n",
              "│ max_pooling2d_3 (\u001b[38;5;33mMaxPooling2D\u001b[0m)       │ (\u001b[38;5;45mNone\u001b[0m, \u001b[38;5;34m16\u001b[0m, \u001b[38;5;34m16\u001b[0m, \u001b[38;5;34m128\u001b[0m)         │               \u001b[38;5;34m0\u001b[0m │\n",
              "├──────────────────────────────────────┼─────────────────────────────┼─────────────────┤\n",
              "│ dropout_6 (\u001b[38;5;33mDropout\u001b[0m)                  │ (\u001b[38;5;45mNone\u001b[0m, \u001b[38;5;34m16\u001b[0m, \u001b[38;5;34m16\u001b[0m, \u001b[38;5;34m128\u001b[0m)         │               \u001b[38;5;34m0\u001b[0m │\n",
              "├──────────────────────────────────────┼─────────────────────────────┼─────────────────┤\n",
              "│ conv2d_6 (\u001b[38;5;33mConv2D\u001b[0m)                    │ (\u001b[38;5;45mNone\u001b[0m, \u001b[38;5;34m16\u001b[0m, \u001b[38;5;34m16\u001b[0m, \u001b[38;5;34m256\u001b[0m)         │         \u001b[38;5;34m295,168\u001b[0m │\n",
              "├──────────────────────────────────────┼─────────────────────────────┼─────────────────┤\n",
              "│ max_pooling2d_4 (\u001b[38;5;33mMaxPooling2D\u001b[0m)       │ (\u001b[38;5;45mNone\u001b[0m, \u001b[38;5;34m8\u001b[0m, \u001b[38;5;34m8\u001b[0m, \u001b[38;5;34m256\u001b[0m)           │               \u001b[38;5;34m0\u001b[0m │\n",
              "├──────────────────────────────────────┼─────────────────────────────┼─────────────────┤\n",
              "│ dropout_7 (\u001b[38;5;33mDropout\u001b[0m)                  │ (\u001b[38;5;45mNone\u001b[0m, \u001b[38;5;34m8\u001b[0m, \u001b[38;5;34m8\u001b[0m, \u001b[38;5;34m256\u001b[0m)           │               \u001b[38;5;34m0\u001b[0m │\n",
              "├──────────────────────────────────────┼─────────────────────────────┼─────────────────┤\n",
              "│ conv2d_7 (\u001b[38;5;33mConv2D\u001b[0m)                    │ (\u001b[38;5;45mNone\u001b[0m, \u001b[38;5;34m8\u001b[0m, \u001b[38;5;34m8\u001b[0m, \u001b[38;5;34m512\u001b[0m)           │       \u001b[38;5;34m1,180,160\u001b[0m │\n",
              "├──────────────────────────────────────┼─────────────────────────────┼─────────────────┤\n",
              "│ conv2d_8 (\u001b[38;5;33mConv2D\u001b[0m)                    │ (\u001b[38;5;45mNone\u001b[0m, \u001b[38;5;34m8\u001b[0m, \u001b[38;5;34m8\u001b[0m, \u001b[38;5;34m512\u001b[0m)           │       \u001b[38;5;34m2,359,808\u001b[0m │\n",
              "├──────────────────────────────────────┼─────────────────────────────┼─────────────────┤\n",
              "│ conv2d_9 (\u001b[38;5;33mConv2D\u001b[0m)                    │ (\u001b[38;5;45mNone\u001b[0m, \u001b[38;5;34m8\u001b[0m, \u001b[38;5;34m8\u001b[0m, \u001b[38;5;34m256\u001b[0m)           │       \u001b[38;5;34m1,179,904\u001b[0m │\n",
              "├──────────────────────────────────────┼─────────────────────────────┼─────────────────┤\n",
              "│ max_pooling2d_5 (\u001b[38;5;33mMaxPooling2D\u001b[0m)       │ (\u001b[38;5;45mNone\u001b[0m, \u001b[38;5;34m4\u001b[0m, \u001b[38;5;34m4\u001b[0m, \u001b[38;5;34m256\u001b[0m)           │               \u001b[38;5;34m0\u001b[0m │\n",
              "├──────────────────────────────────────┼─────────────────────────────┼─────────────────┤\n",
              "│ dropout_8 (\u001b[38;5;33mDropout\u001b[0m)                  │ (\u001b[38;5;45mNone\u001b[0m, \u001b[38;5;34m4\u001b[0m, \u001b[38;5;34m4\u001b[0m, \u001b[38;5;34m256\u001b[0m)           │               \u001b[38;5;34m0\u001b[0m │\n",
              "├──────────────────────────────────────┼─────────────────────────────┼─────────────────┤\n",
              "│ flatten_1 (\u001b[38;5;33mFlatten\u001b[0m)                  │ (\u001b[38;5;45mNone\u001b[0m, \u001b[38;5;34m4096\u001b[0m)                │               \u001b[38;5;34m0\u001b[0m │\n",
              "├──────────────────────────────────────┼─────────────────────────────┼─────────────────┤\n",
              "│ dense_4 (\u001b[38;5;33mDense\u001b[0m)                      │ (\u001b[38;5;45mNone\u001b[0m, \u001b[38;5;34m512\u001b[0m)                 │       \u001b[38;5;34m2,097,664\u001b[0m │\n",
              "├──────────────────────────────────────┼─────────────────────────────┼─────────────────┤\n",
              "│ dropout_9 (\u001b[38;5;33mDropout\u001b[0m)                  │ (\u001b[38;5;45mNone\u001b[0m, \u001b[38;5;34m512\u001b[0m)                 │               \u001b[38;5;34m0\u001b[0m │\n",
              "├──────────────────────────────────────┼─────────────────────────────┼─────────────────┤\n",
              "│ dense_5 (\u001b[38;5;33mDense\u001b[0m)                      │ (\u001b[38;5;45mNone\u001b[0m, \u001b[38;5;34m256\u001b[0m)                 │         \u001b[38;5;34m131,328\u001b[0m │\n",
              "├──────────────────────────────────────┼─────────────────────────────┼─────────────────┤\n",
              "│ dropout_10 (\u001b[38;5;33mDropout\u001b[0m)                 │ (\u001b[38;5;45mNone\u001b[0m, \u001b[38;5;34m256\u001b[0m)                 │               \u001b[38;5;34m0\u001b[0m │\n",
              "├──────────────────────────────────────┼─────────────────────────────┼─────────────────┤\n",
              "│ dense_6 (\u001b[38;5;33mDense\u001b[0m)                      │ (\u001b[38;5;45mNone\u001b[0m, \u001b[38;5;34m128\u001b[0m)                 │          \u001b[38;5;34m32,896\u001b[0m │\n",
              "├──────────────────────────────────────┼─────────────────────────────┼─────────────────┤\n",
              "│ dropout_11 (\u001b[38;5;33mDropout\u001b[0m)                 │ (\u001b[38;5;45mNone\u001b[0m, \u001b[38;5;34m128\u001b[0m)                 │               \u001b[38;5;34m0\u001b[0m │\n",
              "├──────────────────────────────────────┼─────────────────────────────┼─────────────────┤\n",
              "│ dense_7 (\u001b[38;5;33mDense\u001b[0m)                      │ (\u001b[38;5;45mNone\u001b[0m, \u001b[38;5;34m10\u001b[0m)                  │           \u001b[38;5;34m1,290\u001b[0m │\n",
              "└──────────────────────────────────────┴─────────────────────────────┴─────────────────┘\n"
            ],
            "text/html": [
              "<pre style=\"white-space:pre;overflow-x:auto;line-height:normal;font-family:Menlo,'DejaVu Sans Mono',consolas,'Courier New',monospace\">┏━━━━━━━━━━━━━━━━━━━━━━━━━━━━━━━━━━━━━━┳━━━━━━━━━━━━━━━━━━━━━━━━━━━━━┳━━━━━━━━━━━━━━━━━┓\n",
              "┃<span style=\"font-weight: bold\"> Layer (type)                         </span>┃<span style=\"font-weight: bold\"> Output Shape                </span>┃<span style=\"font-weight: bold\">         Param # </span>┃\n",
              "┡━━━━━━━━━━━━━━━━━━━━━━━━━━━━━━━━━━━━━━╇━━━━━━━━━━━━━━━━━━━━━━━━━━━━━╇━━━━━━━━━━━━━━━━━┩\n",
              "│ conv2d_5 (<span style=\"color: #0087ff; text-decoration-color: #0087ff\">Conv2D</span>)                    │ (<span style=\"color: #00d7ff; text-decoration-color: #00d7ff\">None</span>, <span style=\"color: #00af00; text-decoration-color: #00af00\">32</span>, <span style=\"color: #00af00; text-decoration-color: #00af00\">32</span>, <span style=\"color: #00af00; text-decoration-color: #00af00\">128</span>)         │           <span style=\"color: #00af00; text-decoration-color: #00af00\">3,584</span> │\n",
              "├──────────────────────────────────────┼─────────────────────────────┼─────────────────┤\n",
              "│ max_pooling2d_3 (<span style=\"color: #0087ff; text-decoration-color: #0087ff\">MaxPooling2D</span>)       │ (<span style=\"color: #00d7ff; text-decoration-color: #00d7ff\">None</span>, <span style=\"color: #00af00; text-decoration-color: #00af00\">16</span>, <span style=\"color: #00af00; text-decoration-color: #00af00\">16</span>, <span style=\"color: #00af00; text-decoration-color: #00af00\">128</span>)         │               <span style=\"color: #00af00; text-decoration-color: #00af00\">0</span> │\n",
              "├──────────────────────────────────────┼─────────────────────────────┼─────────────────┤\n",
              "│ dropout_6 (<span style=\"color: #0087ff; text-decoration-color: #0087ff\">Dropout</span>)                  │ (<span style=\"color: #00d7ff; text-decoration-color: #00d7ff\">None</span>, <span style=\"color: #00af00; text-decoration-color: #00af00\">16</span>, <span style=\"color: #00af00; text-decoration-color: #00af00\">16</span>, <span style=\"color: #00af00; text-decoration-color: #00af00\">128</span>)         │               <span style=\"color: #00af00; text-decoration-color: #00af00\">0</span> │\n",
              "├──────────────────────────────────────┼─────────────────────────────┼─────────────────┤\n",
              "│ conv2d_6 (<span style=\"color: #0087ff; text-decoration-color: #0087ff\">Conv2D</span>)                    │ (<span style=\"color: #00d7ff; text-decoration-color: #00d7ff\">None</span>, <span style=\"color: #00af00; text-decoration-color: #00af00\">16</span>, <span style=\"color: #00af00; text-decoration-color: #00af00\">16</span>, <span style=\"color: #00af00; text-decoration-color: #00af00\">256</span>)         │         <span style=\"color: #00af00; text-decoration-color: #00af00\">295,168</span> │\n",
              "├──────────────────────────────────────┼─────────────────────────────┼─────────────────┤\n",
              "│ max_pooling2d_4 (<span style=\"color: #0087ff; text-decoration-color: #0087ff\">MaxPooling2D</span>)       │ (<span style=\"color: #00d7ff; text-decoration-color: #00d7ff\">None</span>, <span style=\"color: #00af00; text-decoration-color: #00af00\">8</span>, <span style=\"color: #00af00; text-decoration-color: #00af00\">8</span>, <span style=\"color: #00af00; text-decoration-color: #00af00\">256</span>)           │               <span style=\"color: #00af00; text-decoration-color: #00af00\">0</span> │\n",
              "├──────────────────────────────────────┼─────────────────────────────┼─────────────────┤\n",
              "│ dropout_7 (<span style=\"color: #0087ff; text-decoration-color: #0087ff\">Dropout</span>)                  │ (<span style=\"color: #00d7ff; text-decoration-color: #00d7ff\">None</span>, <span style=\"color: #00af00; text-decoration-color: #00af00\">8</span>, <span style=\"color: #00af00; text-decoration-color: #00af00\">8</span>, <span style=\"color: #00af00; text-decoration-color: #00af00\">256</span>)           │               <span style=\"color: #00af00; text-decoration-color: #00af00\">0</span> │\n",
              "├──────────────────────────────────────┼─────────────────────────────┼─────────────────┤\n",
              "│ conv2d_7 (<span style=\"color: #0087ff; text-decoration-color: #0087ff\">Conv2D</span>)                    │ (<span style=\"color: #00d7ff; text-decoration-color: #00d7ff\">None</span>, <span style=\"color: #00af00; text-decoration-color: #00af00\">8</span>, <span style=\"color: #00af00; text-decoration-color: #00af00\">8</span>, <span style=\"color: #00af00; text-decoration-color: #00af00\">512</span>)           │       <span style=\"color: #00af00; text-decoration-color: #00af00\">1,180,160</span> │\n",
              "├──────────────────────────────────────┼─────────────────────────────┼─────────────────┤\n",
              "│ conv2d_8 (<span style=\"color: #0087ff; text-decoration-color: #0087ff\">Conv2D</span>)                    │ (<span style=\"color: #00d7ff; text-decoration-color: #00d7ff\">None</span>, <span style=\"color: #00af00; text-decoration-color: #00af00\">8</span>, <span style=\"color: #00af00; text-decoration-color: #00af00\">8</span>, <span style=\"color: #00af00; text-decoration-color: #00af00\">512</span>)           │       <span style=\"color: #00af00; text-decoration-color: #00af00\">2,359,808</span> │\n",
              "├──────────────────────────────────────┼─────────────────────────────┼─────────────────┤\n",
              "│ conv2d_9 (<span style=\"color: #0087ff; text-decoration-color: #0087ff\">Conv2D</span>)                    │ (<span style=\"color: #00d7ff; text-decoration-color: #00d7ff\">None</span>, <span style=\"color: #00af00; text-decoration-color: #00af00\">8</span>, <span style=\"color: #00af00; text-decoration-color: #00af00\">8</span>, <span style=\"color: #00af00; text-decoration-color: #00af00\">256</span>)           │       <span style=\"color: #00af00; text-decoration-color: #00af00\">1,179,904</span> │\n",
              "├──────────────────────────────────────┼─────────────────────────────┼─────────────────┤\n",
              "│ max_pooling2d_5 (<span style=\"color: #0087ff; text-decoration-color: #0087ff\">MaxPooling2D</span>)       │ (<span style=\"color: #00d7ff; text-decoration-color: #00d7ff\">None</span>, <span style=\"color: #00af00; text-decoration-color: #00af00\">4</span>, <span style=\"color: #00af00; text-decoration-color: #00af00\">4</span>, <span style=\"color: #00af00; text-decoration-color: #00af00\">256</span>)           │               <span style=\"color: #00af00; text-decoration-color: #00af00\">0</span> │\n",
              "├──────────────────────────────────────┼─────────────────────────────┼─────────────────┤\n",
              "│ dropout_8 (<span style=\"color: #0087ff; text-decoration-color: #0087ff\">Dropout</span>)                  │ (<span style=\"color: #00d7ff; text-decoration-color: #00d7ff\">None</span>, <span style=\"color: #00af00; text-decoration-color: #00af00\">4</span>, <span style=\"color: #00af00; text-decoration-color: #00af00\">4</span>, <span style=\"color: #00af00; text-decoration-color: #00af00\">256</span>)           │               <span style=\"color: #00af00; text-decoration-color: #00af00\">0</span> │\n",
              "├──────────────────────────────────────┼─────────────────────────────┼─────────────────┤\n",
              "│ flatten_1 (<span style=\"color: #0087ff; text-decoration-color: #0087ff\">Flatten</span>)                  │ (<span style=\"color: #00d7ff; text-decoration-color: #00d7ff\">None</span>, <span style=\"color: #00af00; text-decoration-color: #00af00\">4096</span>)                │               <span style=\"color: #00af00; text-decoration-color: #00af00\">0</span> │\n",
              "├──────────────────────────────────────┼─────────────────────────────┼─────────────────┤\n",
              "│ dense_4 (<span style=\"color: #0087ff; text-decoration-color: #0087ff\">Dense</span>)                      │ (<span style=\"color: #00d7ff; text-decoration-color: #00d7ff\">None</span>, <span style=\"color: #00af00; text-decoration-color: #00af00\">512</span>)                 │       <span style=\"color: #00af00; text-decoration-color: #00af00\">2,097,664</span> │\n",
              "├──────────────────────────────────────┼─────────────────────────────┼─────────────────┤\n",
              "│ dropout_9 (<span style=\"color: #0087ff; text-decoration-color: #0087ff\">Dropout</span>)                  │ (<span style=\"color: #00d7ff; text-decoration-color: #00d7ff\">None</span>, <span style=\"color: #00af00; text-decoration-color: #00af00\">512</span>)                 │               <span style=\"color: #00af00; text-decoration-color: #00af00\">0</span> │\n",
              "├──────────────────────────────────────┼─────────────────────────────┼─────────────────┤\n",
              "│ dense_5 (<span style=\"color: #0087ff; text-decoration-color: #0087ff\">Dense</span>)                      │ (<span style=\"color: #00d7ff; text-decoration-color: #00d7ff\">None</span>, <span style=\"color: #00af00; text-decoration-color: #00af00\">256</span>)                 │         <span style=\"color: #00af00; text-decoration-color: #00af00\">131,328</span> │\n",
              "├──────────────────────────────────────┼─────────────────────────────┼─────────────────┤\n",
              "│ dropout_10 (<span style=\"color: #0087ff; text-decoration-color: #0087ff\">Dropout</span>)                 │ (<span style=\"color: #00d7ff; text-decoration-color: #00d7ff\">None</span>, <span style=\"color: #00af00; text-decoration-color: #00af00\">256</span>)                 │               <span style=\"color: #00af00; text-decoration-color: #00af00\">0</span> │\n",
              "├──────────────────────────────────────┼─────────────────────────────┼─────────────────┤\n",
              "│ dense_6 (<span style=\"color: #0087ff; text-decoration-color: #0087ff\">Dense</span>)                      │ (<span style=\"color: #00d7ff; text-decoration-color: #00d7ff\">None</span>, <span style=\"color: #00af00; text-decoration-color: #00af00\">128</span>)                 │          <span style=\"color: #00af00; text-decoration-color: #00af00\">32,896</span> │\n",
              "├──────────────────────────────────────┼─────────────────────────────┼─────────────────┤\n",
              "│ dropout_11 (<span style=\"color: #0087ff; text-decoration-color: #0087ff\">Dropout</span>)                 │ (<span style=\"color: #00d7ff; text-decoration-color: #00d7ff\">None</span>, <span style=\"color: #00af00; text-decoration-color: #00af00\">128</span>)                 │               <span style=\"color: #00af00; text-decoration-color: #00af00\">0</span> │\n",
              "├──────────────────────────────────────┼─────────────────────────────┼─────────────────┤\n",
              "│ dense_7 (<span style=\"color: #0087ff; text-decoration-color: #0087ff\">Dense</span>)                      │ (<span style=\"color: #00d7ff; text-decoration-color: #00d7ff\">None</span>, <span style=\"color: #00af00; text-decoration-color: #00af00\">10</span>)                  │           <span style=\"color: #00af00; text-decoration-color: #00af00\">1,290</span> │\n",
              "└──────────────────────────────────────┴─────────────────────────────┴─────────────────┘\n",
              "</pre>\n"
            ]
          },
          "metadata": {}
        },
        {
          "output_type": "display_data",
          "data": {
            "text/plain": [
              "\u001b[1m Total params: \u001b[0m\u001b[38;5;34m7,281,802\u001b[0m (27.78 MB)\n"
            ],
            "text/html": [
              "<pre style=\"white-space:pre;overflow-x:auto;line-height:normal;font-family:Menlo,'DejaVu Sans Mono',consolas,'Courier New',monospace\"><span style=\"font-weight: bold\"> Total params: </span><span style=\"color: #00af00; text-decoration-color: #00af00\">7,281,802</span> (27.78 MB)\n",
              "</pre>\n"
            ]
          },
          "metadata": {}
        },
        {
          "output_type": "display_data",
          "data": {
            "text/plain": [
              "\u001b[1m Trainable params: \u001b[0m\u001b[38;5;34m7,281,802\u001b[0m (27.78 MB)\n"
            ],
            "text/html": [
              "<pre style=\"white-space:pre;overflow-x:auto;line-height:normal;font-family:Menlo,'DejaVu Sans Mono',consolas,'Courier New',monospace\"><span style=\"font-weight: bold\"> Trainable params: </span><span style=\"color: #00af00; text-decoration-color: #00af00\">7,281,802</span> (27.78 MB)\n",
              "</pre>\n"
            ]
          },
          "metadata": {}
        },
        {
          "output_type": "display_data",
          "data": {
            "text/plain": [
              "\u001b[1m Non-trainable params: \u001b[0m\u001b[38;5;34m0\u001b[0m (0.00 B)\n"
            ],
            "text/html": [
              "<pre style=\"white-space:pre;overflow-x:auto;line-height:normal;font-family:Menlo,'DejaVu Sans Mono',consolas,'Courier New',monospace\"><span style=\"font-weight: bold\"> Non-trainable params: </span><span style=\"color: #00af00; text-decoration-color: #00af00\">0</span> (0.00 B)\n",
              "</pre>\n"
            ]
          },
          "metadata": {}
        },
        {
          "output_type": "stream",
          "name": "stdout",
          "text": [
            "Epoch 1/60\n"
          ]
        },
        {
          "output_type": "stream",
          "name": "stderr",
          "text": [
            "/usr/local/lib/python3.11/dist-packages/keras/src/trainers/data_adapters/py_dataset_adapter.py:122: UserWarning: Your `PyDataset` class should call `super().__init__(**kwargs)` in its constructor. `**kwargs` can include `workers`, `use_multiprocessing`, `max_queue_size`. Do not pass these arguments to `fit()`, as they will be ignored.\n",
            "  self._warn_if_super_not_called()\n"
          ]
        },
        {
          "output_type": "stream",
          "name": "stdout",
          "text": [
            "\u001b[1m500/500\u001b[0m \u001b[32m━━━━━━━━━━━━━━━━━━━━\u001b[0m\u001b[37m\u001b[0m \u001b[1m0s\u001b[0m 44ms/step - accuracy: 0.1420 - loss: 2.2270\n",
            "Epoch 1: val_accuracy improved from -inf to 0.34300, saving model to best_model.keras\n",
            "\u001b[1m500/500\u001b[0m \u001b[32m━━━━━━━━━━━━━━━━━━━━\u001b[0m\u001b[37m\u001b[0m \u001b[1m31s\u001b[0m 48ms/step - accuracy: 0.1421 - loss: 2.2268 - val_accuracy: 0.3430 - val_loss: 1.7375\n",
            "Epoch 2/60\n"
          ]
        },
        {
          "output_type": "stream",
          "name": "stderr",
          "text": [
            "/usr/lib/python3.11/contextlib.py:158: UserWarning: Your input ran out of data; interrupting training. Make sure that your dataset or generator can generate at least `steps_per_epoch * epochs` batches. You may need to use the `.repeat()` function when building your dataset.\n",
            "  self.gen.throw(typ, value, traceback)\n"
          ]
        },
        {
          "output_type": "stream",
          "name": "stdout",
          "text": [
            "\n",
            "Epoch 2: val_accuracy did not improve from 0.34300\n",
            "\u001b[1m500/500\u001b[0m \u001b[32m━━━━━━━━━━━━━━━━━━━━\u001b[0m\u001b[37m\u001b[0m \u001b[1m1s\u001b[0m 2ms/step - accuracy: 0.0000e+00 - loss: 0.0000e+00 - val_accuracy: 0.3430 - val_loss: 1.7375\n",
            "Epoch 3/60\n",
            "\u001b[1m499/500\u001b[0m \u001b[32m━━━━━━━━━━━━━━━━━━━\u001b[0m\u001b[37m━\u001b[0m \u001b[1m0s\u001b[0m 44ms/step - accuracy: 0.3107 - loss: 1.7995\n",
            "Epoch 3: val_accuracy improved from 0.34300 to 0.41675, saving model to best_model.keras\n",
            "\u001b[1m500/500\u001b[0m \u001b[32m━━━━━━━━━━━━━━━━━━━━\u001b[0m\u001b[37m\u001b[0m \u001b[1m35s\u001b[0m 47ms/step - accuracy: 0.3109 - loss: 1.7992 - val_accuracy: 0.4168 - val_loss: 1.5410\n",
            "Epoch 4/60\n",
            "\n",
            "Epoch 4: val_accuracy did not improve from 0.41675\n",
            "\u001b[1m500/500\u001b[0m \u001b[32m━━━━━━━━━━━━━━━━━━━━\u001b[0m\u001b[37m\u001b[0m \u001b[1m1s\u001b[0m 2ms/step - accuracy: 0.0000e+00 - loss: 0.0000e+00 - val_accuracy: 0.4168 - val_loss: 1.5410\n",
            "Epoch 5/60\n",
            "\u001b[1m499/500\u001b[0m \u001b[32m━━━━━━━━━━━━━━━━━━━\u001b[0m\u001b[37m━\u001b[0m \u001b[1m0s\u001b[0m 44ms/step - accuracy: 0.4090 - loss: 1.5734\n",
            "Epoch 5: val_accuracy improved from 0.41675 to 0.47962, saving model to best_model.keras\n",
            "\u001b[1m500/500\u001b[0m \u001b[32m━━━━━━━━━━━━━━━━━━━━\u001b[0m\u001b[37m\u001b[0m \u001b[1m40s\u001b[0m 48ms/step - accuracy: 0.4091 - loss: 1.5733 - val_accuracy: 0.4796 - val_loss: 1.4193\n",
            "Epoch 6/60\n",
            "\n",
            "Epoch 6: val_accuracy did not improve from 0.47962\n",
            "\u001b[1m500/500\u001b[0m \u001b[32m━━━━━━━━━━━━━━━━━━━━\u001b[0m\u001b[37m\u001b[0m \u001b[1m1s\u001b[0m 3ms/step - accuracy: 0.0000e+00 - loss: 0.0000e+00 - val_accuracy: 0.4796 - val_loss: 1.4193\n",
            "Epoch 7/60\n",
            "\u001b[1m500/500\u001b[0m \u001b[32m━━━━━━━━━━━━━━━━━━━━\u001b[0m\u001b[37m\u001b[0m \u001b[1m0s\u001b[0m 41ms/step - accuracy: 0.4803 - loss: 1.4259\n",
            "Epoch 7: val_accuracy improved from 0.47962 to 0.55112, saving model to best_model.keras\n",
            "\u001b[1m500/500\u001b[0m \u001b[32m━━━━━━━━━━━━━━━━━━━━\u001b[0m\u001b[37m\u001b[0m \u001b[1m38s\u001b[0m 45ms/step - accuracy: 0.4803 - loss: 1.4258 - val_accuracy: 0.5511 - val_loss: 1.2555\n",
            "Epoch 8/60\n",
            "\n",
            "Epoch 8: val_accuracy did not improve from 0.55112\n",
            "\u001b[1m500/500\u001b[0m \u001b[32m━━━━━━━━━━━━━━━━━━━━\u001b[0m\u001b[37m\u001b[0m \u001b[1m1s\u001b[0m 2ms/step - accuracy: 0.0000e+00 - loss: 0.0000e+00 - val_accuracy: 0.5511 - val_loss: 1.2555\n",
            "Epoch 9/60\n",
            "\u001b[1m500/500\u001b[0m \u001b[32m━━━━━━━━━━━━━━━━━━━━\u001b[0m\u001b[37m\u001b[0m \u001b[1m0s\u001b[0m 44ms/step - accuracy: 0.5353 - loss: 1.3129\n",
            "Epoch 9: val_accuracy improved from 0.55112 to 0.58525, saving model to best_model.keras\n",
            "\u001b[1m500/500\u001b[0m \u001b[32m━━━━━━━━━━━━━━━━━━━━\u001b[0m\u001b[37m\u001b[0m \u001b[1m41s\u001b[0m 47ms/step - accuracy: 0.5354 - loss: 1.3129 - val_accuracy: 0.5853 - val_loss: 1.1861\n",
            "Epoch 10/60\n",
            "\n",
            "Epoch 10: val_accuracy did not improve from 0.58525\n",
            "\u001b[1m500/500\u001b[0m \u001b[32m━━━━━━━━━━━━━━━━━━━━\u001b[0m\u001b[37m\u001b[0m \u001b[1m1s\u001b[0m 2ms/step - accuracy: 0.0000e+00 - loss: 0.0000e+00 - val_accuracy: 0.5853 - val_loss: 1.1861\n",
            "Epoch 11/60\n",
            "\u001b[1m499/500\u001b[0m \u001b[32m━━━━━━━━━━━━━━━━━━━\u001b[0m\u001b[37m━\u001b[0m \u001b[1m0s\u001b[0m 43ms/step - accuracy: 0.5834 - loss: 1.1974\n",
            "Epoch 11: val_accuracy improved from 0.58525 to 0.64463, saving model to best_model.keras\n",
            "\u001b[1m500/500\u001b[0m \u001b[32m━━━━━━━━━━━━━━━━━━━━\u001b[0m\u001b[37m\u001b[0m \u001b[1m23s\u001b[0m 46ms/step - accuracy: 0.5835 - loss: 1.1974 - val_accuracy: 0.6446 - val_loss: 0.9980\n",
            "Epoch 12/60\n",
            "\n",
            "Epoch 12: val_accuracy did not improve from 0.64463\n",
            "\u001b[1m500/500\u001b[0m \u001b[32m━━━━━━━━━━━━━━━━━━━━\u001b[0m\u001b[37m\u001b[0m \u001b[1m1s\u001b[0m 2ms/step - accuracy: 0.0000e+00 - loss: 0.0000e+00 - val_accuracy: 0.6446 - val_loss: 0.9980\n",
            "Epoch 13/60\n",
            "\u001b[1m500/500\u001b[0m \u001b[32m━━━━━━━━━━━━━━━━━━━━\u001b[0m\u001b[37m\u001b[0m \u001b[1m0s\u001b[0m 42ms/step - accuracy: 0.6183 - loss: 1.1129\n",
            "Epoch 13: val_accuracy improved from 0.64463 to 0.65525, saving model to best_model.keras\n",
            "\u001b[1m500/500\u001b[0m \u001b[32m━━━━━━━━━━━━━━━━━━━━\u001b[0m\u001b[37m\u001b[0m \u001b[1m23s\u001b[0m 45ms/step - accuracy: 0.6184 - loss: 1.1129 - val_accuracy: 0.6553 - val_loss: 0.9864\n",
            "Epoch 14/60\n",
            "\n",
            "Epoch 14: val_accuracy did not improve from 0.65525\n",
            "\u001b[1m500/500\u001b[0m \u001b[32m━━━━━━━━━━━━━━━━━━━━\u001b[0m\u001b[37m\u001b[0m \u001b[1m1s\u001b[0m 2ms/step - accuracy: 0.0000e+00 - loss: 0.0000e+00 - val_accuracy: 0.6553 - val_loss: 0.9864\n",
            "Epoch 15/60\n",
            "\u001b[1m500/500\u001b[0m \u001b[32m━━━━━━━━━━━━━━━━━━━━\u001b[0m\u001b[37m\u001b[0m \u001b[1m0s\u001b[0m 44ms/step - accuracy: 0.6436 - loss: 1.0416\n",
            "Epoch 15: val_accuracy improved from 0.65525 to 0.69313, saving model to best_model.keras\n",
            "\u001b[1m500/500\u001b[0m \u001b[32m━━━━━━━━━━━━━━━━━━━━\u001b[0m\u001b[37m\u001b[0m \u001b[1m41s\u001b[0m 47ms/step - accuracy: 0.6436 - loss: 1.0416 - val_accuracy: 0.6931 - val_loss: 0.8615\n",
            "Epoch 16/60\n",
            "\n",
            "Epoch 16: val_accuracy did not improve from 0.69313\n",
            "\u001b[1m500/500\u001b[0m \u001b[32m━━━━━━━━━━━━━━━━━━━━\u001b[0m\u001b[37m\u001b[0m \u001b[1m1s\u001b[0m 3ms/step - accuracy: 0.0000e+00 - loss: 0.0000e+00 - val_accuracy: 0.6931 - val_loss: 0.8615\n",
            "Epoch 17/60\n",
            "\u001b[1m499/500\u001b[0m \u001b[32m━━━━━━━━━━━━━━━━━━━\u001b[0m\u001b[37m━\u001b[0m \u001b[1m0s\u001b[0m 44ms/step - accuracy: 0.6668 - loss: 0.9817\n",
            "Epoch 17: val_accuracy did not improve from 0.69313\n",
            "\u001b[1m500/500\u001b[0m \u001b[32m━━━━━━━━━━━━━━━━━━━━\u001b[0m\u001b[37m\u001b[0m \u001b[1m23s\u001b[0m 46ms/step - accuracy: 0.6668 - loss: 0.9817 - val_accuracy: 0.6916 - val_loss: 0.9063\n",
            "Epoch 18/60\n",
            "\n",
            "Epoch 18: val_accuracy did not improve from 0.69313\n",
            "\u001b[1m500/500\u001b[0m \u001b[32m━━━━━━━━━━━━━━━━━━━━\u001b[0m\u001b[37m\u001b[0m \u001b[1m1s\u001b[0m 2ms/step - accuracy: 0.0000e+00 - loss: 0.0000e+00 - val_accuracy: 0.6916 - val_loss: 0.9063\n",
            "Epoch 19/60\n",
            "\u001b[1m499/500\u001b[0m \u001b[32m━━━━━━━━━━━━━━━━━━━\u001b[0m\u001b[37m━\u001b[0m \u001b[1m0s\u001b[0m 42ms/step - accuracy: 0.6747 - loss: 0.9504\n",
            "Epoch 19: val_accuracy improved from 0.69313 to 0.70475, saving model to best_model.keras\n",
            "\u001b[1m500/500\u001b[0m \u001b[32m━━━━━━━━━━━━━━━━━━━━\u001b[0m\u001b[37m\u001b[0m \u001b[1m23s\u001b[0m 45ms/step - accuracy: 0.6747 - loss: 0.9504 - val_accuracy: 0.7048 - val_loss: 0.8428\n",
            "Epoch 20/60\n",
            "\n",
            "Epoch 20: val_accuracy did not improve from 0.70475\n",
            "\u001b[1m500/500\u001b[0m \u001b[32m━━━━━━━━━━━━━━━━━━━━\u001b[0m\u001b[37m\u001b[0m \u001b[1m1s\u001b[0m 2ms/step - accuracy: 0.0000e+00 - loss: 0.0000e+00 - val_accuracy: 0.7048 - val_loss: 0.8428\n",
            "Epoch 21/60\n",
            "\u001b[1m500/500\u001b[0m \u001b[32m━━━━━━━━━━━━━━━━━━━━\u001b[0m\u001b[37m\u001b[0m \u001b[1m0s\u001b[0m 42ms/step - accuracy: 0.6976 - loss: 0.8996\n",
            "Epoch 21: val_accuracy improved from 0.70475 to 0.73875, saving model to best_model.keras\n",
            "\u001b[1m500/500\u001b[0m \u001b[32m━━━━━━━━━━━━━━━━━━━━\u001b[0m\u001b[37m\u001b[0m \u001b[1m22s\u001b[0m 45ms/step - accuracy: 0.6976 - loss: 0.8995 - val_accuracy: 0.7387 - val_loss: 0.7465\n",
            "Epoch 22/60\n",
            "\n",
            "Epoch 22: val_accuracy did not improve from 0.73875\n",
            "\u001b[1m500/500\u001b[0m \u001b[32m━━━━━━━━━━━━━━━━━━━━\u001b[0m\u001b[37m\u001b[0m \u001b[1m1s\u001b[0m 2ms/step - accuracy: 0.0000e+00 - loss: 0.0000e+00 - val_accuracy: 0.7387 - val_loss: 0.7465\n",
            "Epoch 23/60\n",
            "\u001b[1m499/500\u001b[0m \u001b[32m━━━━━━━━━━━━━━━━━━━\u001b[0m\u001b[37m━\u001b[0m \u001b[1m0s\u001b[0m 44ms/step - accuracy: 0.7110 - loss: 0.8565\n",
            "Epoch 23: val_accuracy did not improve from 0.73875\n",
            "\u001b[1m500/500\u001b[0m \u001b[32m━━━━━━━━━━━━━━━━━━━━\u001b[0m\u001b[37m\u001b[0m \u001b[1m41s\u001b[0m 46ms/step - accuracy: 0.7110 - loss: 0.8565 - val_accuracy: 0.7232 - val_loss: 0.8111\n",
            "Epoch 24/60\n",
            "\n",
            "Epoch 24: val_accuracy did not improve from 0.73875\n",
            "\u001b[1m500/500\u001b[0m \u001b[32m━━━━━━━━━━━━━━━━━━━━\u001b[0m\u001b[37m\u001b[0m \u001b[1m1s\u001b[0m 2ms/step - accuracy: 0.0000e+00 - loss: 0.0000e+00 - val_accuracy: 0.7232 - val_loss: 0.8111\n",
            "Epoch 25/60\n",
            "\u001b[1m500/500\u001b[0m \u001b[32m━━━━━━━━━━━━━━━━━━━━\u001b[0m\u001b[37m\u001b[0m \u001b[1m0s\u001b[0m 44ms/step - accuracy: 0.7230 - loss: 0.8331\n",
            "Epoch 25: val_accuracy did not improve from 0.73875\n",
            "\u001b[1m500/500\u001b[0m \u001b[32m━━━━━━━━━━━━━━━━━━━━\u001b[0m\u001b[37m\u001b[0m \u001b[1m40s\u001b[0m 46ms/step - accuracy: 0.7230 - loss: 0.8331 - val_accuracy: 0.7284 - val_loss: 0.7800\n",
            "Epoch 26/60\n",
            "\n",
            "Epoch 26: val_accuracy did not improve from 0.73875\n",
            "\u001b[1m500/500\u001b[0m \u001b[32m━━━━━━━━━━━━━━━━━━━━\u001b[0m\u001b[37m\u001b[0m \u001b[1m1s\u001b[0m 3ms/step - accuracy: 0.0000e+00 - loss: 0.0000e+00 - val_accuracy: 0.7284 - val_loss: 0.7800\n",
            "Epoch 27/60\n",
            "\u001b[1m499/500\u001b[0m \u001b[32m━━━━━━━━━━━━━━━━━━━\u001b[0m\u001b[37m━\u001b[0m \u001b[1m0s\u001b[0m 43ms/step - accuracy: 0.7385 - loss: 0.7922\n",
            "Epoch 27: val_accuracy improved from 0.73875 to 0.75213, saving model to best_model.keras\n",
            "\u001b[1m500/500\u001b[0m \u001b[32m━━━━━━━━━━━━━━━━━━━━\u001b[0m\u001b[37m\u001b[0m \u001b[1m40s\u001b[0m 46ms/step - accuracy: 0.7385 - loss: 0.7922 - val_accuracy: 0.7521 - val_loss: 0.7294\n",
            "Epoch 28/60\n",
            "\n",
            "Epoch 28: val_accuracy did not improve from 0.75213\n",
            "\u001b[1m500/500\u001b[0m \u001b[32m━━━━━━━━━━━━━━━━━━━━\u001b[0m\u001b[37m\u001b[0m \u001b[1m1s\u001b[0m 3ms/step - accuracy: 0.0000e+00 - loss: 0.0000e+00 - val_accuracy: 0.7521 - val_loss: 0.7294\n",
            "Epoch 29/60\n",
            "\u001b[1m499/500\u001b[0m \u001b[32m━━━━━━━━━━━━━━━━━━━\u001b[0m\u001b[37m━\u001b[0m \u001b[1m0s\u001b[0m 42ms/step - accuracy: 0.7506 - loss: 0.7575\n",
            "Epoch 29: val_accuracy improved from 0.75213 to 0.77175, saving model to best_model.keras\n",
            "\u001b[1m500/500\u001b[0m \u001b[32m━━━━━━━━━━━━━━━━━━━━\u001b[0m\u001b[37m\u001b[0m \u001b[1m39s\u001b[0m 46ms/step - accuracy: 0.7506 - loss: 0.7575 - val_accuracy: 0.7717 - val_loss: 0.6726\n",
            "Epoch 30/60\n",
            "\n",
            "Epoch 30: val_accuracy did not improve from 0.77175\n",
            "\u001b[1m500/500\u001b[0m \u001b[32m━━━━━━━━━━━━━━━━━━━━\u001b[0m\u001b[37m\u001b[0m \u001b[1m1s\u001b[0m 2ms/step - accuracy: 0.0000e+00 - loss: 0.0000e+00 - val_accuracy: 0.7717 - val_loss: 0.6726\n",
            "Epoch 31/60\n",
            "\u001b[1m499/500\u001b[0m \u001b[32m━━━━━━━━━━━━━━━━━━━\u001b[0m\u001b[37m━\u001b[0m \u001b[1m0s\u001b[0m 44ms/step - accuracy: 0.7568 - loss: 0.7281\n",
            "Epoch 31: val_accuracy improved from 0.77175 to 0.78025, saving model to best_model.keras\n",
            "\u001b[1m500/500\u001b[0m \u001b[32m━━━━━━━━━━━━━━━━━━━━\u001b[0m\u001b[37m\u001b[0m \u001b[1m41s\u001b[0m 47ms/step - accuracy: 0.7568 - loss: 0.7282 - val_accuracy: 0.7803 - val_loss: 0.6611\n",
            "Epoch 32/60\n",
            "\n",
            "Epoch 32: val_accuracy did not improve from 0.78025\n",
            "\u001b[1m500/500\u001b[0m \u001b[32m━━━━━━━━━━━━━━━━━━━━\u001b[0m\u001b[37m\u001b[0m \u001b[1m1s\u001b[0m 2ms/step - accuracy: 0.0000e+00 - loss: 0.0000e+00 - val_accuracy: 0.7803 - val_loss: 0.6611\n",
            "Epoch 33/60\n",
            "\u001b[1m499/500\u001b[0m \u001b[32m━━━━━━━━━━━━━━━━━━━\u001b[0m\u001b[37m━\u001b[0m \u001b[1m0s\u001b[0m 45ms/step - accuracy: 0.7685 - loss: 0.7089\n",
            "Epoch 33: val_accuracy did not improve from 0.78025\n",
            "\u001b[1m500/500\u001b[0m \u001b[32m━━━━━━━━━━━━━━━━━━━━\u001b[0m\u001b[37m\u001b[0m \u001b[1m40s\u001b[0m 47ms/step - accuracy: 0.7685 - loss: 0.7089 - val_accuracy: 0.7655 - val_loss: 0.7037\n",
            "Epoch 34/60\n",
            "\n",
            "Epoch 34: val_accuracy did not improve from 0.78025\n",
            "\u001b[1m500/500\u001b[0m \u001b[32m━━━━━━━━━━━━━━━━━━━━\u001b[0m\u001b[37m\u001b[0m \u001b[1m1s\u001b[0m 3ms/step - accuracy: 0.0000e+00 - loss: 0.0000e+00 - val_accuracy: 0.7655 - val_loss: 0.7037\n",
            "Epoch 35/60\n",
            "\u001b[1m499/500\u001b[0m \u001b[32m━━━━━━━━━━━━━━━━━━━\u001b[0m\u001b[37m━\u001b[0m \u001b[1m0s\u001b[0m 44ms/step - accuracy: 0.7781 - loss: 0.6788\n",
            "Epoch 35: val_accuracy did not improve from 0.78025\n",
            "\u001b[1m500/500\u001b[0m \u001b[32m━━━━━━━━━━━━━━━━━━━━\u001b[0m\u001b[37m\u001b[0m \u001b[1m24s\u001b[0m 47ms/step - accuracy: 0.7781 - loss: 0.6789 - val_accuracy: 0.7620 - val_loss: 0.7181\n",
            "Epoch 36/60\n",
            "\n",
            "Epoch 36: val_accuracy did not improve from 0.78025\n",
            "\u001b[1m500/500\u001b[0m \u001b[32m━━━━━━━━━━━━━━━━━━━━\u001b[0m\u001b[37m\u001b[0m \u001b[1m1s\u001b[0m 2ms/step - accuracy: 0.0000e+00 - loss: 0.0000e+00 - val_accuracy: 0.7620 - val_loss: 0.7181\n",
            "Epoch 37/60\n",
            "\u001b[1m499/500\u001b[0m \u001b[32m━━━━━━━━━━━━━━━━━━━\u001b[0m\u001b[37m━\u001b[0m \u001b[1m0s\u001b[0m 44ms/step - accuracy: 0.7809 - loss: 0.6619\n",
            "Epoch 37: val_accuracy did not improve from 0.78025\n",
            "\u001b[1m500/500\u001b[0m \u001b[32m━━━━━━━━━━━━━━━━━━━━\u001b[0m\u001b[37m\u001b[0m \u001b[1m23s\u001b[0m 46ms/step - accuracy: 0.7809 - loss: 0.6619 - val_accuracy: 0.7229 - val_loss: 0.9019\n",
            "Epoch 38/60\n",
            "\n",
            "Epoch 38: val_accuracy did not improve from 0.78025\n",
            "\u001b[1m500/500\u001b[0m \u001b[32m━━━━━━━━━━━━━━━━━━━━\u001b[0m\u001b[37m\u001b[0m \u001b[1m1s\u001b[0m 2ms/step - accuracy: 0.0000e+00 - loss: 0.0000e+00 - val_accuracy: 0.7229 - val_loss: 0.9019\n",
            "Epoch 39/60\n",
            "\u001b[1m499/500\u001b[0m \u001b[32m━━━━━━━━━━━━━━━━━━━\u001b[0m\u001b[37m━\u001b[0m \u001b[1m0s\u001b[0m 44ms/step - accuracy: 0.7926 - loss: 0.6312\n",
            "Epoch 39: val_accuracy improved from 0.78025 to 0.79750, saving model to best_model.keras\n",
            "\u001b[1m500/500\u001b[0m \u001b[32m━━━━━━━━━━━━━━━━━━━━\u001b[0m\u001b[37m\u001b[0m \u001b[1m40s\u001b[0m 47ms/step - accuracy: 0.7926 - loss: 0.6312 - val_accuracy: 0.7975 - val_loss: 0.6091\n",
            "Epoch 40/60\n",
            "\n",
            "Epoch 40: val_accuracy did not improve from 0.79750\n",
            "\u001b[1m500/500\u001b[0m \u001b[32m━━━━━━━━━━━━━━━━━━━━\u001b[0m\u001b[37m\u001b[0m \u001b[1m1s\u001b[0m 2ms/step - accuracy: 0.0000e+00 - loss: 0.0000e+00 - val_accuracy: 0.7975 - val_loss: 0.6091\n",
            "Epoch 41/60\n",
            "\u001b[1m499/500\u001b[0m \u001b[32m━━━━━━━━━━━━━━━━━━━\u001b[0m\u001b[37m━\u001b[0m \u001b[1m0s\u001b[0m 44ms/step - accuracy: 0.7980 - loss: 0.6165\n",
            "Epoch 41: val_accuracy did not improve from 0.79750\n",
            "\u001b[1m500/500\u001b[0m \u001b[32m━━━━━━━━━━━━━━━━━━━━\u001b[0m\u001b[37m\u001b[0m \u001b[1m23s\u001b[0m 46ms/step - accuracy: 0.7980 - loss: 0.6165 - val_accuracy: 0.7839 - val_loss: 0.6802\n",
            "Epoch 42/60\n",
            "\n",
            "Epoch 42: val_accuracy did not improve from 0.79750\n",
            "\u001b[1m500/500\u001b[0m \u001b[32m━━━━━━━━━━━━━━━━━━━━\u001b[0m\u001b[37m\u001b[0m \u001b[1m1s\u001b[0m 2ms/step - accuracy: 0.0000e+00 - loss: 0.0000e+00 - val_accuracy: 0.7839 - val_loss: 0.6802\n",
            "Epoch 43/60\n",
            "\u001b[1m500/500\u001b[0m \u001b[32m━━━━━━━━━━━━━━━━━━━━\u001b[0m\u001b[37m\u001b[0m \u001b[1m0s\u001b[0m 44ms/step - accuracy: 0.8064 - loss: 0.5899\n",
            "Epoch 43: val_accuracy improved from 0.79750 to 0.80350, saving model to best_model.keras\n",
            "\u001b[1m500/500\u001b[0m \u001b[32m━━━━━━━━━━━━━━━━━━━━\u001b[0m\u001b[37m\u001b[0m \u001b[1m24s\u001b[0m 47ms/step - accuracy: 0.8064 - loss: 0.5899 - val_accuracy: 0.8035 - val_loss: 0.6150\n",
            "Epoch 44/60\n",
            "\n",
            "Epoch 44: val_accuracy did not improve from 0.80350\n",
            "\u001b[1m500/500\u001b[0m \u001b[32m━━━━━━━━━━━━━━━━━━━━\u001b[0m\u001b[37m\u001b[0m \u001b[1m1s\u001b[0m 2ms/step - accuracy: 0.0000e+00 - loss: 0.0000e+00 - val_accuracy: 0.8035 - val_loss: 0.6150\n",
            "Epoch 45/60\n",
            "\u001b[1m500/500\u001b[0m \u001b[32m━━━━━━━━━━━━━━━━━━━━\u001b[0m\u001b[37m\u001b[0m \u001b[1m0s\u001b[0m 43ms/step - accuracy: 0.8149 - loss: 0.5609\n",
            "Epoch 45: val_accuracy did not improve from 0.80350\n",
            "\u001b[1m500/500\u001b[0m \u001b[32m━━━━━━━━━━━━━━━━━━━━\u001b[0m\u001b[37m\u001b[0m \u001b[1m39s\u001b[0m 45ms/step - accuracy: 0.8149 - loss: 0.5609 - val_accuracy: 0.7995 - val_loss: 0.6289\n",
            "Epoch 46/60\n",
            "\n",
            "Epoch 46: val_accuracy did not improve from 0.80350\n",
            "\u001b[1m500/500\u001b[0m \u001b[32m━━━━━━━━━━━━━━━━━━━━\u001b[0m\u001b[37m\u001b[0m \u001b[1m1s\u001b[0m 2ms/step - accuracy: 0.0000e+00 - loss: 0.0000e+00 - val_accuracy: 0.7995 - val_loss: 0.6289\n",
            "Epoch 47/60\n",
            "\u001b[1m499/500\u001b[0m \u001b[32m━━━━━━━━━━━━━━━━━━━\u001b[0m\u001b[37m━\u001b[0m \u001b[1m0s\u001b[0m 43ms/step - accuracy: 0.8141 - loss: 0.5637\n",
            "Epoch 47: val_accuracy improved from 0.80350 to 0.80813, saving model to best_model.keras\n",
            "\u001b[1m500/500\u001b[0m \u001b[32m━━━━━━━━━━━━━━━━━━━━\u001b[0m\u001b[37m\u001b[0m \u001b[1m40s\u001b[0m 46ms/step - accuracy: 0.8141 - loss: 0.5637 - val_accuracy: 0.8081 - val_loss: 0.5954\n",
            "Epoch 48/60\n",
            "\n",
            "Epoch 48: val_accuracy did not improve from 0.80813\n",
            "\u001b[1m500/500\u001b[0m \u001b[32m━━━━━━━━━━━━━━━━━━━━\u001b[0m\u001b[37m\u001b[0m \u001b[1m1s\u001b[0m 2ms/step - accuracy: 0.0000e+00 - loss: 0.0000e+00 - val_accuracy: 0.8081 - val_loss: 0.5954\n",
            "Epoch 49/60\n",
            "\u001b[1m499/500\u001b[0m \u001b[32m━━━━━━━━━━━━━━━━━━━\u001b[0m\u001b[37m━\u001b[0m \u001b[1m0s\u001b[0m 44ms/step - accuracy: 0.8191 - loss: 0.5477\n",
            "Epoch 49: val_accuracy improved from 0.80813 to 0.80838, saving model to best_model.keras\n",
            "\u001b[1m500/500\u001b[0m \u001b[32m━━━━━━━━━━━━━━━━━━━━\u001b[0m\u001b[37m\u001b[0m \u001b[1m40s\u001b[0m 47ms/step - accuracy: 0.8191 - loss: 0.5478 - val_accuracy: 0.8084 - val_loss: 0.6129\n",
            "Epoch 50/60\n",
            "\n",
            "Epoch 50: val_accuracy did not improve from 0.80838\n",
            "\u001b[1m500/500\u001b[0m \u001b[32m━━━━━━━━━━━━━━━━━━━━\u001b[0m\u001b[37m\u001b[0m \u001b[1m1s\u001b[0m 2ms/step - accuracy: 0.0000e+00 - loss: 0.0000e+00 - val_accuracy: 0.8084 - val_loss: 0.6129\n",
            "Epoch 51/60\n",
            "\u001b[1m500/500\u001b[0m \u001b[32m━━━━━━━━━━━━━━━━━━━━\u001b[0m\u001b[37m\u001b[0m \u001b[1m0s\u001b[0m 44ms/step - accuracy: 0.8270 - loss: 0.5260\n",
            "Epoch 51: val_accuracy did not improve from 0.80838\n",
            "\u001b[1m500/500\u001b[0m \u001b[32m━━━━━━━━━━━━━━━━━━━━\u001b[0m\u001b[37m\u001b[0m \u001b[1m23s\u001b[0m 46ms/step - accuracy: 0.8270 - loss: 0.5260 - val_accuracy: 0.8045 - val_loss: 0.5919\n",
            "Epoch 52/60\n",
            "\n",
            "Epoch 52: val_accuracy did not improve from 0.80838\n",
            "\u001b[1m500/500\u001b[0m \u001b[32m━━━━━━━━━━━━━━━━━━━━\u001b[0m\u001b[37m\u001b[0m \u001b[1m1s\u001b[0m 2ms/step - accuracy: 0.0000e+00 - loss: 0.0000e+00 - val_accuracy: 0.8045 - val_loss: 0.5919\n",
            "Epoch 53/60\n",
            "\u001b[1m499/500\u001b[0m \u001b[32m━━━━━━━━━━━━━━━━━━━\u001b[0m\u001b[37m━\u001b[0m \u001b[1m0s\u001b[0m 43ms/step - accuracy: 0.8281 - loss: 0.5234\n",
            "Epoch 53: val_accuracy did not improve from 0.80838\n",
            "\u001b[1m500/500\u001b[0m \u001b[32m━━━━━━━━━━━━━━━━━━━━\u001b[0m\u001b[37m\u001b[0m \u001b[1m23s\u001b[0m 45ms/step - accuracy: 0.8281 - loss: 0.5235 - val_accuracy: 0.8024 - val_loss: 0.6093\n",
            "Epoch 54/60\n",
            "\n",
            "Epoch 54: val_accuracy did not improve from 0.80838\n",
            "\u001b[1m500/500\u001b[0m \u001b[32m━━━━━━━━━━━━━━━━━━━━\u001b[0m\u001b[37m\u001b[0m \u001b[1m1s\u001b[0m 2ms/step - accuracy: 0.0000e+00 - loss: 0.0000e+00 - val_accuracy: 0.8024 - val_loss: 0.6093\n",
            "Epoch 55/60\n",
            "\u001b[1m500/500\u001b[0m \u001b[32m━━━━━━━━━━━━━━━━━━━━\u001b[0m\u001b[37m\u001b[0m \u001b[1m0s\u001b[0m 42ms/step - accuracy: 0.8405 - loss: 0.4920\n",
            "Epoch 55: val_accuracy did not improve from 0.80838\n",
            "\u001b[1m500/500\u001b[0m \u001b[32m━━━━━━━━━━━━━━━━━━━━\u001b[0m\u001b[37m\u001b[0m \u001b[1m22s\u001b[0m 45ms/step - accuracy: 0.8405 - loss: 0.4921 - val_accuracy: 0.8044 - val_loss: 0.6398\n",
            "Epoch 56/60\n",
            "\n",
            "Epoch 56: val_accuracy did not improve from 0.80838\n",
            "\u001b[1m500/500\u001b[0m \u001b[32m━━━━━━━━━━━━━━━━━━━━\u001b[0m\u001b[37m\u001b[0m \u001b[1m1s\u001b[0m 2ms/step - accuracy: 0.0000e+00 - loss: 0.0000e+00 - val_accuracy: 0.8044 - val_loss: 0.6398\n",
            "Epoch 57/60\n",
            "\u001b[1m499/500\u001b[0m \u001b[32m━━━━━━━━━━━━━━━━━━━\u001b[0m\u001b[37m━\u001b[0m \u001b[1m0s\u001b[0m 43ms/step - accuracy: 0.8437 - loss: 0.4809\n",
            "Epoch 57: val_accuracy did not improve from 0.80838\n",
            "\u001b[1m500/500\u001b[0m \u001b[32m━━━━━━━━━━━━━━━━━━━━\u001b[0m\u001b[37m\u001b[0m \u001b[1m23s\u001b[0m 45ms/step - accuracy: 0.8437 - loss: 0.4809 - val_accuracy: 0.8059 - val_loss: 0.6166\n",
            "Epoch 58/60\n",
            "\n",
            "Epoch 58: val_accuracy did not improve from 0.80838\n",
            "\u001b[1m500/500\u001b[0m \u001b[32m━━━━━━━━━━━━━━━━━━━━\u001b[0m\u001b[37m\u001b[0m \u001b[1m1s\u001b[0m 2ms/step - accuracy: 0.0000e+00 - loss: 0.0000e+00 - val_accuracy: 0.8059 - val_loss: 0.6166\n",
            "Epoch 59/60\n",
            "\u001b[1m499/500\u001b[0m \u001b[32m━━━━━━━━━━━━━━━━━━━\u001b[0m\u001b[37m━\u001b[0m \u001b[1m0s\u001b[0m 43ms/step - accuracy: 0.8403 - loss: 0.4902\n",
            "Epoch 59: val_accuracy did not improve from 0.80838\n",
            "\u001b[1m500/500\u001b[0m \u001b[32m━━━━━━━━━━━━━━━━━━━━\u001b[0m\u001b[37m\u001b[0m \u001b[1m40s\u001b[0m 46ms/step - accuracy: 0.8403 - loss: 0.4902 - val_accuracy: 0.8048 - val_loss: 0.6239\n",
            "Epoch 59: early stopping\n",
            "Restoring model weights from the end of the best epoch: 49.\n",
            "\u001b[1m313/313\u001b[0m \u001b[32m━━━━━━━━━━━━━━━━━━━━\u001b[0m\u001b[37m\u001b[0m \u001b[1m2s\u001b[0m 5ms/step\n",
            "\n",
            "Test accuracy: 0.8076\n",
            "Это победа!\n"
          ]
        }
      ]
    },
    {
      "cell_type": "markdown",
      "source": [
        "#Выводы\n",
        "\n",
        "**Результат:**\n",
        "\n",
        "Модель достигла точности 80.76% на тестовом наборе данных, что превосходит целевой порог 80%.\n",
        "\n",
        "**Особенности архитектуры:**\n",
        "\n",
        "Глубокая архитектура сверточных слоев позволила извлечь детальные признаки из изображений.\n",
        "\n",
        "Использование Dropout помогло снизить переобучение, особенно на полносвязных слоях.\n",
        "\n",
        "Оптимизатор Adam с маленьким learning rate (0.0003) обеспечил плавную сходимость.\n",
        "\n",
        "**Процесс обучения:**\n",
        "\n",
        "Аугментация данных увеличила разнообразие тренировочных данных, что способствовало улучшению обобщающей способности модели.\n",
        "\n",
        "Callbacks для ранней остановки и сохранения лучшей модели обеспечили оптимальный баланс между временем обучения и качеством модели.\n",
        "\n",
        "**Динамика обучения:**\n",
        "\n",
        "На начальных эпохах модель быстро улучшала точность на валидационном наборе.\n",
        "Точность стабилизировалась ближе к 50-й эпохе, и после этого модель уже не показала значительных улучшений.\n",
        "\n",
        "**Рекомендации:**\n",
        "\n",
        "Для дальнейшего улучшения точности можно попробовать увеличить размерность входных данных (например, 64x64) или использовать более сложные техники аугментации.\n",
        "\n",
        "Попробовать добавить Batch Normalization в каждую сверточную группу для еще более стабильного обучения.\n",
        "\n",
        "**Заключение:**\n",
        "\n",
        "Эксперимент подтвердил, что с текущей архитектурой, оптимизацией и использованием аугментации модель может стабильно достигать высокой точности >80% на CIFAR-10.\n",
        "\n",
        "#Это победа! 🎉\n"
      ],
      "metadata": {
        "id": "qbTfweb1L6Yt"
      }
    }
  ]
}